{
 "cells": [
  {
   "cell_type": "markdown",
   "id": "5661fe79",
   "metadata": {},
   "source": [
    "# Import Libraries"
   ]
  },
  {
   "cell_type": "code",
   "execution_count": 1,
   "id": "11708bc0",
   "metadata": {},
   "outputs": [],
   "source": [
    "import pandas as pd\n",
    "import numpy as np\n",
    "\n",
    "import matplotlib.pyplot as plt\n",
    "%matplotlib inline\n",
    "\n",
    "import seaborn as sns"
   ]
  },
  {
   "cell_type": "code",
   "execution_count": 2,
   "id": "a113add2",
   "metadata": {},
   "outputs": [],
   "source": [
    "df = pd.read_csv(\"./Datasets/data.csv\")"
   ]
  },
  {
   "cell_type": "code",
   "execution_count": 3,
   "id": "ffd89ee6",
   "metadata": {},
   "outputs": [],
   "source": [
    "df.drop(['Unnamed: 32'], axis = 'columns',inplace=True)"
   ]
  },
  {
   "cell_type": "markdown",
   "id": "45380bb1",
   "metadata": {},
   "source": [
    "# Data Pre-Processing"
   ]
  },
  {
   "cell_type": "code",
   "execution_count": 4,
   "id": "ca032e13",
   "metadata": {},
   "outputs": [],
   "source": [
    "dummy = pd.get_dummies(df['diagnosis'])\n",
    "#Concatenates the new dummy columns to the original dataframe\n",
    "df = pd.concat((df, dummy), axis = 'columns')\n",
    "#Re-names the columns that were just concatenated\n",
    "df.rename(columns={'M':'Malignant', 'B': 'Benign'}, inplace=True)\n",
    "#We will use \"Malignant\" as our label column, 1 indicating Breast Cancer positive, and 0 vice versa\n",
    "df.drop(['diagnosis','Benign'], axis = 'columns',inplace=True)"
   ]
  },
  {
   "cell_type": "code",
   "execution_count": 5,
   "id": "757e3a81",
   "metadata": {},
   "outputs": [
    {
     "data": {
      "text/html": [
       "<div>\n",
       "<style scoped>\n",
       "    .dataframe tbody tr th:only-of-type {\n",
       "        vertical-align: middle;\n",
       "    }\n",
       "\n",
       "    .dataframe tbody tr th {\n",
       "        vertical-align: top;\n",
       "    }\n",
       "\n",
       "    .dataframe thead th {\n",
       "        text-align: right;\n",
       "    }\n",
       "</style>\n",
       "<table border=\"1\" class=\"dataframe\">\n",
       "  <thead>\n",
       "    <tr style=\"text-align: right;\">\n",
       "      <th></th>\n",
       "      <th>id</th>\n",
       "      <th>radius_mean</th>\n",
       "      <th>texture_mean</th>\n",
       "      <th>perimeter_mean</th>\n",
       "      <th>area_mean</th>\n",
       "      <th>smoothness_mean</th>\n",
       "      <th>compactness_mean</th>\n",
       "      <th>concavity_mean</th>\n",
       "      <th>concave points_mean</th>\n",
       "      <th>symmetry_mean</th>\n",
       "      <th>...</th>\n",
       "      <th>texture_worst</th>\n",
       "      <th>perimeter_worst</th>\n",
       "      <th>area_worst</th>\n",
       "      <th>smoothness_worst</th>\n",
       "      <th>compactness_worst</th>\n",
       "      <th>concavity_worst</th>\n",
       "      <th>concave points_worst</th>\n",
       "      <th>symmetry_worst</th>\n",
       "      <th>fractal_dimension_worst</th>\n",
       "      <th>Malignant</th>\n",
       "    </tr>\n",
       "  </thead>\n",
       "  <tbody>\n",
       "    <tr>\n",
       "      <th>0</th>\n",
       "      <td>842302</td>\n",
       "      <td>17.99</td>\n",
       "      <td>10.38</td>\n",
       "      <td>122.80</td>\n",
       "      <td>1001.0</td>\n",
       "      <td>0.11840</td>\n",
       "      <td>0.27760</td>\n",
       "      <td>0.3001</td>\n",
       "      <td>0.14710</td>\n",
       "      <td>0.2419</td>\n",
       "      <td>...</td>\n",
       "      <td>17.33</td>\n",
       "      <td>184.60</td>\n",
       "      <td>2019.0</td>\n",
       "      <td>0.1622</td>\n",
       "      <td>0.6656</td>\n",
       "      <td>0.7119</td>\n",
       "      <td>0.2654</td>\n",
       "      <td>0.4601</td>\n",
       "      <td>0.11890</td>\n",
       "      <td>1</td>\n",
       "    </tr>\n",
       "    <tr>\n",
       "      <th>1</th>\n",
       "      <td>842517</td>\n",
       "      <td>20.57</td>\n",
       "      <td>17.77</td>\n",
       "      <td>132.90</td>\n",
       "      <td>1326.0</td>\n",
       "      <td>0.08474</td>\n",
       "      <td>0.07864</td>\n",
       "      <td>0.0869</td>\n",
       "      <td>0.07017</td>\n",
       "      <td>0.1812</td>\n",
       "      <td>...</td>\n",
       "      <td>23.41</td>\n",
       "      <td>158.80</td>\n",
       "      <td>1956.0</td>\n",
       "      <td>0.1238</td>\n",
       "      <td>0.1866</td>\n",
       "      <td>0.2416</td>\n",
       "      <td>0.1860</td>\n",
       "      <td>0.2750</td>\n",
       "      <td>0.08902</td>\n",
       "      <td>1</td>\n",
       "    </tr>\n",
       "    <tr>\n",
       "      <th>2</th>\n",
       "      <td>84300903</td>\n",
       "      <td>19.69</td>\n",
       "      <td>21.25</td>\n",
       "      <td>130.00</td>\n",
       "      <td>1203.0</td>\n",
       "      <td>0.10960</td>\n",
       "      <td>0.15990</td>\n",
       "      <td>0.1974</td>\n",
       "      <td>0.12790</td>\n",
       "      <td>0.2069</td>\n",
       "      <td>...</td>\n",
       "      <td>25.53</td>\n",
       "      <td>152.50</td>\n",
       "      <td>1709.0</td>\n",
       "      <td>0.1444</td>\n",
       "      <td>0.4245</td>\n",
       "      <td>0.4504</td>\n",
       "      <td>0.2430</td>\n",
       "      <td>0.3613</td>\n",
       "      <td>0.08758</td>\n",
       "      <td>1</td>\n",
       "    </tr>\n",
       "    <tr>\n",
       "      <th>3</th>\n",
       "      <td>84348301</td>\n",
       "      <td>11.42</td>\n",
       "      <td>20.38</td>\n",
       "      <td>77.58</td>\n",
       "      <td>386.1</td>\n",
       "      <td>0.14250</td>\n",
       "      <td>0.28390</td>\n",
       "      <td>0.2414</td>\n",
       "      <td>0.10520</td>\n",
       "      <td>0.2597</td>\n",
       "      <td>...</td>\n",
       "      <td>26.50</td>\n",
       "      <td>98.87</td>\n",
       "      <td>567.7</td>\n",
       "      <td>0.2098</td>\n",
       "      <td>0.8663</td>\n",
       "      <td>0.6869</td>\n",
       "      <td>0.2575</td>\n",
       "      <td>0.6638</td>\n",
       "      <td>0.17300</td>\n",
       "      <td>1</td>\n",
       "    </tr>\n",
       "    <tr>\n",
       "      <th>4</th>\n",
       "      <td>84358402</td>\n",
       "      <td>20.29</td>\n",
       "      <td>14.34</td>\n",
       "      <td>135.10</td>\n",
       "      <td>1297.0</td>\n",
       "      <td>0.10030</td>\n",
       "      <td>0.13280</td>\n",
       "      <td>0.1980</td>\n",
       "      <td>0.10430</td>\n",
       "      <td>0.1809</td>\n",
       "      <td>...</td>\n",
       "      <td>16.67</td>\n",
       "      <td>152.20</td>\n",
       "      <td>1575.0</td>\n",
       "      <td>0.1374</td>\n",
       "      <td>0.2050</td>\n",
       "      <td>0.4000</td>\n",
       "      <td>0.1625</td>\n",
       "      <td>0.2364</td>\n",
       "      <td>0.07678</td>\n",
       "      <td>1</td>\n",
       "    </tr>\n",
       "  </tbody>\n",
       "</table>\n",
       "<p>5 rows × 32 columns</p>\n",
       "</div>"
      ],
      "text/plain": [
       "         id  radius_mean  texture_mean  perimeter_mean  area_mean  \\\n",
       "0    842302        17.99         10.38          122.80     1001.0   \n",
       "1    842517        20.57         17.77          132.90     1326.0   \n",
       "2  84300903        19.69         21.25          130.00     1203.0   \n",
       "3  84348301        11.42         20.38           77.58      386.1   \n",
       "4  84358402        20.29         14.34          135.10     1297.0   \n",
       "\n",
       "   smoothness_mean  compactness_mean  concavity_mean  concave points_mean  \\\n",
       "0          0.11840           0.27760          0.3001              0.14710   \n",
       "1          0.08474           0.07864          0.0869              0.07017   \n",
       "2          0.10960           0.15990          0.1974              0.12790   \n",
       "3          0.14250           0.28390          0.2414              0.10520   \n",
       "4          0.10030           0.13280          0.1980              0.10430   \n",
       "\n",
       "   symmetry_mean  ...  texture_worst  perimeter_worst  area_worst  \\\n",
       "0         0.2419  ...          17.33           184.60      2019.0   \n",
       "1         0.1812  ...          23.41           158.80      1956.0   \n",
       "2         0.2069  ...          25.53           152.50      1709.0   \n",
       "3         0.2597  ...          26.50            98.87       567.7   \n",
       "4         0.1809  ...          16.67           152.20      1575.0   \n",
       "\n",
       "   smoothness_worst  compactness_worst  concavity_worst  concave points_worst  \\\n",
       "0            0.1622             0.6656           0.7119                0.2654   \n",
       "1            0.1238             0.1866           0.2416                0.1860   \n",
       "2            0.1444             0.4245           0.4504                0.2430   \n",
       "3            0.2098             0.8663           0.6869                0.2575   \n",
       "4            0.1374             0.2050           0.4000                0.1625   \n",
       "\n",
       "   symmetry_worst  fractal_dimension_worst  Malignant  \n",
       "0          0.4601                  0.11890          1  \n",
       "1          0.2750                  0.08902          1  \n",
       "2          0.3613                  0.08758          1  \n",
       "3          0.6638                  0.17300          1  \n",
       "4          0.2364                  0.07678          1  \n",
       "\n",
       "[5 rows x 32 columns]"
      ]
     },
     "execution_count": 5,
     "metadata": {},
     "output_type": "execute_result"
    }
   ],
   "source": [
    "df.head()"
   ]
  },
  {
   "cell_type": "code",
   "execution_count": 6,
   "id": "f129d582",
   "metadata": {
    "scrolled": true
   },
   "outputs": [
    {
     "data": {
      "text/plain": [
       "(569, 32)"
      ]
     },
     "execution_count": 6,
     "metadata": {},
     "output_type": "execute_result"
    }
   ],
   "source": [
    "df.shape"
   ]
  },
  {
   "cell_type": "markdown",
   "id": "cd772d42",
   "metadata": {},
   "source": [
    "# Data Preparation for Model Training"
   ]
  },
  {
   "cell_type": "code",
   "execution_count": 7,
   "id": "e9202b02",
   "metadata": {},
   "outputs": [],
   "source": [
    "from sklearn.model_selection import train_test_split\n",
    "\n",
    "#function to separate our inputs and outputs and randomizes their observations\n",
    "def split_data (features, labels, test_percent):\n",
    "    X_train, X_test, Y_train, Y_test = train_test_split(features, labels, test_size=test_percent, random_state=42)\n",
    "    return X_train, X_test, Y_train, Y_test"
   ]
  },
  {
   "cell_type": "code",
   "execution_count": 8,
   "id": "51a0b856",
   "metadata": {},
   "outputs": [],
   "source": [
    "# Separate Dataset\n",
    "X,Y = df.iloc[:,:-1], df.iloc[:,-1:]\n",
    "X_train, X_test, Y_train, Y_test = split_data(X,Y,0.2)"
   ]
  },
  {
   "cell_type": "code",
   "execution_count": 9,
   "id": "5c3e5e5b",
   "metadata": {},
   "outputs": [
    {
     "name": "stdout",
     "output_type": "stream",
     "text": [
      "(455, 31)\n",
      "(455, 1)\n",
      "(114, 31)\n",
      "(114, 1)\n"
     ]
    }
   ],
   "source": [
    "print(X_train.shape)\n",
    "print(Y_train.shape)\n",
    "print(X_test.shape)\n",
    "print(Y_test.shape)"
   ]
  },
  {
   "cell_type": "markdown",
   "id": "d367119f",
   "metadata": {},
   "source": [
    "Convert to numpy array before feeding to model"
   ]
  },
  {
   "cell_type": "code",
   "execution_count": 10,
   "id": "870c3731",
   "metadata": {},
   "outputs": [],
   "source": [
    "X_train = X_train.to_numpy(dtype='float32')\n",
    "Y_train = Y_train.to_numpy(dtype='float32')\n",
    "\n",
    "X_test = X_test.to_numpy(dtype='float32')\n",
    "Y_test = Y_test.to_numpy(dtype='float32')"
   ]
  },
  {
   "cell_type": "markdown",
   "id": "067a77e7",
   "metadata": {},
   "source": [
    "# Linear SVM Classification model "
   ]
  },
  {
   "cell_type": "markdown",
   "id": "c8422796",
   "metadata": {},
   "source": [
    "SVMs are sensitive to the feature scales, so feauture scaling is recommended"
   ]
  },
  {
   "cell_type": "code",
   "execution_count": 11,
   "id": "d823cde9",
   "metadata": {},
   "outputs": [
    {
     "data": {
      "text/plain": [
       "Pipeline(steps=[('scaler', StandardScaler()),\n",
       "                ('svm_clf', SVC(kernel='linear', random_state=1))])"
      ]
     },
     "execution_count": 11,
     "metadata": {},
     "output_type": "execute_result"
    }
   ],
   "source": [
    "from sklearn.preprocessing import StandardScaler\n",
    "from sklearn.pipeline import Pipeline\n",
    "from sklearn.svm import SVC\n",
    "\n",
    "svm_lin = Pipeline([\n",
    "    (\"scaler\", StandardScaler()),\n",
    "    (\"svm_clf\", SVC(kernel='linear', C=1.0, random_state=1))\n",
    "])\n",
    "\n",
    "svm_lin.fit(X_train, Y_train.ravel())"
   ]
  },
  {
   "cell_type": "markdown",
   "id": "3124dcc9",
   "metadata": {},
   "source": [
    "The \"C\" hyperparameter specifies the number of desired margin violations. The larger the \"C\" the less margin violations but less generalization to unseen data"
   ]
  },
  {
   "cell_type": "markdown",
   "id": "231827e8",
   "metadata": {},
   "source": [
    "# Kernel SVM's"
   ]
  },
  {
   "cell_type": "markdown",
   "id": "43439a5d",
   "metadata": {},
   "source": [
    "The basic idea behind kernel methods for dealing with such linearly inseparable data is to create nonlinear combinations of the original features to project them onto a higher-dimensional space via a mapping function ϕ, where the data becomes linearly separable"
   ]
  },
  {
   "cell_type": "markdown",
   "id": "49dd255b",
   "metadata": {},
   "source": [
    "To solve the nonlinear problem using an SVM, we would transform the training data into a higher-dimensional feature space via a mapping function, and train a linear SVM model to classify the data in this new feature space. Then we could use the same mapping function to transform the new, unseen data to classify it using the linear SVM model. Because this is very computationally expensive a \"kernel trick\" is used"
   ]
  },
  {
   "cell_type": "markdown",
   "id": "a4462410",
   "metadata": {},
   "source": [
    "### Polynomial Kernel"
   ]
  },
  {
   "cell_type": "code",
   "execution_count": 12,
   "id": "b616e039",
   "metadata": {},
   "outputs": [
    {
     "data": {
      "text/plain": [
       "Pipeline(steps=[('scaler', StandardScaler()),\n",
       "                ('svm_clf',\n",
       "                 SVC(C=5.0, coef0=1, degree=2, kernel='poly', random_state=1))])"
      ]
     },
     "execution_count": 12,
     "metadata": {},
     "output_type": "execute_result"
    }
   ],
   "source": [
    "poly_kernel_svm_clf = Pipeline([\n",
    "    (\"scaler\", StandardScaler()),\n",
    "    (\"svm_clf\", SVC(kernel=\"poly\", degree=2, coef0=1, C=5.0, random_state=1))\n",
    "])\n",
    "\n",
    "poly_kernel_svm_clf.fit(X_train, Y_train.ravel())"
   ]
  },
  {
   "cell_type": "markdown",
   "id": "27a2f402",
   "metadata": {},
   "source": [
    "The greater the degree the more the model will overfit. The parameter \"coef0\" controls how much the model is influenced by high-degree polynomials versus low-degree polynomials"
   ]
  },
  {
   "cell_type": "markdown",
   "id": "5f2b3d0c",
   "metadata": {},
   "source": [
    "### Gaussian RBF Kernel"
   ]
  },
  {
   "cell_type": "code",
   "execution_count": 13,
   "id": "789457ee",
   "metadata": {},
   "outputs": [
    {
     "data": {
      "text/plain": [
       "Pipeline(steps=[('scaler', StandardScaler()),\n",
       "                ('svm_clf', SVC(C=10.0, gamma=0.1, random_state=1))])"
      ]
     },
     "execution_count": 13,
     "metadata": {},
     "output_type": "execute_result"
    }
   ],
   "source": [
    "rbf_kernel_svm_clf = Pipeline([\n",
    "    (\"scaler\", StandardScaler()),\n",
    "    (\"svm_clf\", SVC(kernel = 'rbf', gamma = 0.10, C = 10.0, random_state = 1))\n",
    "])\n",
    "\n",
    "rbf_kernel_svm_clf.fit(X_train, Y_train.ravel())"
   ]
  },
  {
   "cell_type": "markdown",
   "id": "691f9c72",
   "metadata": {},
   "source": [
    "The gamma hyperparameter acts as a cut-off parameter for the Gaussian sphere. If its increased, we increase the influence or reach of the training examples, which leads to a tigher and bumpier decision boundary. The higher the greater the generalization error on unseen data"
   ]
  },
  {
   "cell_type": "markdown",
   "id": "7e201393",
   "metadata": {},
   "source": [
    "### Sigmoid Kernel"
   ]
  },
  {
   "cell_type": "code",
   "execution_count": 14,
   "id": "5284143a",
   "metadata": {},
   "outputs": [
    {
     "data": {
      "text/plain": [
       "Pipeline(steps=[('scaler', StandardScaler()),\n",
       "                ('svm_clf',\n",
       "                 SVC(coef0=1.0, gamma=0.1, kernel='sigmoid', random_state=1))])"
      ]
     },
     "execution_count": 14,
     "metadata": {},
     "output_type": "execute_result"
    }
   ],
   "source": [
    "sig_kernel_svm_clf = Pipeline([\n",
    "    (\"scaler\", StandardScaler()),\n",
    "    (\"svm_clf\", SVC(kernel = 'sigmoid', coef0 = 1.0, gamma = 0.1, C = 1.0, random_state = 1))\n",
    "])\n",
    "\n",
    "sig_kernel_svm_clf.fit(X_train, Y_train.ravel())"
   ]
  },
  {
   "cell_type": "markdown",
   "id": "765197a6",
   "metadata": {},
   "source": [
    "Gamma works the same as in RBF, and the \"coef0\" acts as the \"r\" parameter in the sigmoid kernel function doesn't have a very clear visual effect with small changes; the effect of the \"r\" is to shift the hyperbolic tangent.\n",
    "\n",
    "The higher positive and negative values for the 𝑟 constant dominates the result, it makes it harder for the scalar product to have an impact on the result of the function."
   ]
  },
  {
   "cell_type": "markdown",
   "id": "097f49e2",
   "metadata": {},
   "source": [
    "# SVM Predictions & Evaluations"
   ]
  },
  {
   "cell_type": "code",
   "execution_count": 15,
   "id": "12aff0c1",
   "metadata": {},
   "outputs": [],
   "source": [
    "y_pred_lin = svm_lin.predict(X_test)\n",
    "y_pred_poly = poly_kernel_svm_clf.predict(X_test)\n",
    "y_pred_rbf = rbf_kernel_svm_clf.predict(X_test)\n",
    "y_pred_sig = sig_kernel_svm_clf.predict(X_test)"
   ]
  },
  {
   "cell_type": "markdown",
   "id": "188df838",
   "metadata": {},
   "source": [
    "# Evaluation Metrics"
   ]
  },
  {
   "cell_type": "markdown",
   "id": "89973e0a",
   "metadata": {},
   "source": [
    "### Linear"
   ]
  },
  {
   "cell_type": "code",
   "execution_count": 16,
   "id": "9a206d3c",
   "metadata": {},
   "outputs": [
    {
     "data": {
      "image/png": "[encoded data removed]",
      "text/plain": [
       "<Figure size 432x288 with 2 Axes>"
      ]
     },
     "metadata": {
      "needs_background": "light"
     },
     "output_type": "display_data"
    },
    {
     "name": "stdout",
     "output_type": "stream",
     "text": [
      "              precision    recall  f1-score   support\n",
      "\n",
      "         0.0       0.97      0.96      0.96        71\n",
      "         1.0       0.93      0.95      0.94        43\n",
      "\n",
      "    accuracy                           0.96       114\n",
      "   macro avg       0.95      0.96      0.95       114\n",
      "weighted avg       0.96      0.96      0.96       114\n",
      "\n",
      "0.956140350877193\n"
     ]
    }
   ],
   "source": [
    "from sklearn.metrics import classification_report, confusion_matrix, accuracy_score\n",
    "import seaborn as sns\n",
    "\n",
    "# Linear SVM\n",
    "cf_matrix = confusion_matrix(Y_test,y_pred_lin)\n",
    "ax = sns.heatmap(cf_matrix/np.sum(cf_matrix), annot=True, \n",
    "            fmt='.2%', cmap='Reds')\n",
    "\n",
    "ax.set_title('Seaborn Confusion Matrix with labels\\n\\n');\n",
    "ax.set_xlabel('\\nPredicted Values')\n",
    "ax.set_ylabel('Actual Values ');\n",
    "\n",
    "## Ticket labels - List must be in alphabetical order\n",
    "ax.xaxis.set_ticklabels(['False','True'])\n",
    "ax.yaxis.set_ticklabels(['False','True'])\n",
    "\n",
    "## Display the visualization of the Confusion Matrix.\n",
    "plt.show()\n",
    "\n",
    "print(classification_report(Y_test,y_pred_lin))\n",
    "print(accuracy_score(Y_test,y_pred_lin))"
   ]
  },
  {
   "cell_type": "markdown",
   "id": "b8f96cd3",
   "metadata": {},
   "source": [
    "### Polynomial"
   ]
  },
  {
   "cell_type": "code",
   "execution_count": 17,
   "id": "88bfc25d",
   "metadata": {},
   "outputs": [
    {
     "name": "stdout",
     "output_type": "stream",
     "text": [
      "[[70  1]\n",
      " [ 2 41]]\n",
      "              precision    recall  f1-score   support\n",
      "\n",
      "         0.0       0.97      0.99      0.98        71\n",
      "         1.0       0.98      0.95      0.96        43\n",
      "\n",
      "    accuracy                           0.97       114\n",
      "   macro avg       0.97      0.97      0.97       114\n",
      "weighted avg       0.97      0.97      0.97       114\n",
      "\n",
      "0.9736842105263158\n"
     ]
    }
   ],
   "source": [
    "print(confusion_matrix(Y_test,y_pred_poly))\n",
    "print(classification_report(Y_test,y_pred_poly))\n",
    "print(accuracy_score(Y_test,y_pred_poly))"
   ]
  },
  {
   "cell_type": "markdown",
   "id": "ad93062f",
   "metadata": {},
   "source": [
    "### Gaussian RBF"
   ]
  },
  {
   "cell_type": "code",
   "execution_count": 18,
   "id": "a8677269",
   "metadata": {},
   "outputs": [
    {
     "name": "stdout",
     "output_type": "stream",
     "text": [
      "[[69  2]\n",
      " [ 2 41]]\n",
      "              precision    recall  f1-score   support\n",
      "\n",
      "         0.0       0.97      0.97      0.97        71\n",
      "         1.0       0.95      0.95      0.95        43\n",
      "\n",
      "    accuracy                           0.96       114\n",
      "   macro avg       0.96      0.96      0.96       114\n",
      "weighted avg       0.96      0.96      0.96       114\n",
      "\n",
      "0.9649122807017544\n"
     ]
    }
   ],
   "source": [
    "print(confusion_matrix(Y_test,y_pred_rbf))\n",
    "print(classification_report(Y_test,y_pred_rbf))\n",
    "print(accuracy_score(Y_test,y_pred_rbf))"
   ]
  },
  {
   "cell_type": "markdown",
   "id": "81b9b66e",
   "metadata": {},
   "source": [
    "### Sigmoid"
   ]
  },
  {
   "cell_type": "code",
   "execution_count": 19,
   "id": "517cbc6b",
   "metadata": {},
   "outputs": [
    {
     "name": "stdout",
     "output_type": "stream",
     "text": [
      "[[67  4]\n",
      " [ 5 38]]\n",
      "              precision    recall  f1-score   support\n",
      "\n",
      "         0.0       0.93      0.94      0.94        71\n",
      "         1.0       0.90      0.88      0.89        43\n",
      "\n",
      "    accuracy                           0.92       114\n",
      "   macro avg       0.92      0.91      0.92       114\n",
      "weighted avg       0.92      0.92      0.92       114\n",
      "\n",
      "0.9210526315789473\n"
     ]
    }
   ],
   "source": [
    "print(confusion_matrix(Y_test,y_pred_sig))\n",
    "print(classification_report(Y_test,y_pred_sig))\n",
    "print(accuracy_score(Y_test,y_pred_sig))"
   ]
  }
 ],
 "metadata": {
  "kernelspec": {
   "display_name": "Python 3 (ipykernel)",
   "language": "python",
   "name": "python3"
  },
  "language_info": {
   "codemirror_mode": {
    "name": "ipython",
    "version": 3
   },
   "file_extension": ".py",
   "mimetype": "text/x-python",
   "name": "python",
   "nbconvert_exporter": "python",
   "pygments_lexer": "ipython3",
   "version": "3.9.7"
  }
 },
 "nbformat": 4,
 "nbformat_minor": 5
}
