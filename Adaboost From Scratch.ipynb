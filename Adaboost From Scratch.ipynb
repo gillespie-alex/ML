{
 "cells": [
  {
   "cell_type": "markdown",
   "id": "08594feb",
   "metadata": {},
   "source": [
    "# Import Libraries and Dataset"
   ]
  },
  {
   "cell_type": "code",
   "execution_count": 1,
   "id": "bc678feb",
   "metadata": {},
   "outputs": [
    {
     "data": {
      "text/html": [
       "<div>\n",
       "<style scoped>\n",
       "    .dataframe tbody tr th:only-of-type {\n",
       "        vertical-align: middle;\n",
       "    }\n",
       "\n",
       "    .dataframe tbody tr th {\n",
       "        vertical-align: top;\n",
       "    }\n",
       "\n",
       "    .dataframe thead th {\n",
       "        text-align: right;\n",
       "    }\n",
       "</style>\n",
       "<table border=\"1\" class=\"dataframe\">\n",
       "  <thead>\n",
       "    <tr style=\"text-align: right;\">\n",
       "      <th></th>\n",
       "      <th>sepal.length</th>\n",
       "      <th>sepal.width</th>\n",
       "      <th>petal.length</th>\n",
       "      <th>petal.width</th>\n",
       "      <th>variety</th>\n",
       "    </tr>\n",
       "  </thead>\n",
       "  <tbody>\n",
       "    <tr>\n",
       "      <th>0</th>\n",
       "      <td>5.1</td>\n",
       "      <td>3.5</td>\n",
       "      <td>1.4</td>\n",
       "      <td>0.2</td>\n",
       "      <td>Setosa</td>\n",
       "    </tr>\n",
       "    <tr>\n",
       "      <th>1</th>\n",
       "      <td>4.9</td>\n",
       "      <td>3.0</td>\n",
       "      <td>1.4</td>\n",
       "      <td>0.2</td>\n",
       "      <td>Setosa</td>\n",
       "    </tr>\n",
       "    <tr>\n",
       "      <th>2</th>\n",
       "      <td>4.7</td>\n",
       "      <td>3.2</td>\n",
       "      <td>1.3</td>\n",
       "      <td>0.2</td>\n",
       "      <td>Setosa</td>\n",
       "    </tr>\n",
       "    <tr>\n",
       "      <th>3</th>\n",
       "      <td>4.6</td>\n",
       "      <td>3.1</td>\n",
       "      <td>1.5</td>\n",
       "      <td>0.2</td>\n",
       "      <td>Setosa</td>\n",
       "    </tr>\n",
       "    <tr>\n",
       "      <th>4</th>\n",
       "      <td>5.0</td>\n",
       "      <td>3.6</td>\n",
       "      <td>1.4</td>\n",
       "      <td>0.2</td>\n",
       "      <td>Setosa</td>\n",
       "    </tr>\n",
       "  </tbody>\n",
       "</table>\n",
       "</div>"
      ],
      "text/plain": [
       "   sepal.length  sepal.width  petal.length  petal.width variety\n",
       "0           5.1          3.5           1.4          0.2  Setosa\n",
       "1           4.9          3.0           1.4          0.2  Setosa\n",
       "2           4.7          3.2           1.3          0.2  Setosa\n",
       "3           4.6          3.1           1.5          0.2  Setosa\n",
       "4           5.0          3.6           1.4          0.2  Setosa"
      ]
     },
     "execution_count": 1,
     "metadata": {},
     "output_type": "execute_result"
    }
   ],
   "source": [
    "import pandas as pd\n",
    "import numpy as np\n",
    "from bisect import bisect_left\n",
    "\n",
    "df = pd.read_csv('~/machine_learning/ML/iris.csv')\n",
    "df.head()"
   ]
  },
  {
   "cell_type": "markdown",
   "id": "6bff661f",
   "metadata": {},
   "source": [
    "# Pre-Processing"
   ]
  },
  {
   "cell_type": "markdown",
   "id": "37a012c7",
   "metadata": {},
   "source": [
    "Change `variety` column to numeric type and then get rid of third class to make this a binary classification algorithm. Also drop various feature columns to make prediction more difficult."
   ]
  },
  {
   "cell_type": "code",
   "execution_count": 2,
   "id": "96bb8d7a",
   "metadata": {},
   "outputs": [
    {
     "data": {
      "text/html": [
       "<div>\n",
       "<style scoped>\n",
       "    .dataframe tbody tr th:only-of-type {\n",
       "        vertical-align: middle;\n",
       "    }\n",
       "\n",
       "    .dataframe tbody tr th {\n",
       "        vertical-align: top;\n",
       "    }\n",
       "\n",
       "    .dataframe thead th {\n",
       "        text-align: right;\n",
       "    }\n",
       "</style>\n",
       "<table border=\"1\" class=\"dataframe\">\n",
       "  <thead>\n",
       "    <tr style=\"text-align: right;\">\n",
       "      <th></th>\n",
       "      <th>sepal.length</th>\n",
       "      <th>variety</th>\n",
       "    </tr>\n",
       "  </thead>\n",
       "  <tbody>\n",
       "    <tr>\n",
       "      <th>15</th>\n",
       "      <td>5.7</td>\n",
       "      <td>-1</td>\n",
       "    </tr>\n",
       "    <tr>\n",
       "      <th>50</th>\n",
       "      <td>7.0</td>\n",
       "      <td>1</td>\n",
       "    </tr>\n",
       "    <tr>\n",
       "      <th>58</th>\n",
       "      <td>6.6</td>\n",
       "      <td>1</td>\n",
       "    </tr>\n",
       "    <tr>\n",
       "      <th>78</th>\n",
       "      <td>6.0</td>\n",
       "      <td>1</td>\n",
       "    </tr>\n",
       "    <tr>\n",
       "      <th>49</th>\n",
       "      <td>5.0</td>\n",
       "      <td>-1</td>\n",
       "    </tr>\n",
       "  </tbody>\n",
       "</table>\n",
       "</div>"
      ],
      "text/plain": [
       "    sepal.length  variety\n",
       "15           5.7       -1\n",
       "50           7.0        1\n",
       "58           6.6        1\n",
       "78           6.0        1\n",
       "49           5.0       -1"
      ]
     },
     "execution_count": 2,
     "metadata": {},
     "output_type": "execute_result"
    }
   ],
   "source": [
    "df['variety'] = df['variety'].map({'Setosa': -1,\n",
    "                                  'Versicolor': 1,\n",
    "                                  'Virginica':2},\n",
    "                                 na_action=None)\n",
    "\n",
    "df.drop(columns=['sepal.width', 'petal.width','petal.length'], inplace=True)\n",
    "\n",
    "df = df[df['variety'] < 2]\n",
    "df = df.sample(frac=1)\n",
    "\n",
    "df.head()"
   ]
  },
  {
   "cell_type": "markdown",
   "id": "0cd24110",
   "metadata": {},
   "source": [
    "# Base Classifier (Decision Tree Stumps)"
   ]
  },
  {
   "cell_type": "markdown",
   "id": "4d1d8632",
   "metadata": {},
   "source": [
    "### TreeNode Class\n",
    "\n",
    "\n",
    "\n",
    "#### Attributes\n",
    "+ `left`\n",
    "    + points to the tree that is less than or equal to the threshold value\n",
    "+ `right`\n",
    "    + points to the tree that is greater than the threshold value\n",
    "+ `feature`\n",
    "    + holds the feature (columns) that the data was split\n",
    "+ `threshold`\n",
    "    + holds the specific value of the feature for splitting\n",
    "+ `info_gain`\n",
    "    + information gained by the decision node\n",
    "+ `value`\n",
    "    + if TreeNode is a leaf than this holds the majority class and prediction of the leaf, otherwise `None`\n",
    "+ `observations`\n",
    "    + this holds all the observations of the leaves' data"
   ]
  },
  {
   "cell_type": "code",
   "execution_count": 3,
   "id": "eda5edfe",
   "metadata": {},
   "outputs": [],
   "source": [
    "class TreeNode():\n",
    "    def __init__(self, left=None, right=None, feature=None, threshold=None, info_gain=None, \n",
    "                 value=None, observations=None):\n",
    "        \n",
    "        self.threshold=threshold\n",
    "        self.feature=feature\n",
    "        self.right=right\n",
    "        self.left=left\n",
    "        self.info_gain=info_gain\n",
    "\n",
    "        # Used for the leaf node\n",
    "        self.value=value\n",
    "        self.observations = observations\n",
    "        "
   ]
  },
  {
   "cell_type": "markdown",
   "id": "44b765e9",
   "metadata": {},
   "source": [
    "### DecisionTree Class\n",
    "\n",
    "\n",
    "\n",
    "#### Attributes\n",
    "+ `max_depth`\n",
    "    + hperparameter to control how deep the tree is allowed to grow\n",
    "+ `alpha`\n",
    "    + this is the *amount of say* that this decision tree will have in the final prediction\n",
    "+ `root`\n",
    "    + points to the root of the DecisionTree\n",
    "    \n",
    "#### Methods\n",
    "+ `dfs_build`\n",
    "    + recursively builds the decision tree until the tree no longer contains enough samples or becomes too deep\n",
    "+ `find_best_split`\n",
    "    + Calculates all possible splits for a given dataframe and selects the feature and threshold with the largest information gain\n",
    "+ `gain_from_gini`\n",
    "    + calculates information gain from parent and children gini scores\n",
    "+ `get_gini_score`\n",
    "    + self-explanatory\n",
    "+ `leafnode_value`\n",
    "    + calculates the majority label of the given dataset and sets the TreeNode's `value` parameter to this majority label\n",
    "+ `fit`\n",
    "    + trains the decision tree classifier\n",
    "+ `predict`\n",
    "    + predicts the label of a test observation by traversing the DecisionTree until it reaches a leaf node and then outputs the leaf node's `value` attribute \n",
    "+ `set_alpha`\n",
    "    + sets the alpha value of the `DecisionTree` to be used in the Adaboost prediction method"
   ]
  },
  {
   "cell_type": "code",
   "execution_count": 4,
   "id": "842c6d60",
   "metadata": {},
   "outputs": [],
   "source": [
    "class DecisionTree():\n",
    "    def __init__(self, max_depth=1):\n",
    "        self.max_depth=max_depth\n",
    "\n",
    "        self.root=None\n",
    "        self.alpha=None\n",
    "    \n",
    "    def dfs_build(self, df, depth=0):\n",
    "        X = df.iloc[:, :-2].to_numpy()\n",
    "        Y = df.iloc[:, -2].to_numpy()\n",
    "        num_samples, _ = np.shape(X)\n",
    "        if depth < self.max_depth:\n",
    "            node_info = self.find_best_split(df)\n",
    "            if \"info_gain\" in node_info and node_info[\"info_gain\"] > 0:\n",
    "                left_subtree = self.dfs_build(node_info[\"left_df\"], depth+1)\n",
    "                right_subtree = self.dfs_build(node_info[\"right_df\"], depth+1)\n",
    "                return TreeNode(left_subtree, \n",
    "                               right_subtree, \n",
    "                               node_info[\"feature\"], \n",
    "                               node_info[\"threshold\"], \n",
    "                               node_info[\"info_gain\"])\n",
    "        leaf_value = self.leafnode_value(Y)\n",
    "        return TreeNode(value = leaf_value, observations = df)\n",
    "    \n",
    "    def find_best_split(self, df):\n",
    "        max_info_gain = -float(\"inf\")\n",
    "        TreeNode_stats = {}\n",
    "        for col_index, feature in enumerate(df.columns):\n",
    "            if col_index == len(df.columns) - 2:\n",
    "                break\n",
    "            threshold_vals = df[feature].unique()\n",
    "            for threshold in threshold_vals:\n",
    "                left_df = df[df[feature] <= threshold]\n",
    "                right_df = df[df[feature] > threshold]\n",
    "                if left_df.empty or right_df.empty:\n",
    "                    continue\n",
    "                G = self.gain_from_gini(left_df.iloc[:,-2].to_numpy(), \n",
    "                                        right_df.iloc[:,-2].to_numpy(), \n",
    "                                        df.iloc[:,-2].to_numpy(), \n",
    "                                        threshold)\n",
    "                if G > max_info_gain:\n",
    "                    max_info_gain = G\n",
    "                    TreeNode_stats[\"info_gain\"] = G\n",
    "                    TreeNode_stats[\"feature\"] = col_index \n",
    "                    TreeNode_stats[\"threshold\"] = threshold\n",
    "                    TreeNode_stats[\"left_df\"] = left_df\n",
    "                    TreeNode_stats[\"right_df\"] = right_df\n",
    "                    \n",
    "        return TreeNode_stats\n",
    "    \n",
    "    def gain_from_gini(self, left_data, right_data, labels, threshold):\n",
    "        \n",
    "        samples = len(left_data) + len(right_data)\n",
    "        weight_left = len(left_data) / samples\n",
    "        weight_right = len(right_data) / samples\n",
    "\n",
    "        parent_gini = self.get_gini_score(labels)\n",
    "        leftchild_gini = self.get_gini_score(left_data)\n",
    "        rightchild_gini = self.get_gini_score(right_data)\n",
    "\n",
    "        gain = parent_gini - ((weight_left * leftchild_gini) + (weight_right * rightchild_gini))\n",
    "        return round(gain,2)\n",
    "    \n",
    "    def get_gini_score(self, Y):\n",
    "        class_labels = np.unique(Y)\n",
    "        gini_score = 0\n",
    "        for label in class_labels:\n",
    "            label_prob = len(Y[Y == label]) / len(Y)\n",
    "            gini_score +=label_prob ** 2\n",
    "        return 1. - gini_score\n",
    "    \n",
    "    def leafnode_value(self, labels):\n",
    "        pos = 0\n",
    "        for val in labels:\n",
    "            if val > 0:\n",
    "                pos += 1\n",
    "        neg = len(labels) - pos\n",
    "        return 1 if pos >= neg else -1\n",
    "    \n",
    "    def fit(self, df):\n",
    "        self.root = self.dfs_build(df)\n",
    "        \n",
    "    def set_alpha(self, A):\n",
    "        self.alpha = A\n",
    "        \n",
    "    def predict(self, test, Tree):\n",
    "        ptr = Tree.root\n",
    "        while ptr.value is None:\n",
    "            index = ptr.feature\n",
    "            if test[index] <= ptr.threshold:\n",
    "                ptr = ptr.left\n",
    "            else:\n",
    "                ptr = ptr.right\n",
    "        return ptr.value"
   ]
  },
  {
   "cell_type": "markdown",
   "id": "66eb4f15",
   "metadata": {},
   "source": [
    "# Adaboost Classifier"
   ]
  },
  {
   "cell_type": "markdown",
   "id": "7faaef07",
   "metadata": {},
   "source": [
    "### Adaboost Class\n",
    "\n",
    "\n",
    "\n",
    "#### Attributes\n",
    "+ `num_trees`\n",
    "    + sets the number of trees that the classifier will use to predict\n",
    "+ `trees`\n",
    "    + array holding all the trees that are created (used in prediction)\n",
    "    \n",
    "#### Methods\n",
    "+ `fit`\n",
    "    + trains the Adaboost tree classifier\n",
    "+ `newly_distributed`\n",
    "    + creates a new dataframe based on the new sample weights of the previous tree's error values (selecting from a distribution of those error updated weights)\n",
    "+ `update_weights`\n",
    "    + updates the weights of the based on the error and alpha values of the `DecisionTree`\n",
    "+ `tree_alpha`\n",
    "    + calculates the alpha of the `DecisionTree` based on the errors predicted by the tree\n",
    "+ `error`\n",
    "    + calculates the error of the `TreeNode` (leaf node)\n",
    "+ `predict`\n",
    "    + makes a prediction based on the array of decision trees created and their corresponding alpha values, then essentially takes the *argmax* of the decision tree outputs except for both negative and positive values"
   ]
  },
  {
   "cell_type": "code",
   "execution_count": 5,
   "id": "a672c5d2",
   "metadata": {},
   "outputs": [],
   "source": [
    "class Adaboost():\n",
    "    def __init__(self, num_trees=100):\n",
    "        self.num_trees = num_trees\n",
    "\n",
    "        self.trees = []\n",
    "\n",
    "    def fit(self, df):\n",
    "        for _ in range(self.num_trees):\n",
    "            Tree = DecisionTree(max_depth=1)\n",
    "            Tree.fit(df)\n",
    "            A = self.tree_alpha(Tree)\n",
    "            Tree.set_alpha(A)\n",
    "            ptr = Tree.root\n",
    "            left_df = self.update_weights(ptr.left.value, Tree.alpha, ptr.left.observations)\n",
    "            right_df = self.update_weights(ptr.right.value, Tree.alpha, ptr.right.observations)\n",
    "            new_arr = np.concatenate((left_df, right_df))\n",
    "            normal = new_arr[:, -1].sum()\n",
    "            new_arr[:, -1] = new_arr[:, -1] / normal\n",
    "            new_arr = self.newly_distributed(new_arr)\n",
    "            df = pd.DataFrame(new_arr, columns = df.columns)\n",
    "            df['sample_weights'] = 1. / len(df)\n",
    "            self.trees.append(Tree)\n",
    "            \n",
    "    def newly_distributed(self, matrix):\n",
    "        running_sum = 0\n",
    "        new = empty_array = np.empty((0, 3), int)\n",
    "        for i, wt in enumerate(matrix[:, -1]):\n",
    "            matrix[i, -1] = wt + running_sum\n",
    "            running_sum += wt\n",
    "        for i in range(len(matrix)):\n",
    "            rand = np.random.uniform(low=0.0, high=1.0, size=None)\n",
    "            index = bisect_left(matrix[:, -1], rand)\n",
    "            new = np.append(new, np.array([matrix[index]]), axis=0)\n",
    "        return new\n",
    "\n",
    "    def update_weights(self, majority_label, alpha, data):\n",
    "        matrix = data.to_numpy()\n",
    "        for i, wt in enumerate(matrix[:, -1]):\n",
    "            if matrix[i, -2] == majority_label:  \n",
    "                matrix[i][-1] = wt * np.exp(-alpha)\n",
    "            else:\n",
    "                matrix[i][-1] = wt * np.exp(alpha)\n",
    "        return matrix\n",
    "    def tree_alpha(self, tree):\n",
    "        Root = tree.root\n",
    "        err = self.error(Root.left) + self.error(Root.right)\n",
    "        return 0.5 * np.log((1.0 - err) / err)\n",
    "\n",
    "    def error(self, child):\n",
    "        majority_label = child.value\n",
    "        matrix = child.observations.to_numpy()\n",
    "        targets = matrix[:, -2]\n",
    "        correct = 0\n",
    "        for target in targets:\n",
    "            if target == majority_label:\n",
    "                correct += 1\n",
    "        return (len(targets) - correct) / len(targets)\n",
    "    \n",
    "    def predict(self, df_pred):\n",
    "        predictions = df_pred.to_numpy()\n",
    "        res = []\n",
    "        for row in predictions:\n",
    "            forest_preds = []\n",
    "            for tree in self.trees:\n",
    "                pred = tree.predict(row, tree)\n",
    "                forest_preds.append(pred * tree.alpha)\n",
    "            res.append(1 if sum(forest_preds) >= 0 else -1)\n",
    "        return res"
   ]
  },
  {
   "cell_type": "markdown",
   "id": "4c400884",
   "metadata": {},
   "source": [
    "# Shuffle and Split the Dataset"
   ]
  },
  {
   "cell_type": "markdown",
   "id": "66604c17",
   "metadata": {},
   "source": [
    "Shuffle the data using pandas df methods(in reality should use scikit-learn's *train_test_split* but chose to keep the theme consistent of not using any ML libraries)"
   ]
  },
  {
   "cell_type": "code",
   "execution_count": 6,
   "id": "6014bc92",
   "metadata": {},
   "outputs": [],
   "source": [
    "# Shuffle the data and add a weights column\n",
    "train_set = df.copy().iloc[10:, ]\n",
    "test_set = df.copy().iloc[:10,]\n",
    "train_set['sample_weights'] = 1. / len(train_set)"
   ]
  },
  {
   "cell_type": "code",
   "execution_count": 7,
   "id": "ed31085e",
   "metadata": {},
   "outputs": [
    {
     "data": {
      "text/html": [
       "<div>\n",
       "<style scoped>\n",
       "    .dataframe tbody tr th:only-of-type {\n",
       "        vertical-align: middle;\n",
       "    }\n",
       "\n",
       "    .dataframe tbody tr th {\n",
       "        vertical-align: top;\n",
       "    }\n",
       "\n",
       "    .dataframe thead th {\n",
       "        text-align: right;\n",
       "    }\n",
       "</style>\n",
       "<table border=\"1\" class=\"dataframe\">\n",
       "  <thead>\n",
       "    <tr style=\"text-align: right;\">\n",
       "      <th></th>\n",
       "      <th>sepal.length</th>\n",
       "      <th>variety</th>\n",
       "      <th>sample_weights</th>\n",
       "    </tr>\n",
       "  </thead>\n",
       "  <tbody>\n",
       "    <tr>\n",
       "      <th>79</th>\n",
       "      <td>5.7</td>\n",
       "      <td>1</td>\n",
       "      <td>0.011111</td>\n",
       "    </tr>\n",
       "    <tr>\n",
       "      <th>31</th>\n",
       "      <td>5.4</td>\n",
       "      <td>-1</td>\n",
       "      <td>0.011111</td>\n",
       "    </tr>\n",
       "    <tr>\n",
       "      <th>67</th>\n",
       "      <td>5.8</td>\n",
       "      <td>1</td>\n",
       "      <td>0.011111</td>\n",
       "    </tr>\n",
       "    <tr>\n",
       "      <th>57</th>\n",
       "      <td>4.9</td>\n",
       "      <td>1</td>\n",
       "      <td>0.011111</td>\n",
       "    </tr>\n",
       "    <tr>\n",
       "      <th>60</th>\n",
       "      <td>5.0</td>\n",
       "      <td>1</td>\n",
       "      <td>0.011111</td>\n",
       "    </tr>\n",
       "  </tbody>\n",
       "</table>\n",
       "</div>"
      ],
      "text/plain": [
       "    sepal.length  variety  sample_weights\n",
       "79           5.7        1        0.011111\n",
       "31           5.4       -1        0.011111\n",
       "67           5.8        1        0.011111\n",
       "57           4.9        1        0.011111\n",
       "60           5.0        1        0.011111"
      ]
     },
     "execution_count": 7,
     "metadata": {},
     "output_type": "execute_result"
    }
   ],
   "source": [
    "train_set.head()"
   ]
  },
  {
   "cell_type": "code",
   "execution_count": 8,
   "id": "0f85bc1e",
   "metadata": {},
   "outputs": [
    {
     "data": {
      "text/html": [
       "<div>\n",
       "<style scoped>\n",
       "    .dataframe tbody tr th:only-of-type {\n",
       "        vertical-align: middle;\n",
       "    }\n",
       "\n",
       "    .dataframe tbody tr th {\n",
       "        vertical-align: top;\n",
       "    }\n",
       "\n",
       "    .dataframe thead th {\n",
       "        text-align: right;\n",
       "    }\n",
       "</style>\n",
       "<table border=\"1\" class=\"dataframe\">\n",
       "  <thead>\n",
       "    <tr style=\"text-align: right;\">\n",
       "      <th></th>\n",
       "      <th>sepal.length</th>\n",
       "      <th>variety</th>\n",
       "    </tr>\n",
       "  </thead>\n",
       "  <tbody>\n",
       "    <tr>\n",
       "      <th>15</th>\n",
       "      <td>5.7</td>\n",
       "      <td>-1</td>\n",
       "    </tr>\n",
       "    <tr>\n",
       "      <th>50</th>\n",
       "      <td>7.0</td>\n",
       "      <td>1</td>\n",
       "    </tr>\n",
       "    <tr>\n",
       "      <th>58</th>\n",
       "      <td>6.6</td>\n",
       "      <td>1</td>\n",
       "    </tr>\n",
       "    <tr>\n",
       "      <th>78</th>\n",
       "      <td>6.0</td>\n",
       "      <td>1</td>\n",
       "    </tr>\n",
       "    <tr>\n",
       "      <th>49</th>\n",
       "      <td>5.0</td>\n",
       "      <td>-1</td>\n",
       "    </tr>\n",
       "  </tbody>\n",
       "</table>\n",
       "</div>"
      ],
      "text/plain": [
       "    sepal.length  variety\n",
       "15           5.7       -1\n",
       "50           7.0        1\n",
       "58           6.6        1\n",
       "78           6.0        1\n",
       "49           5.0       -1"
      ]
     },
     "execution_count": 8,
     "metadata": {},
     "output_type": "execute_result"
    }
   ],
   "source": [
    "test_set.head()"
   ]
  },
  {
   "cell_type": "markdown",
   "id": "5dc478a5",
   "metadata": {},
   "source": [
    "# Train the Classifier"
   ]
  },
  {
   "cell_type": "code",
   "execution_count": 9,
   "id": "e7384181",
   "metadata": {},
   "outputs": [],
   "source": [
    "classifier = Adaboost(num_trees = 10)\n",
    "classifier.fit(train_set)"
   ]
  },
  {
   "cell_type": "markdown",
   "id": "a429781f",
   "metadata": {},
   "source": [
    "# Make Predictions"
   ]
  },
  {
   "cell_type": "code",
   "execution_count": 30,
   "id": "f75a15a3",
   "metadata": {},
   "outputs": [],
   "source": [
    "preds = classifier.predict(test_set)\n",
    "targs = test_set['variety'].to_numpy()"
   ]
  },
  {
   "cell_type": "code",
   "execution_count": 31,
   "id": "b74dbae8",
   "metadata": {},
   "outputs": [
    {
     "name": "stdout",
     "output_type": "stream",
     "text": [
      "0.9\n"
     ]
    }
   ],
   "source": [
    "def accuracy(preds, targs):\n",
    "    running_sum = 0\n",
    "    for prediction, target in zip(preds, targs):\n",
    "        if prediction == target:\n",
    "            running_sum += 1\n",
    "    return float(running_sum) / len(targs)\n",
    "\n",
    "print(accuracy(preds, targs))"
   ]
  },
  {
   "cell_type": "markdown",
   "id": "9404a0f9",
   "metadata": {},
   "source": [
    "# Compare with Scikit-Learn Adaboost Implementation"
   ]
  },
  {
   "cell_type": "code",
   "execution_count": 10,
   "id": "58523cea",
   "metadata": {},
   "outputs": [],
   "source": [
    "from sklearn.ensemble import AdaBoostClassifier\n",
    "from sklearn import metrics"
   ]
  },
  {
   "cell_type": "code",
   "execution_count": 11,
   "id": "cb1f5405",
   "metadata": {},
   "outputs": [],
   "source": [
    "AdaModel = AdaBoostClassifier(n_estimators=10, random_state=1)"
   ]
  },
  {
   "cell_type": "code",
   "execution_count": 22,
   "id": "2d09ac34",
   "metadata": {},
   "outputs": [],
   "source": [
    "feat = train_set.iloc[:, 0].to_numpy().reshape(-1, 1)\n",
    "lab = train_set.iloc[:, 1].to_numpy()\n",
    "\n",
    "test_feat = test_set.iloc[:, 0].to_numpy().reshape(-1,1)"
   ]
  },
  {
   "cell_type": "code",
   "execution_count": 20,
   "id": "82fb876e",
   "metadata": {},
   "outputs": [],
   "source": [
    "model = AdaModel.fit(feat, lab)"
   ]
  },
  {
   "cell_type": "code",
   "execution_count": 23,
   "id": "1e2802a1",
   "metadata": {},
   "outputs": [],
   "source": [
    "y_pred = model.predict(test_feat)"
   ]
  },
  {
   "cell_type": "code",
   "execution_count": 25,
   "id": "dd8ce59a",
   "metadata": {},
   "outputs": [
    {
     "data": {
      "text/plain": [
       "array([-1,  1,  1,  1, -1, -1, -1, -1, -1,  1])"
      ]
     },
     "execution_count": 25,
     "metadata": {},
     "output_type": "execute_result"
    }
   ],
   "source": [
    "test_lab = test_set.iloc[:, 1].to_numpy()\n",
    "test_lab"
   ]
  },
  {
   "cell_type": "code",
   "execution_count": 29,
   "id": "34e2f0d5",
   "metadata": {},
   "outputs": [
    {
     "name": "stdout",
     "output_type": "stream",
     "text": [
      "Accuracy: 0.9\n"
     ]
    }
   ],
   "source": [
    "# Model Accuracy\n",
    "print(f\"Accuracy: {metrics.accuracy_score(test_lab, y_pred)}\")"
   ]
  }
 ],
 "metadata": {
  "kernelspec": {
   "display_name": "Python 3 (ipykernel)",
   "language": "python",
   "name": "python3"
  },
  "language_info": {
   "codemirror_mode": {
    "name": "ipython",
    "version": 3
   },
   "file_extension": ".py",
   "mimetype": "text/x-python",
   "name": "python",
   "nbconvert_exporter": "python",
   "pygments_lexer": "ipython3",
   "version": "3.9.7"
  }
 },
 "nbformat": 4,
 "nbformat_minor": 5
}
