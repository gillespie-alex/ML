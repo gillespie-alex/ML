{
 "cells": [
  {
   "cell_type": "markdown",
   "id": "079b473f",
   "metadata": {},
   "source": [
    "# Import Libraries and Dataset"
   ]
  },
  {
   "cell_type": "code",
   "execution_count": 34,
   "id": "bcd23254",
   "metadata": {
    "scrolled": true
   },
   "outputs": [
    {
     "data": {
      "text/html": [
       "<div>\n",
       "<style scoped>\n",
       "    .dataframe tbody tr th:only-of-type {\n",
       "        vertical-align: middle;\n",
       "    }\n",
       "\n",
       "    .dataframe tbody tr th {\n",
       "        vertical-align: top;\n",
       "    }\n",
       "\n",
       "    .dataframe thead th {\n",
       "        text-align: right;\n",
       "    }\n",
       "</style>\n",
       "<table border=\"1\" class=\"dataframe\">\n",
       "  <thead>\n",
       "    <tr style=\"text-align: right;\">\n",
       "      <th></th>\n",
       "      <th>Id</th>\n",
       "      <th>SepalLengthCm</th>\n",
       "      <th>SepalWidthCm</th>\n",
       "      <th>PetalLengthCm</th>\n",
       "      <th>PetalWidthCm</th>\n",
       "      <th>Species</th>\n",
       "    </tr>\n",
       "  </thead>\n",
       "  <tbody>\n",
       "    <tr>\n",
       "      <th>0</th>\n",
       "      <td>1</td>\n",
       "      <td>5.1</td>\n",
       "      <td>3.5</td>\n",
       "      <td>1.4</td>\n",
       "      <td>0.2</td>\n",
       "      <td>Iris-setosa</td>\n",
       "    </tr>\n",
       "    <tr>\n",
       "      <th>1</th>\n",
       "      <td>2</td>\n",
       "      <td>4.9</td>\n",
       "      <td>3.0</td>\n",
       "      <td>1.4</td>\n",
       "      <td>0.2</td>\n",
       "      <td>Iris-setosa</td>\n",
       "    </tr>\n",
       "    <tr>\n",
       "      <th>2</th>\n",
       "      <td>3</td>\n",
       "      <td>4.7</td>\n",
       "      <td>3.2</td>\n",
       "      <td>1.3</td>\n",
       "      <td>0.2</td>\n",
       "      <td>Iris-setosa</td>\n",
       "    </tr>\n",
       "    <tr>\n",
       "      <th>3</th>\n",
       "      <td>4</td>\n",
       "      <td>4.6</td>\n",
       "      <td>3.1</td>\n",
       "      <td>1.5</td>\n",
       "      <td>0.2</td>\n",
       "      <td>Iris-setosa</td>\n",
       "    </tr>\n",
       "    <tr>\n",
       "      <th>4</th>\n",
       "      <td>5</td>\n",
       "      <td>5.0</td>\n",
       "      <td>3.6</td>\n",
       "      <td>1.4</td>\n",
       "      <td>0.2</td>\n",
       "      <td>Iris-setosa</td>\n",
       "    </tr>\n",
       "  </tbody>\n",
       "</table>\n",
       "</div>"
      ],
      "text/plain": [
       "   Id  SepalLengthCm  SepalWidthCm  PetalLengthCm  PetalWidthCm      Species\n",
       "0   1            5.1           3.5            1.4           0.2  Iris-setosa\n",
       "1   2            4.9           3.0            1.4           0.2  Iris-setosa\n",
       "2   3            4.7           3.2            1.3           0.2  Iris-setosa\n",
       "3   4            4.6           3.1            1.5           0.2  Iris-setosa\n",
       "4   5            5.0           3.6            1.4           0.2  Iris-setosa"
      ]
     },
     "execution_count": 34,
     "metadata": {},
     "output_type": "execute_result"
    }
   ],
   "source": [
    "import pandas as pd\n",
    "import numpy as np\n",
    "\n",
    "df = pd.read_csv('~/machine_learning/Iris.csv')\n",
    "df.head()"
   ]
  },
  {
   "cell_type": "markdown",
   "id": "6476a839",
   "metadata": {},
   "source": [
    "Change `Species` column to numeric type and drop a columns to make prediction more difficult"
   ]
  },
  {
   "cell_type": "code",
   "execution_count": 35,
   "id": "52e55086",
   "metadata": {},
   "outputs": [
    {
     "data": {
      "text/html": [
       "<div>\n",
       "<style scoped>\n",
       "    .dataframe tbody tr th:only-of-type {\n",
       "        vertical-align: middle;\n",
       "    }\n",
       "\n",
       "    .dataframe tbody tr th {\n",
       "        vertical-align: top;\n",
       "    }\n",
       "\n",
       "    .dataframe thead th {\n",
       "        text-align: right;\n",
       "    }\n",
       "</style>\n",
       "<table border=\"1\" class=\"dataframe\">\n",
       "  <thead>\n",
       "    <tr style=\"text-align: right;\">\n",
       "      <th></th>\n",
       "      <th>Id</th>\n",
       "      <th>SepalLengthCm</th>\n",
       "      <th>SepalWidthCm</th>\n",
       "      <th>Species</th>\n",
       "    </tr>\n",
       "  </thead>\n",
       "  <tbody>\n",
       "    <tr>\n",
       "      <th>0</th>\n",
       "      <td>1</td>\n",
       "      <td>5.1</td>\n",
       "      <td>3.5</td>\n",
       "      <td>0</td>\n",
       "    </tr>\n",
       "    <tr>\n",
       "      <th>1</th>\n",
       "      <td>2</td>\n",
       "      <td>4.9</td>\n",
       "      <td>3.0</td>\n",
       "      <td>0</td>\n",
       "    </tr>\n",
       "    <tr>\n",
       "      <th>2</th>\n",
       "      <td>3</td>\n",
       "      <td>4.7</td>\n",
       "      <td>3.2</td>\n",
       "      <td>0</td>\n",
       "    </tr>\n",
       "    <tr>\n",
       "      <th>3</th>\n",
       "      <td>4</td>\n",
       "      <td>4.6</td>\n",
       "      <td>3.1</td>\n",
       "      <td>0</td>\n",
       "    </tr>\n",
       "    <tr>\n",
       "      <th>4</th>\n",
       "      <td>5</td>\n",
       "      <td>5.0</td>\n",
       "      <td>3.6</td>\n",
       "      <td>0</td>\n",
       "    </tr>\n",
       "  </tbody>\n",
       "</table>\n",
       "</div>"
      ],
      "text/plain": [
       "   Id  SepalLengthCm  SepalWidthCm  Species\n",
       "0   1            5.1           3.5        0\n",
       "1   2            4.9           3.0        0\n",
       "2   3            4.7           3.2        0\n",
       "3   4            4.6           3.1        0\n",
       "4   5            5.0           3.6        0"
      ]
     },
     "execution_count": 35,
     "metadata": {},
     "output_type": "execute_result"
    }
   ],
   "source": [
    "df['Species'] = df['Species'].map({'Iris-setosa': 0,\n",
    "                                  'Iris-versicolor': 1,\n",
    "                                  'Iris-virginica':2},\n",
    "                                 na_action=None)\n",
    "df.drop(columns=['PetalWidthCm','PetalLengthCm'], inplace=True)\n",
    "df.head()"
   ]
  },
  {
   "cell_type": "markdown",
   "id": "44381d12",
   "metadata": {},
   "source": [
    "# Decision Tree from Scratch"
   ]
  },
  {
   "cell_type": "markdown",
   "id": "cfad2663",
   "metadata": {},
   "source": [
    "### TreeNode Class\n",
    "\n",
    "\n",
    "\n",
    "#### Attributes\n",
    "+ `left`\n",
    "    + points to the tree that is less than or equal to the threshold value\n",
    "+ `right`\n",
    "    + points to the tree that is greater than the threshold value\n",
    "+ `feature`\n",
    "    + holds the feature (columns) that the data was split\n",
    "+ `threshold`\n",
    "    + holds the specific value of the feature for splitting\n",
    "+ `info_gain`\n",
    "    + information gained by the decision node\n",
    "+ `value`\n",
    "    + if TreeNode is a leaf than this holds the majority class and prediction of the leaf, otherwise `None`"
   ]
  },
  {
   "cell_type": "code",
   "execution_count": 36,
   "id": "caca6a34",
   "metadata": {},
   "outputs": [],
   "source": [
    "class TreeNode():\n",
    "    def __init__(self, left=None, right=None, feature=None, threshold=None, info_gain=None, value=None):\n",
    "        self.threshold=threshold\n",
    "        self.feature=feature\n",
    "        self.right=right\n",
    "        self.left=left\n",
    "        self.info_gain=info_gain\n",
    "\n",
    "        # Used for the leaf node\n",
    "        self.value=value\n"
   ]
  },
  {
   "cell_type": "markdown",
   "id": "1dc3f548",
   "metadata": {},
   "source": [
    "### DecisionTree Class\n",
    "\n",
    "\n",
    "\n",
    "#### Attributes\n",
    "+ `max_depth`\n",
    "    + hperparameter to control how deep the tree is allowed to grow\n",
    "+ `min_samples_split`\n",
    "    + a node must contain at least a certain number of samples in it to make the split, otherwise the node will become a leaf node\n",
    "+ `root`\n",
    "    + points to the root of the DecisionTree\n",
    "    \n",
    "#### Methods\n",
    "+ `dfs_build`\n",
    "    + recursively builds the decision tree until the tree no longer contains enough samples or becomes too deep\n",
    "+ `find_best_split`\n",
    "    + Calculates all possible splits for a given dataframe and selects the feature and threshold with the largest information gain\n",
    "+ `gain_from_gini`\n",
    "    + calculates information gain from parent and children gini scores\n",
    "+ `get_gini_score`\n",
    "    + self-explanatory\n",
    "+ `leafnode_value`\n",
    "    + calculates the majority label of the given dataset and sets the TreeNode's `value` parameter to this majority label\n",
    "+ `fit`\n",
    "    + trains the decision tree classifier\n",
    "+ `predict`\n",
    "    + predicts the label of a test observation by traversing the DecisionTree until it reaches a leaf node and then outputs the leaf node's `value` attribute"
   ]
  },
  {
   "cell_type": "code",
   "execution_count": 44,
   "id": "8099e551",
   "metadata": {},
   "outputs": [],
   "source": [
    "class DecisionTree():\n",
    "    def __init__(self, max_depth=None, min_samples_split=None):\n",
    "        self.max_depth=max_depth\n",
    "        self.min_samples_split=min_samples_split\n",
    "\n",
    "        self.root=None        \n",
    "        \n",
    "    def dfs_build(self, df, depth=0):\n",
    "        X = df.iloc[:, :-1].to_numpy()\n",
    "        Y = df.iloc[:, -1].to_numpy()\n",
    "        num_samples, _ = np.shape(X)\n",
    "        if num_samples >= self.min_samples_split and depth <= self.max_depth:\n",
    "            node_info = self.find_best_split(df)\n",
    "            if \"info_gain\" in node_info and node_info[\"info_gain\"] > 0:\n",
    "                left_subtree = self.dfs_build(node_info[\"left_df\"], depth+1)\n",
    "                right_subtree = self.dfs_build(node_info[\"right_df\"], depth+1)\n",
    "                return TreeNode(left_subtree, \n",
    "                               right_subtree, \n",
    "                               node_info[\"feature\"], \n",
    "                               node_info[\"threshold\"], \n",
    "                               node_info[\"info_gain\"])\n",
    "        leaf_value = self.leafnode_value(Y)\n",
    "        return TreeNode(value = leaf_value)\n",
    "        \n",
    "    def find_best_split(self, df):\n",
    "        max_info_gain = -float(\"inf\")\n",
    "        TreeNode_stats = {}\n",
    "        for col_index, feature in enumerate(df.columns):\n",
    "            if col_index == len(df.columns) - 1:\n",
    "                break\n",
    "            threshold_vals = df[feature].unique()\n",
    "            for threshold in threshold_vals:\n",
    "                left_df = df[df[feature] <= threshold]\n",
    "                right_df = df[df[feature] > threshold]\n",
    "                if left_df.empty or right_df.empty:\n",
    "                    continue\n",
    "                G = self.gain_from_gini(left_df.iloc[:,-1].to_numpy(), \n",
    "                                        right_df.iloc[:,-1].to_numpy(), \n",
    "                                        df.iloc[:,-1].to_numpy(), \n",
    "                                        threshold)\n",
    "                if G > max_info_gain:\n",
    "                    max_info_gain = G\n",
    "                    TreeNode_stats[\"info_gain\"] = G\n",
    "                    TreeNode_stats[\"feature\"] = col_index \n",
    "                    TreeNode_stats[\"threshold\"] = threshold\n",
    "                    TreeNode_stats[\"left_df\"] = left_df\n",
    "                    TreeNode_stats[\"right_df\"] = right_df\n",
    "                    \n",
    "        return TreeNode_stats\n",
    "    \n",
    "    def gain_from_gini(self, left_data, right_data, labels, threshold):\n",
    "        \n",
    "        samples = len(left_data) + len(right_data)\n",
    "        weight_left = len(left_data) / samples\n",
    "        weight_right = len(right_data) / samples\n",
    "\n",
    "        parent_gini = self.get_gini_score(labels)\n",
    "        leftchild_gini = self.get_gini_score(left_data)\n",
    "        rightchild_gini = self.get_gini_score(right_data)\n",
    "\n",
    "        gain = parent_gini - ((weight_left * leftchild_gini) + (weight_right * rightchild_gini))\n",
    "        return round(gain,2)\n",
    "\n",
    "    def get_gini_score(self, Y):\n",
    "        class_labels = np.unique(Y)\n",
    "        gini_score = 0\n",
    "        for label in class_labels:\n",
    "            label_prob = len(Y[Y == label]) / len(Y)\n",
    "            gini_score +=label_prob ** 2\n",
    "        return 1. - gini_score\n",
    "    \n",
    "    def leafnode_value(self, labels):\n",
    "        counts = np.bincount(labels)\n",
    "        return np.argmax(counts)\n",
    "    \n",
    "    def fit(self, dataframe):\n",
    "        self.root = self.dfs_build(dataframe)\n",
    "        \n",
    "    def predict(self, test_set):\n",
    "        test = test_set.to_numpy()\n",
    "        results = []\n",
    "        for row in test:\n",
    "            ptr = self.root\n",
    "            while ptr.value is None:\n",
    "                index = ptr.feature\n",
    "                if row[index] <= ptr.threshold:\n",
    "                    ptr = ptr.left\n",
    "                else:\n",
    "                    ptr = ptr.right\n",
    "            results.append(ptr.value)\n",
    "        return results"
   ]
  },
  {
   "cell_type": "markdown",
   "id": "5cbc9332",
   "metadata": {},
   "source": [
    "# Shuffle and Split the Dataset"
   ]
  },
  {
   "cell_type": "code",
   "execution_count": 45,
   "id": "a262bbdf",
   "metadata": {},
   "outputs": [
    {
     "data": {
      "text/html": [
       "<div>\n",
       "<style scoped>\n",
       "    .dataframe tbody tr th:only-of-type {\n",
       "        vertical-align: middle;\n",
       "    }\n",
       "\n",
       "    .dataframe tbody tr th {\n",
       "        vertical-align: top;\n",
       "    }\n",
       "\n",
       "    .dataframe thead th {\n",
       "        text-align: right;\n",
       "    }\n",
       "</style>\n",
       "<table border=\"1\" class=\"dataframe\">\n",
       "  <thead>\n",
       "    <tr style=\"text-align: right;\">\n",
       "      <th></th>\n",
       "      <th>Id</th>\n",
       "      <th>SepalLengthCm</th>\n",
       "      <th>SepalWidthCm</th>\n",
       "      <th>Species</th>\n",
       "    </tr>\n",
       "  </thead>\n",
       "  <tbody>\n",
       "    <tr>\n",
       "      <th>90</th>\n",
       "      <td>91</td>\n",
       "      <td>5.5</td>\n",
       "      <td>2.6</td>\n",
       "      <td>1</td>\n",
       "    </tr>\n",
       "    <tr>\n",
       "      <th>41</th>\n",
       "      <td>42</td>\n",
       "      <td>4.5</td>\n",
       "      <td>2.3</td>\n",
       "      <td>0</td>\n",
       "    </tr>\n",
       "    <tr>\n",
       "      <th>123</th>\n",
       "      <td>124</td>\n",
       "      <td>6.3</td>\n",
       "      <td>2.7</td>\n",
       "      <td>2</td>\n",
       "    </tr>\n",
       "    <tr>\n",
       "      <th>115</th>\n",
       "      <td>116</td>\n",
       "      <td>6.4</td>\n",
       "      <td>3.2</td>\n",
       "      <td>2</td>\n",
       "    </tr>\n",
       "    <tr>\n",
       "      <th>132</th>\n",
       "      <td>133</td>\n",
       "      <td>6.4</td>\n",
       "      <td>2.8</td>\n",
       "      <td>2</td>\n",
       "    </tr>\n",
       "  </tbody>\n",
       "</table>\n",
       "</div>"
      ],
      "text/plain": [
       "      Id  SepalLengthCm  SepalWidthCm  Species\n",
       "90    91            5.5           2.6        1\n",
       "41    42            4.5           2.3        0\n",
       "123  124            6.3           2.7        2\n",
       "115  116            6.4           3.2        2\n",
       "132  133            6.4           2.8        2"
      ]
     },
     "execution_count": 45,
     "metadata": {},
     "output_type": "execute_result"
    }
   ],
   "source": [
    "shuffled = df.sample(frac=1)\n",
    "shuffled.head()"
   ]
  },
  {
   "cell_type": "code",
   "execution_count": 46,
   "id": "4b9639fd",
   "metadata": {},
   "outputs": [],
   "source": [
    "length, _ = shuffled.shape\n",
    "part = int(length * 0.2)\n",
    "test_set = shuffled.iloc[:part, :]\n",
    "train_set = shuffled.iloc[part:, :]"
   ]
  },
  {
   "cell_type": "markdown",
   "id": "f1289df4",
   "metadata": {},
   "source": [
    "# Train the Classifier"
   ]
  },
  {
   "cell_type": "code",
   "execution_count": 47,
   "id": "68853641",
   "metadata": {},
   "outputs": [],
   "source": [
    "classifier = DecisionTree(max_depth=2, min_samples_split=3)\n",
    "classifier.fit(train_set)"
   ]
  },
  {
   "cell_type": "markdown",
   "id": "ac7b6138",
   "metadata": {},
   "source": [
    "# Make Predictions"
   ]
  },
  {
   "cell_type": "code",
   "execution_count": 48,
   "id": "a753c791",
   "metadata": {},
   "outputs": [],
   "source": [
    "preds = classifier.predict(test_set)"
   ]
  },
  {
   "cell_type": "code",
   "execution_count": 49,
   "id": "fe7c5c3e",
   "metadata": {},
   "outputs": [],
   "source": [
    "targs = test_set['Species'].to_numpy()"
   ]
  },
  {
   "cell_type": "code",
   "execution_count": 50,
   "id": "771b42db",
   "metadata": {},
   "outputs": [
    {
     "name": "stdout",
     "output_type": "stream",
     "text": [
      "0.9666666666666667\n"
     ]
    }
   ],
   "source": [
    "def accuracy(preds, targs):\n",
    "    running_sum = 0\n",
    "    for prediction, target in zip(preds, targs):\n",
    "        if prediction == target:\n",
    "            running_sum += 1\n",
    "    return float(running_sum) / len(targs)\n",
    "\n",
    "print(accuracy(preds, targs))"
   ]
  },
  {
   "cell_type": "markdown",
   "id": "558714e9",
   "metadata": {},
   "source": [
    "# Compare with Scikit Learn Decision Tree Classifier"
   ]
  },
  {
   "cell_type": "code",
   "execution_count": 51,
   "id": "0c13c064",
   "metadata": {},
   "outputs": [],
   "source": [
    "from sklearn.metrics import accuracy_score\n",
    "from sklearn.model_selection import train_test_split\n",
    "from sklearn.tree import DecisionTreeClassifier"
   ]
  },
  {
   "cell_type": "code",
   "execution_count": 52,
   "id": "80bf6c40",
   "metadata": {},
   "outputs": [],
   "source": [
    "features = train_set.iloc[:, :-1]\n",
    "labels = train_set.iloc[:, -1]"
   ]
  },
  {
   "cell_type": "code",
   "execution_count": 53,
   "id": "115a9360",
   "metadata": {},
   "outputs": [
    {
     "data": {
      "text/html": [
       "<style>#sk-container-id-1 {color: black;background-color: white;}#sk-container-id-1 pre{padding: 0;}#sk-container-id-1 div.sk-toggleable {background-color: white;}#sk-container-id-1 label.sk-toggleable__label {cursor: pointer;display: block;width: 100%;margin-bottom: 0;padding: 0.3em;box-sizing: border-box;text-align: center;}#sk-container-id-1 label.sk-toggleable__label-arrow:before {content: \"▸\";float: left;margin-right: 0.25em;color: #696969;}#sk-container-id-1 label.sk-toggleable__label-arrow:hover:before {color: black;}#sk-container-id-1 div.sk-estimator:hover label.sk-toggleable__label-arrow:before {color: black;}#sk-container-id-1 div.sk-toggleable__content {max-height: 0;max-width: 0;overflow: hidden;text-align: left;background-color: #f0f8ff;}#sk-container-id-1 div.sk-toggleable__content pre {margin: 0.2em;color: black;border-radius: 0.25em;background-color: #f0f8ff;}#sk-container-id-1 input.sk-toggleable__control:checked~div.sk-toggleable__content {max-height: 200px;max-width: 100%;overflow: auto;}#sk-container-id-1 input.sk-toggleable__control:checked~label.sk-toggleable__label-arrow:before {content: \"▾\";}#sk-container-id-1 div.sk-estimator input.sk-toggleable__control:checked~label.sk-toggleable__label {background-color: #d4ebff;}#sk-container-id-1 div.sk-label input.sk-toggleable__control:checked~label.sk-toggleable__label {background-color: #d4ebff;}#sk-container-id-1 input.sk-hidden--visually {border: 0;clip: rect(1px 1px 1px 1px);clip: rect(1px, 1px, 1px, 1px);height: 1px;margin: -1px;overflow: hidden;padding: 0;position: absolute;width: 1px;}#sk-container-id-1 div.sk-estimator {font-family: monospace;background-color: #f0f8ff;border: 1px dotted black;border-radius: 0.25em;box-sizing: border-box;margin-bottom: 0.5em;}#sk-container-id-1 div.sk-estimator:hover {background-color: #d4ebff;}#sk-container-id-1 div.sk-parallel-item::after {content: \"\";width: 100%;border-bottom: 1px solid gray;flex-grow: 1;}#sk-container-id-1 div.sk-label:hover label.sk-toggleable__label {background-color: #d4ebff;}#sk-container-id-1 div.sk-serial::before {content: \"\";position: absolute;border-left: 1px solid gray;box-sizing: border-box;top: 0;bottom: 0;left: 50%;z-index: 0;}#sk-container-id-1 div.sk-serial {display: flex;flex-direction: column;align-items: center;background-color: white;padding-right: 0.2em;padding-left: 0.2em;position: relative;}#sk-container-id-1 div.sk-item {position: relative;z-index: 1;}#sk-container-id-1 div.sk-parallel {display: flex;align-items: stretch;justify-content: center;background-color: white;position: relative;}#sk-container-id-1 div.sk-item::before, #sk-container-id-1 div.sk-parallel-item::before {content: \"\";position: absolute;border-left: 1px solid gray;box-sizing: border-box;top: 0;bottom: 0;left: 50%;z-index: -1;}#sk-container-id-1 div.sk-parallel-item {display: flex;flex-direction: column;z-index: 1;position: relative;background-color: white;}#sk-container-id-1 div.sk-parallel-item:first-child::after {align-self: flex-end;width: 50%;}#sk-container-id-1 div.sk-parallel-item:last-child::after {align-self: flex-start;width: 50%;}#sk-container-id-1 div.sk-parallel-item:only-child::after {width: 0;}#sk-container-id-1 div.sk-dashed-wrapped {border: 1px dashed gray;margin: 0 0.4em 0.5em 0.4em;box-sizing: border-box;padding-bottom: 0.4em;background-color: white;}#sk-container-id-1 div.sk-label label {font-family: monospace;font-weight: bold;display: inline-block;line-height: 1.2em;}#sk-container-id-1 div.sk-label-container {text-align: center;}#sk-container-id-1 div.sk-container {/* jupyter's `normalize.less` sets `[hidden] { display: none; }` but bootstrap.min.css set `[hidden] { display: none !important; }` so we also need the `!important` here to be able to override the default hidden behavior on the sphinx rendered scikit-learn.org. See: https://github.com/scikit-learn/scikit-learn/issues/21755 */display: inline-block !important;position: relative;}#sk-container-id-1 div.sk-text-repr-fallback {display: none;}</style><div id=\"sk-container-id-1\" class=\"sk-top-container\"><div class=\"sk-text-repr-fallback\"><pre>DecisionTreeClassifier(max_depth=2, min_samples_leaf=3)</pre><b>In a Jupyter environment, please rerun this cell to show the HTML representation or trust the notebook. <br />On GitHub, the HTML representation is unable to render, please try loading this page with nbviewer.org.</b></div><div class=\"sk-container\" hidden><div class=\"sk-item\"><div class=\"sk-estimator sk-toggleable\"><input class=\"sk-toggleable__control sk-hidden--visually\" id=\"sk-estimator-id-1\" type=\"checkbox\" checked><label for=\"sk-estimator-id-1\" class=\"sk-toggleable__label sk-toggleable__label-arrow\">DecisionTreeClassifier</label><div class=\"sk-toggleable__content\"><pre>DecisionTreeClassifier(max_depth=2, min_samples_leaf=3)</pre></div></div></div></div></div>"
      ],
      "text/plain": [
       "DecisionTreeClassifier(max_depth=2, min_samples_leaf=3)"
      ]
     },
     "execution_count": 53,
     "metadata": {},
     "output_type": "execute_result"
    }
   ],
   "source": [
    "sklearn_classifier = DecisionTreeClassifier(min_samples_leaf=3,max_depth=2)\n",
    "sklearn_classifier.fit(features.to_numpy(), labels.to_numpy())"
   ]
  },
  {
   "cell_type": "code",
   "execution_count": 54,
   "id": "3dbde61a",
   "metadata": {},
   "outputs": [
    {
     "data": {
      "text/plain": [
       "0.9666666666666667"
      ]
     },
     "execution_count": 54,
     "metadata": {},
     "output_type": "execute_result"
    }
   ],
   "source": [
    "y_pred = sklearn_classifier.predict(test_set.iloc[:, :-1].to_numpy())\n",
    "accuracy_score(test_set.iloc[:, -1].to_numpy(), y_pred)"
   ]
  }
 ],
 "metadata": {
  "kernelspec": {
   "display_name": "Python 3 (ipykernel)",
   "language": "python",
   "name": "python3"
  },
  "language_info": {
   "codemirror_mode": {
    "name": "ipython",
    "version": 3
   },
   "file_extension": ".py",
   "mimetype": "text/x-python",
   "name": "python",
   "nbconvert_exporter": "python",
   "pygments_lexer": "ipython3",
   "version": "3.9.12"
  }
 },
 "nbformat": 4,
 "nbformat_minor": 5
}
