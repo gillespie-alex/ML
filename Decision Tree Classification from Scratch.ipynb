{
 "cells": [
  {
   "cell_type": "markdown",
   "id": "079b473f",
   "metadata": {},
   "source": [
    "# Import Dataset and Libraries"
   ]
  },
  {
   "cell_type": "code",
   "execution_count": 1,
   "id": "bcd23254",
   "metadata": {},
   "outputs": [
    {
     "data": {
      "text/html": [
       "<div>\n",
       "<style scoped>\n",
       "    .dataframe tbody tr th:only-of-type {\n",
       "        vertical-align: middle;\n",
       "    }\n",
       "\n",
       "    .dataframe tbody tr th {\n",
       "        vertical-align: top;\n",
       "    }\n",
       "\n",
       "    .dataframe thead th {\n",
       "        text-align: right;\n",
       "    }\n",
       "</style>\n",
       "<table border=\"1\" class=\"dataframe\">\n",
       "  <thead>\n",
       "    <tr style=\"text-align: right;\">\n",
       "      <th></th>\n",
       "      <th>sepal.length</th>\n",
       "      <th>sepal.width</th>\n",
       "      <th>petal.length</th>\n",
       "      <th>petal.width</th>\n",
       "      <th>variety</th>\n",
       "    </tr>\n",
       "  </thead>\n",
       "  <tbody>\n",
       "    <tr>\n",
       "      <th>0</th>\n",
       "      <td>5.1</td>\n",
       "      <td>3.5</td>\n",
       "      <td>1.4</td>\n",
       "      <td>0.2</td>\n",
       "      <td>Setosa</td>\n",
       "    </tr>\n",
       "    <tr>\n",
       "      <th>1</th>\n",
       "      <td>4.9</td>\n",
       "      <td>3.0</td>\n",
       "      <td>1.4</td>\n",
       "      <td>0.2</td>\n",
       "      <td>Setosa</td>\n",
       "    </tr>\n",
       "    <tr>\n",
       "      <th>2</th>\n",
       "      <td>4.7</td>\n",
       "      <td>3.2</td>\n",
       "      <td>1.3</td>\n",
       "      <td>0.2</td>\n",
       "      <td>Setosa</td>\n",
       "    </tr>\n",
       "    <tr>\n",
       "      <th>3</th>\n",
       "      <td>4.6</td>\n",
       "      <td>3.1</td>\n",
       "      <td>1.5</td>\n",
       "      <td>0.2</td>\n",
       "      <td>Setosa</td>\n",
       "    </tr>\n",
       "    <tr>\n",
       "      <th>4</th>\n",
       "      <td>5.0</td>\n",
       "      <td>3.6</td>\n",
       "      <td>1.4</td>\n",
       "      <td>0.2</td>\n",
       "      <td>Setosa</td>\n",
       "    </tr>\n",
       "  </tbody>\n",
       "</table>\n",
       "</div>"
      ],
      "text/plain": [
       "   sepal.length  sepal.width  petal.length  petal.width variety\n",
       "0           5.1          3.5           1.4          0.2  Setosa\n",
       "1           4.9          3.0           1.4          0.2  Setosa\n",
       "2           4.7          3.2           1.3          0.2  Setosa\n",
       "3           4.6          3.1           1.5          0.2  Setosa\n",
       "4           5.0          3.6           1.4          0.2  Setosa"
      ]
     },
     "execution_count": 1,
     "metadata": {},
     "output_type": "execute_result"
    }
   ],
   "source": [
    "import pandas as pd\n",
    "import numpy as np\n",
    "\n",
    "df = pd.read_csv('./iris.csv')\n",
    "df.head()"
   ]
  },
  {
   "cell_type": "code",
   "execution_count": 2,
   "id": "52e55086",
   "metadata": {},
   "outputs": [
    {
     "data": {
      "text/plain": [
       "array([0, 1, 2])"
      ]
     },
     "execution_count": 2,
     "metadata": {},
     "output_type": "execute_result"
    }
   ],
   "source": [
    "df['variety'] = df['variety'].map({'Setosa': 0,\n",
    "                                  'Versicolor': 1,\n",
    "                                  'Virginica':2},\n",
    "                                 na_action=None)\n",
    "df['variety'].unique()"
   ]
  },
  {
   "cell_type": "code",
   "execution_count": 3,
   "id": "d09e452a",
   "metadata": {
    "scrolled": true
   },
   "outputs": [
    {
     "data": {
      "text/html": [
       "<div>\n",
       "<style scoped>\n",
       "    .dataframe tbody tr th:only-of-type {\n",
       "        vertical-align: middle;\n",
       "    }\n",
       "\n",
       "    .dataframe tbody tr th {\n",
       "        vertical-align: top;\n",
       "    }\n",
       "\n",
       "    .dataframe thead th {\n",
       "        text-align: right;\n",
       "    }\n",
       "</style>\n",
       "<table border=\"1\" class=\"dataframe\">\n",
       "  <thead>\n",
       "    <tr style=\"text-align: right;\">\n",
       "      <th></th>\n",
       "      <th>sepal.length</th>\n",
       "      <th>sepal.width</th>\n",
       "      <th>petal.length</th>\n",
       "      <th>petal.width</th>\n",
       "      <th>variety</th>\n",
       "    </tr>\n",
       "  </thead>\n",
       "  <tbody>\n",
       "    <tr>\n",
       "      <th>0</th>\n",
       "      <td>5.1</td>\n",
       "      <td>3.5</td>\n",
       "      <td>1.4</td>\n",
       "      <td>0.2</td>\n",
       "      <td>0</td>\n",
       "    </tr>\n",
       "    <tr>\n",
       "      <th>1</th>\n",
       "      <td>4.9</td>\n",
       "      <td>3.0</td>\n",
       "      <td>1.4</td>\n",
       "      <td>0.2</td>\n",
       "      <td>0</td>\n",
       "    </tr>\n",
       "    <tr>\n",
       "      <th>2</th>\n",
       "      <td>4.7</td>\n",
       "      <td>3.2</td>\n",
       "      <td>1.3</td>\n",
       "      <td>0.2</td>\n",
       "      <td>0</td>\n",
       "    </tr>\n",
       "    <tr>\n",
       "      <th>3</th>\n",
       "      <td>4.6</td>\n",
       "      <td>3.1</td>\n",
       "      <td>1.5</td>\n",
       "      <td>0.2</td>\n",
       "      <td>0</td>\n",
       "    </tr>\n",
       "    <tr>\n",
       "      <th>4</th>\n",
       "      <td>5.0</td>\n",
       "      <td>3.6</td>\n",
       "      <td>1.4</td>\n",
       "      <td>0.2</td>\n",
       "      <td>0</td>\n",
       "    </tr>\n",
       "  </tbody>\n",
       "</table>\n",
       "</div>"
      ],
      "text/plain": [
       "   sepal.length  sepal.width  petal.length  petal.width  variety\n",
       "0           5.1          3.5           1.4          0.2        0\n",
       "1           4.9          3.0           1.4          0.2        0\n",
       "2           4.7          3.2           1.3          0.2        0\n",
       "3           4.6          3.1           1.5          0.2        0\n",
       "4           5.0          3.6           1.4          0.2        0"
      ]
     },
     "execution_count": 3,
     "metadata": {},
     "output_type": "execute_result"
    }
   ],
   "source": [
    "df.head()"
   ]
  },
  {
   "cell_type": "markdown",
   "id": "819a0436",
   "metadata": {},
   "source": [
    "## Some Preprocessing\n",
    "\n",
    "To make life a little easier, I will be changing the species dataframe to only have two classes. With three classes this becomes a much more difficult algorithm to build from scratch as the output is non-binary and many applications will only need a binary application"
   ]
  },
  {
   "cell_type": "code",
   "execution_count": 4,
   "id": "300d8123",
   "metadata": {
    "scrolled": true
   },
   "outputs": [
    {
     "data": {
      "text/html": [
       "<div>\n",
       "<style scoped>\n",
       "    .dataframe tbody tr th:only-of-type {\n",
       "        vertical-align: middle;\n",
       "    }\n",
       "\n",
       "    .dataframe tbody tr th {\n",
       "        vertical-align: top;\n",
       "    }\n",
       "\n",
       "    .dataframe thead th {\n",
       "        text-align: right;\n",
       "    }\n",
       "</style>\n",
       "<table border=\"1\" class=\"dataframe\">\n",
       "  <thead>\n",
       "    <tr style=\"text-align: right;\">\n",
       "      <th></th>\n",
       "      <th>sepal.length</th>\n",
       "      <th>sepal.width</th>\n",
       "      <th>petal.length</th>\n",
       "      <th>petal.width</th>\n",
       "      <th>variety</th>\n",
       "    </tr>\n",
       "  </thead>\n",
       "  <tbody>\n",
       "    <tr>\n",
       "      <th>95</th>\n",
       "      <td>5.7</td>\n",
       "      <td>3.0</td>\n",
       "      <td>4.2</td>\n",
       "      <td>1.2</td>\n",
       "      <td>1</td>\n",
       "    </tr>\n",
       "    <tr>\n",
       "      <th>96</th>\n",
       "      <td>5.7</td>\n",
       "      <td>2.9</td>\n",
       "      <td>4.2</td>\n",
       "      <td>1.3</td>\n",
       "      <td>1</td>\n",
       "    </tr>\n",
       "    <tr>\n",
       "      <th>97</th>\n",
       "      <td>6.2</td>\n",
       "      <td>2.9</td>\n",
       "      <td>4.3</td>\n",
       "      <td>1.3</td>\n",
       "      <td>1</td>\n",
       "    </tr>\n",
       "    <tr>\n",
       "      <th>98</th>\n",
       "      <td>5.1</td>\n",
       "      <td>2.5</td>\n",
       "      <td>3.0</td>\n",
       "      <td>1.1</td>\n",
       "      <td>1</td>\n",
       "    </tr>\n",
       "    <tr>\n",
       "      <th>99</th>\n",
       "      <td>5.7</td>\n",
       "      <td>2.8</td>\n",
       "      <td>4.1</td>\n",
       "      <td>1.3</td>\n",
       "      <td>1</td>\n",
       "    </tr>\n",
       "  </tbody>\n",
       "</table>\n",
       "</div>"
      ],
      "text/plain": [
       "    sepal.length  sepal.width  petal.length  petal.width  variety\n",
       "95           5.7          3.0           4.2          1.2        1\n",
       "96           5.7          2.9           4.2          1.3        1\n",
       "97           6.2          2.9           4.3          1.3        1\n",
       "98           5.1          2.5           3.0          1.1        1\n",
       "99           5.7          2.8           4.1          1.3        1"
      ]
     },
     "execution_count": 4,
     "metadata": {},
     "output_type": "execute_result"
    }
   ],
   "source": [
    "df = df[df['variety'] < 2]\n",
    "df.tail()"
   ]
  },
  {
   "cell_type": "code",
   "execution_count": 5,
   "id": "00f6a99d",
   "metadata": {},
   "outputs": [
    {
     "data": {
      "text/plain": [
       "array([0, 1])"
      ]
     },
     "execution_count": 5,
     "metadata": {},
     "output_type": "execute_result"
    }
   ],
   "source": [
    "df['variety'].unique()"
   ]
  },
  {
   "cell_type": "markdown",
   "id": "44381d12",
   "metadata": {},
   "source": [
    "# Decision Tree from Scratch"
   ]
  },
  {
   "cell_type": "markdown",
   "id": "d9152388",
   "metadata": {},
   "source": [
    "First up is the TreeNode which is exactly what it says, a class for the nodes in the tree, whether they be decision or leaf nodes.\n",
    "\n",
    "The `left` and `right` parameters are pointers to children. The `feature` is the feature (column) that the decision node will be splitting off of. The `threshold` value is the numeric splitting value according to the corresponding feature; and the `info_gain` parameter displays the information gain for each decision node."
   ]
  },
  {
   "cell_type": "code",
   "execution_count": 24,
   "id": "caca6a34",
   "metadata": {},
   "outputs": [],
   "source": [
    "class TreeNode():\n",
    "    def __init__(self, left=None, right=None, feature=None, threshold=None, info_gain=None, value=None):\n",
    "        self.threshold=threshold\n",
    "        self.feature=feature\n",
    "        self.right=right\n",
    "        self.left=left\n",
    "        self.info_gain=info_gain\n",
    "\n",
    "        # Used for the leaf node\n",
    "        self.value=value\n"
   ]
  },
  {
   "cell_type": "markdown",
   "id": "51aacafc",
   "metadata": {},
   "source": [
    "The `DecisionTree()` class will hold all of the functions necessary to build the Decision Tree. The parameters are `max_depth` and `min_samples_split` which are both hyperparameters to keep the decsion tree from overfitting. The *max_depth* parameters keeps the tree from extending past a certain depth and the *min_samples_split* essentially says that a node must contain at least a certain number of samples in it to make the split. If the amount of sample in an internal node is less than the *min_samples_split*, then that node will become a leaf node."
   ]
  },
  {
   "cell_type": "code",
   "execution_count": 32,
   "id": "8099e551",
   "metadata": {},
   "outputs": [],
   "source": [
    "class DecisionTree():\n",
    "    def __init__(self, max_depth=None, min_samples_split=None):\n",
    "        # Decision Tree hyperparameters to prevent from overfitting\n",
    "        self.max_depth=max_depth\n",
    "        self.min_samples_split=min_samples_split\n",
    "\n",
    "        # initialize the root of the tree\n",
    "        self.root=None        \n",
    "        \n",
    "    def dfs_build(self, df, depth=0):\n",
    "        X = df.iloc[:, :-1].to_numpy()\n",
    "        Y = df.iloc[:, -1].to_numpy()\n",
    "        num_samples, _ = np.shape(X)\n",
    "        \n",
    "        if num_samples >= self.min_samples_split and depth <= self.max_depth:\n",
    "            node_info = self.find_best_split(df)\n",
    "            if node_info[\"info_gain\"] > 0:\n",
    "                left_subtree = self.dfs_build(node_info[\"left_df\"], depth+1)\n",
    "                right_subtree = self.dfs_build(node_info[\"right_df\"], depth+1)\n",
    "                return TreeNode(left_subtree, \n",
    "                               right_subtree, \n",
    "                               node_info[\"feature\"], \n",
    "                               node_info[\"threshold\"], \n",
    "                               node_info[\"info_gain\"])\n",
    "        #If there is no information gain\n",
    "        else:\n",
    "            leaf_value = self.calculate_leaf(Y)\n",
    "            return TreeNode(value = leaf_value)\n",
    "        \n",
    "    def find_best_split(self, df):\n",
    "        max_info_gain = -float(\"inf\")\n",
    "        TreeNode_stats = {}\n",
    "        for col_index, feature in enumerate(df.columns):\n",
    "            # We want to ignore the target column\n",
    "            if col_index == len(df.columns) - 1:\n",
    "                break\n",
    "            # Within each feature find all the threshold values\n",
    "            threshold_vals = df[feature].unique()\n",
    "            for threshold in threshold_vals:\n",
    "                # First create the \"left\" and \"right\" datasets\n",
    "                left_df = df[df[feature] <= threshold]\n",
    "                right_df = df[df[feature] > threshold]\n",
    "                if left_df.empty or right_df.empty:\n",
    "                    continue\n",
    "                G = self.gain_from_gini(left_df.iloc[:,col_index].to_numpy(), \n",
    "                                        right_df.iloc[:, col_index].to_numpy(), \n",
    "                                        df.iloc[:,-1].to_numpy(), \n",
    "                                        threshold)\n",
    "                if G > max_info_gain:\n",
    "                    TreeNode_stats[\"info_gain\"] = G\n",
    "                    TreeNode_stats[\"feature\"] = col_index      # CHANGED THIS WHEN DOING PREDICT FUNCTION\n",
    "                    TreeNode_stats[\"threshold\"] = threshold\n",
    "                    TreeNode_stats[\"left_df\"] = left_df\n",
    "                    TreeNode_stats[\"right_df\"] = right_df\n",
    "        \n",
    "        return TreeNode_stats\n",
    "    \n",
    "    def gain_from_gini(self, left_data, right_data, labels, threshold):\n",
    "\n",
    "        samples = len(left_data) + len(right_data)\n",
    "        \n",
    "        weight_left = len(left_data) / samples\n",
    "        weight_right = len(right_data) / samples\n",
    "        \n",
    "        parent_gini = self.get_gini_score(labels)\n",
    "        leftchild_gini = self.get_gini_score(left_data)\n",
    "        rightchild_gini = self.get_gini_score(right_data)\n",
    "        \n",
    "        gain = parent_gini - ((weight_left * leftchild_gini) + (weight_right * rightchild_gini))\n",
    "        return gain\n",
    "        \n",
    "    def get_gini_score(self, Y):\n",
    "        class_labels = np.unique(Y)\n",
    "        gini_score = 0\n",
    "        for label in class_labels:\n",
    "            label_prob = len(Y[Y == label]) / len(Y)\n",
    "            gini_score +=label_prob ** 2\n",
    "        return 1 - gini_score\n",
    "    \n",
    "    def leafnode_value(self, labels):\n",
    "        # find the majority label and return that\n",
    "        counts = np.bincount(labels)\n",
    "        return np.argmax(counts)\n",
    "    \n",
    "    def fit(self, dataframe):\n",
    "        self.root = self.dfs_build(dataframe)\n",
    "        \n",
    "    def predict(self, test_set):\n",
    "        test = test_set.to_numpy()\n",
    "        results = []\n",
    "        #2-D array now\n",
    "        for row in test:\n",
    "            ptr = self.root\n",
    "            while ptr.value is None:\n",
    "                index = ptr.feature\n",
    "                if row[index] <= ptr.threshold:\n",
    "                    ptr = ptr.left\n",
    "                else:\n",
    "                    ptr = ptr.right\n",
    "            results.append(ptr.value)\n",
    "        return results"
   ]
  },
  {
   "cell_type": "markdown",
   "id": "950eabf4",
   "metadata": {},
   "source": [
    "# Shuffle and Split the Dataset"
   ]
  },
  {
   "cell_type": "code",
   "execution_count": 10,
   "id": "f45abd2a",
   "metadata": {},
   "outputs": [
    {
     "data": {
      "text/html": [
       "<div>\n",
       "<style scoped>\n",
       "    .dataframe tbody tr th:only-of-type {\n",
       "        vertical-align: middle;\n",
       "    }\n",
       "\n",
       "    .dataframe tbody tr th {\n",
       "        vertical-align: top;\n",
       "    }\n",
       "\n",
       "    .dataframe thead th {\n",
       "        text-align: right;\n",
       "    }\n",
       "</style>\n",
       "<table border=\"1\" class=\"dataframe\">\n",
       "  <thead>\n",
       "    <tr style=\"text-align: right;\">\n",
       "      <th></th>\n",
       "      <th>sepal.length</th>\n",
       "      <th>sepal.width</th>\n",
       "      <th>petal.length</th>\n",
       "      <th>petal.width</th>\n",
       "      <th>variety</th>\n",
       "    </tr>\n",
       "  </thead>\n",
       "  <tbody>\n",
       "    <tr>\n",
       "      <th>94</th>\n",
       "      <td>5.6</td>\n",
       "      <td>2.7</td>\n",
       "      <td>4.2</td>\n",
       "      <td>1.3</td>\n",
       "      <td>1</td>\n",
       "    </tr>\n",
       "    <tr>\n",
       "      <th>29</th>\n",
       "      <td>4.7</td>\n",
       "      <td>3.2</td>\n",
       "      <td>1.6</td>\n",
       "      <td>0.2</td>\n",
       "      <td>0</td>\n",
       "    </tr>\n",
       "    <tr>\n",
       "      <th>27</th>\n",
       "      <td>5.2</td>\n",
       "      <td>3.5</td>\n",
       "      <td>1.5</td>\n",
       "      <td>0.2</td>\n",
       "      <td>0</td>\n",
       "    </tr>\n",
       "    <tr>\n",
       "      <th>61</th>\n",
       "      <td>5.9</td>\n",
       "      <td>3.0</td>\n",
       "      <td>4.2</td>\n",
       "      <td>1.5</td>\n",
       "      <td>1</td>\n",
       "    </tr>\n",
       "    <tr>\n",
       "      <th>74</th>\n",
       "      <td>6.4</td>\n",
       "      <td>2.9</td>\n",
       "      <td>4.3</td>\n",
       "      <td>1.3</td>\n",
       "      <td>1</td>\n",
       "    </tr>\n",
       "  </tbody>\n",
       "</table>\n",
       "</div>"
      ],
      "text/plain": [
       "    sepal.length  sepal.width  petal.length  petal.width  variety\n",
       "94           5.6          2.7           4.2          1.3        1\n",
       "29           4.7          3.2           1.6          0.2        0\n",
       "27           5.2          3.5           1.5          0.2        0\n",
       "61           5.9          3.0           4.2          1.5        1\n",
       "74           6.4          2.9           4.3          1.3        1"
      ]
     },
     "execution_count": 10,
     "metadata": {},
     "output_type": "execute_result"
    }
   ],
   "source": [
    "shuffled = df.sample(frac=1)\n",
    "shuffled.head()"
   ]
  },
  {
   "cell_type": "code",
   "execution_count": 28,
   "id": "687f4008",
   "metadata": {},
   "outputs": [],
   "source": [
    "length, _ = shuffled.shape\n",
    "part = int(length * 0.2)\n",
    "test_set = shuffled.iloc[:part, :]\n",
    "train_set = shuffled.iloc[part:, :]"
   ]
  },
  {
   "cell_type": "code",
   "execution_count": 33,
   "id": "95a2bc1c",
   "metadata": {},
   "outputs": [],
   "source": [
    "classifier = DecisionTree(max_depth=3, min_samples_split=3)\n",
    "classifier.fit(train_set)\n",
    "#     def __init__(self, max_depth=None, min_samples_split=None):"
   ]
  }
 ],
 "metadata": {
  "kernelspec": {
   "display_name": "Python 3 (ipykernel)",
   "language": "python",
   "name": "python3"
  },
  "language_info": {
   "codemirror_mode": {
    "name": "ipython",
    "version": 3
   },
   "file_extension": ".py",
   "mimetype": "text/x-python",
   "name": "python",
   "nbconvert_exporter": "python",
   "pygments_lexer": "ipython3",
   "version": "3.9.7"
  }
 },
 "nbformat": 4,
 "nbformat_minor": 5
}
