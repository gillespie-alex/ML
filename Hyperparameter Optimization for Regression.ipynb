{
 "cells": [
  {
   "cell_type": "markdown",
   "id": "0d1193cd",
   "metadata": {},
   "source": [
    "# Import Libraries and Dataset"
   ]
  },
  {
   "cell_type": "markdown",
   "id": "a3ea815f",
   "metadata": {},
   "source": [
    "This notebook is using the auto insurance dataset and involves predicting the total amount in claims (thousands of Swedish Kronor) given the number of claims for differing geographical regions."
   ]
  },
  {
   "cell_type": "code",
   "execution_count": 1,
   "id": "3359206a",
   "metadata": {},
   "outputs": [],
   "source": [
    "import pandas as pd\n",
    "from scipy.stats import loguniform\n",
    "from sklearn.linear_model import Ridge\n",
    "from sklearn.model_selection import RepeatedKFold\n",
    "from sklearn.model_selection import RandomizedSearchCV\n",
    "\n",
    "url = 'https://raw.githubusercontent.com/jbrownlee/Datasets/master/auto-insurance.csv'\n",
    "df = pd.read_csv(url, header=None)"
   ]
  },
  {
   "cell_type": "code",
   "execution_count": 3,
   "id": "7baa5b67",
   "metadata": {},
   "outputs": [],
   "source": [
    "# split dataset into features and labels\n",
    "X, y = df.values[:, :-1], df.values[:, -1]"
   ]
  },
  {
   "cell_type": "markdown",
   "id": "e1394492",
   "metadata": {},
   "source": [
    "# Define Model"
   ]
  },
  {
   "cell_type": "code",
   "execution_count": 6,
   "id": "4d309289",
   "metadata": {},
   "outputs": [],
   "source": [
    "# we will be training a RidgeRegression model to predict the claims\n",
    "model = Ridge()"
   ]
  },
  {
   "cell_type": "markdown",
   "id": "560f9803",
   "metadata": {},
   "source": [
    "## RandomSearch for Hyperparameter Tuning"
   ]
  },
  {
   "cell_type": "code",
   "execution_count": null,
   "id": "6920aef4",
   "metadata": {},
   "outputs": [],
   "source": [
    "# first define the evaluations\n",
    "cv = RepeatedKFold(n_splits=10, n_repeats=3, random_state=1)\n",
    "\n",
    "# define the search space\n",
    "space = dict()\n",
    "space['solver'] = ['svd', 'cholesky', 'lsqr', 'sag']\n",
    "space['alpha'] = loguniform(1e-5, 100)\n",
    "space['fit_intercept'] = [True, False]\n",
    "space['normalize'] = [True, False]\n",
    "\n",
    "# then define the search\n",
    "search = RandomizedSearchCV(model,\n",
    "                           space,\n",
    "                           n_iter=500,\n",
    "                           scoring='neg_mean_absolute_error',\n",
    "                           n_jobs=-1,\n",
    "                           cv=cv,\n",
    "                           random_state=1)"
   ]
  }
 ],
 "metadata": {
  "kernelspec": {
   "display_name": "Python 3 (ipykernel)",
   "language": "python",
   "name": "python3"
  },
  "language_info": {
   "codemirror_mode": {
    "name": "ipython",
    "version": 3
   },
   "file_extension": ".py",
   "mimetype": "text/x-python",
   "name": "python",
   "nbconvert_exporter": "python",
   "pygments_lexer": "ipython3",
   "version": "3.9.7"
  }
 },
 "nbformat": 4,
 "nbformat_minor": 5
}
