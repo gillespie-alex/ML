{
 "cells": [
  {
   "cell_type": "markdown",
   "id": "1f0412fb",
   "metadata": {},
   "source": [
    "# 1. Intro"
   ]
  },
  {
   "cell_type": "markdown",
   "id": "9405e064",
   "metadata": {},
   "source": [
    "### Bayes Theorom"
   ]
  },
  {
   "cell_type": "markdown",
   "id": "f17ec770",
   "metadata": {},
   "source": [
    "Naive Bayes classifier is a collection of many algorithms where all the algorithms share one common principle, and that is each feature being classified is not related to any other feature.  That is each feature needs to be independent of every other feature.  The presence or absence of a feature does not affect the presence or absence of the other features\n",
    "\n",
    "Bayes theorom is used to calculate the probability of an event occuring based on the prior knowledge of conditions related to an event"
   ]
  },
  {
   "cell_type": "markdown",
   "id": "7df76d9b",
   "metadata": {},
   "source": [
    "### Multinomial Naive Bayes"
   ]
  },
  {
   "cell_type": "markdown",
   "id": "12b283a6",
   "metadata": {},
   "source": [
    "Multinomial Naive Bayes algo is a Bayesian learning approach popular in NLP where the program guesses the the tag of a text, such as an email or newspaper story, using the Bayes theorom. It calculates each tag's likelihood for a given sample and outputs the tag with the greatest chance. "
   ]
  },
  {
   "cell_type": "markdown",
   "id": "bde7a69e",
   "metadata": {},
   "source": [
    "Steps:\n",
    "1 - Create a frequency table\n",
    "2 - Find the probabilities and create a likelihood table"
   ]
  },
  {
   "cell_type": "markdown",
   "id": "71d9c1ff",
   "metadata": {},
   "source": [
    "# 2. Import Libraries and Read the Dataset"
   ]
  },
  {
   "cell_type": "code",
   "execution_count": 1,
   "id": "360c9649",
   "metadata": {},
   "outputs": [],
   "source": [
    "import pandas as pd\n",
    "import numpy as np\n",
    "\n",
    "from sklearn.naive_bayes import MultinomialNB\n",
    "\n",
    "from sklearn.feature_extraction.text import CountVectorizer\n",
    "from sklearn.model_selection import train_test_split\n",
    "\n",
    "from sklearn.metrics import accuracy_score\n",
    "import time\n",
    "\n",
    "import re"
   ]
  },
  {
   "cell_type": "code",
   "execution_count": 2,
   "id": "1c21e2e7",
   "metadata": {},
   "outputs": [],
   "source": [
    "df = pd.read_csv(\"./Datasets/NewsCategorizer.csv\")"
   ]
  },
  {
   "cell_type": "code",
   "execution_count": 3,
   "id": "46759154",
   "metadata": {},
   "outputs": [
    {
     "data": {
      "text/html": [
       "<div>\n",
       "<style scoped>\n",
       "    .dataframe tbody tr th:only-of-type {\n",
       "        vertical-align: middle;\n",
       "    }\n",
       "\n",
       "    .dataframe tbody tr th {\n",
       "        vertical-align: top;\n",
       "    }\n",
       "\n",
       "    .dataframe thead th {\n",
       "        text-align: right;\n",
       "    }\n",
       "</style>\n",
       "<table border=\"1\" class=\"dataframe\">\n",
       "  <thead>\n",
       "    <tr style=\"text-align: right;\">\n",
       "      <th></th>\n",
       "      <th>category</th>\n",
       "      <th>headline</th>\n",
       "      <th>links</th>\n",
       "      <th>short_description</th>\n",
       "      <th>keywords</th>\n",
       "    </tr>\n",
       "  </thead>\n",
       "  <tbody>\n",
       "    <tr>\n",
       "      <th>0</th>\n",
       "      <td>WELLNESS</td>\n",
       "      <td>143 Miles in 35 Days: Lessons Learned</td>\n",
       "      <td>https://www.huffingtonpost.com/entry/running-l...</td>\n",
       "      <td>Resting is part of training. I've confirmed wh...</td>\n",
       "      <td>running-lessons</td>\n",
       "    </tr>\n",
       "    <tr>\n",
       "      <th>1</th>\n",
       "      <td>WELLNESS</td>\n",
       "      <td>Talking to Yourself: Crazy or Crazy Helpful?</td>\n",
       "      <td>https://www.huffingtonpost.com/entry/talking-t...</td>\n",
       "      <td>Think of talking to yourself as a tool to coac...</td>\n",
       "      <td>talking-to-yourself-crazy</td>\n",
       "    </tr>\n",
       "    <tr>\n",
       "      <th>2</th>\n",
       "      <td>WELLNESS</td>\n",
       "      <td>Crenezumab: Trial Will Gauge Whether Alzheimer...</td>\n",
       "      <td>https://www.huffingtonpost.com/entry/crenezuma...</td>\n",
       "      <td>The clock is ticking for the United States to ...</td>\n",
       "      <td>crenezumab-alzheimers-disease-drug</td>\n",
       "    </tr>\n",
       "    <tr>\n",
       "      <th>3</th>\n",
       "      <td>WELLNESS</td>\n",
       "      <td>Oh, What a Difference She Made</td>\n",
       "      <td>https://www.huffingtonpost.com/entry/meaningfu...</td>\n",
       "      <td>If you want to be busy, keep trying to be perf...</td>\n",
       "      <td>meaningful-life</td>\n",
       "    </tr>\n",
       "    <tr>\n",
       "      <th>4</th>\n",
       "      <td>WELLNESS</td>\n",
       "      <td>Green Superfoods</td>\n",
       "      <td>https://www.huffingtonpost.com/entry/green-sup...</td>\n",
       "      <td>First, the bad news: Soda bread, corned beef a...</td>\n",
       "      <td>green-superfoods</td>\n",
       "    </tr>\n",
       "  </tbody>\n",
       "</table>\n",
       "</div>"
      ],
      "text/plain": [
       "   category                                           headline  \\\n",
       "0  WELLNESS              143 Miles in 35 Days: Lessons Learned   \n",
       "1  WELLNESS       Talking to Yourself: Crazy or Crazy Helpful?   \n",
       "2  WELLNESS  Crenezumab: Trial Will Gauge Whether Alzheimer...   \n",
       "3  WELLNESS                     Oh, What a Difference She Made   \n",
       "4  WELLNESS                                   Green Superfoods   \n",
       "\n",
       "                                               links  \\\n",
       "0  https://www.huffingtonpost.com/entry/running-l...   \n",
       "1  https://www.huffingtonpost.com/entry/talking-t...   \n",
       "2  https://www.huffingtonpost.com/entry/crenezuma...   \n",
       "3  https://www.huffingtonpost.com/entry/meaningfu...   \n",
       "4  https://www.huffingtonpost.com/entry/green-sup...   \n",
       "\n",
       "                                   short_description  \\\n",
       "0  Resting is part of training. I've confirmed wh...   \n",
       "1  Think of talking to yourself as a tool to coac...   \n",
       "2  The clock is ticking for the United States to ...   \n",
       "3  If you want to be busy, keep trying to be perf...   \n",
       "4  First, the bad news: Soda bread, corned beef a...   \n",
       "\n",
       "                             keywords  \n",
       "0                     running-lessons  \n",
       "1           talking-to-yourself-crazy  \n",
       "2  crenezumab-alzheimers-disease-drug  \n",
       "3                     meaningful-life  \n",
       "4                    green-superfoods  "
      ]
     },
     "execution_count": 3,
     "metadata": {},
     "output_type": "execute_result"
    }
   ],
   "source": [
    "df.head()"
   ]
  },
  {
   "cell_type": "markdown",
   "id": "05d37494",
   "metadata": {},
   "source": [
    "# 3. Pre-Processing"
   ]
  },
  {
   "cell_type": "code",
   "execution_count": 4,
   "id": "f2cc2401",
   "metadata": {},
   "outputs": [],
   "source": [
    "df.drop(labels = ['links','short_description','keywords'],axis = 'columns', inplace=True)"
   ]
  },
  {
   "cell_type": "code",
   "execution_count": 5,
   "id": "e1a80ad3",
   "metadata": {},
   "outputs": [],
   "source": [
    "df = df[['headline','category']]"
   ]
  },
  {
   "cell_type": "code",
   "execution_count": 6,
   "id": "614fab5c",
   "metadata": {},
   "outputs": [
    {
     "data": {
      "text/plain": [
       "WELLNESS          5000\n",
       "POLITICS          5000\n",
       "ENTERTAINMENT     5000\n",
       "TRAVEL            5000\n",
       "STYLE & BEAUTY    5000\n",
       "PARENTING         5000\n",
       "FOOD & DRINK      5000\n",
       "WORLD NEWS        5000\n",
       "BUSINESS          5000\n",
       "SPORTS            5000\n",
       "Name: category, dtype: int64"
      ]
     },
     "execution_count": 6,
     "metadata": {},
     "output_type": "execute_result"
    }
   ],
   "source": [
    "df['category'].value_counts()"
   ]
  },
  {
   "cell_type": "markdown",
   "id": "039e0ee1",
   "metadata": {},
   "source": [
    "Convert the categorical variabels to numerics, I show two different ways of doing this"
   ]
  },
  {
   "cell_type": "code",
   "execution_count": 7,
   "id": "f6e4aaec",
   "metadata": {},
   "outputs": [],
   "source": [
    "df['categories_numeric']=df.category.map({'WELLNESS':0, 'POLITICS':1,\n",
    "                                         'ENTERTAINMENT':2, 'TRAVEL':3,\n",
    "                                         'STYLE & BEAUTY':4, 'PARENTING':5,\n",
    "                                         'FOOD & DRINK':6, 'WORLD NEWS':7,\n",
    "                                         'BUSINESS':8, 'SPORTS':9})\n",
    "df.drop(labels = ['category'], axis = 'columns', inplace = True)"
   ]
  },
  {
   "cell_type": "markdown",
   "id": "82c3c071",
   "metadata": {},
   "source": [
    "Second way, cleaner but more code"
   ]
  },
  {
   "cell_type": "code",
   "execution_count": null,
   "id": "4e78d579",
   "metadata": {},
   "outputs": [],
   "source": [
    "cols = list(df['category'])\n",
    "\n",
    "for i in range (0, len(cols)):\n",
    "    if cols[i] == 'WELLNESS':\n",
    "        cols[i] = 0\n",
    "    elif cols[i] == 'POLITICS':\n",
    "        cols[i] = 1\n",
    "    elif cols[i] == 'ENTERTAINMENT':\n",
    "        cols[i] = 2\n",
    "    elif cols[i] == 'TRAVEL':\n",
    "        cols[i] = 3\n",
    "    elif cols[i] == 'STYLE & BEAUTY':\n",
    "        cols[i] = 4\n",
    "    elif cols[i] == 'PARENTING':\n",
    "        cols[i] = 5\n",
    "    elif cols[i] == 'FOOD & DRINK':\n",
    "        cols[i] = 6\n",
    "    elif cols[i] == 'WORLD NEWS':\n",
    "        cols[i] = 7\n",
    "    elif cols[i] == 'BUSINESS':\n",
    "        cols[i] = 8\n",
    "    elif cols[i] == 'SPORTS':\n",
    "        cols[i] = 9\n",
    "new = pd.DataFrame(cols, columns = ['categories_numeric'], dtype=int)\n",
    "\n",
    "df['category'] = new['categories_numeric']"
   ]
  },
  {
   "cell_type": "code",
   "execution_count": 8,
   "id": "70468298",
   "metadata": {},
   "outputs": [
    {
     "data": {
      "text/plain": [
       "array([0, 1, 2, 3, 4, 5, 6, 7, 8, 9])"
      ]
     },
     "execution_count": 8,
     "metadata": {},
     "output_type": "execute_result"
    }
   ],
   "source": [
    "df.categories_numeric.unique()"
   ]
  },
  {
   "cell_type": "code",
   "execution_count": 9,
   "id": "3f3b0581",
   "metadata": {
    "scrolled": true
   },
   "outputs": [
    {
     "data": {
      "text/html": [
       "<div>\n",
       "<style scoped>\n",
       "    .dataframe tbody tr th:only-of-type {\n",
       "        vertical-align: middle;\n",
       "    }\n",
       "\n",
       "    .dataframe tbody tr th {\n",
       "        vertical-align: top;\n",
       "    }\n",
       "\n",
       "    .dataframe thead th {\n",
       "        text-align: right;\n",
       "    }\n",
       "</style>\n",
       "<table border=\"1\" class=\"dataframe\">\n",
       "  <thead>\n",
       "    <tr style=\"text-align: right;\">\n",
       "      <th></th>\n",
       "      <th>headline</th>\n",
       "      <th>categories_numeric</th>\n",
       "    </tr>\n",
       "  </thead>\n",
       "  <tbody>\n",
       "    <tr>\n",
       "      <th>0</th>\n",
       "      <td>143 Miles in 35 Days: Lessons Learned</td>\n",
       "      <td>0</td>\n",
       "    </tr>\n",
       "    <tr>\n",
       "      <th>1</th>\n",
       "      <td>Talking to Yourself: Crazy or Crazy Helpful?</td>\n",
       "      <td>0</td>\n",
       "    </tr>\n",
       "    <tr>\n",
       "      <th>2</th>\n",
       "      <td>Crenezumab: Trial Will Gauge Whether Alzheimer...</td>\n",
       "      <td>0</td>\n",
       "    </tr>\n",
       "    <tr>\n",
       "      <th>3</th>\n",
       "      <td>Oh, What a Difference She Made</td>\n",
       "      <td>0</td>\n",
       "    </tr>\n",
       "    <tr>\n",
       "      <th>4</th>\n",
       "      <td>Green Superfoods</td>\n",
       "      <td>0</td>\n",
       "    </tr>\n",
       "  </tbody>\n",
       "</table>\n",
       "</div>"
      ],
      "text/plain": [
       "                                            headline  categories_numeric\n",
       "0              143 Miles in 35 Days: Lessons Learned                   0\n",
       "1       Talking to Yourself: Crazy or Crazy Helpful?                   0\n",
       "2  Crenezumab: Trial Will Gauge Whether Alzheimer...                   0\n",
       "3                     Oh, What a Difference She Made                   0\n",
       "4                                   Green Superfoods                   0"
      ]
     },
     "execution_count": 9,
     "metadata": {},
     "output_type": "execute_result"
    }
   ],
   "source": [
    "#print how the new dataset looks\n",
    "df.head()"
   ]
  },
  {
   "cell_type": "markdown",
   "id": "4163d4a9",
   "metadata": {},
   "source": [
    "# 4. Data Preparation for Model Training"
   ]
  },
  {
   "cell_type": "code",
   "execution_count": 10,
   "id": "fc8fedce",
   "metadata": {},
   "outputs": [],
   "source": [
    "from sklearn.model_selection import train_test_split\n",
    "\n",
    "def split_data (features, labels, test_percent):\n",
    "    x_train, x_test, y_train, y_test = train_test_split(features, labels, test_size=test_percent, random_state=42)\n",
    "    return x_train, x_test, y_train, y_test"
   ]
  },
  {
   "cell_type": "code",
   "execution_count": 11,
   "id": "27c8b397",
   "metadata": {},
   "outputs": [],
   "source": [
    "x_train, x_test, y_train, y_test = split_data(df.headline, df.categories_numeric, 0.2)"
   ]
  },
  {
   "cell_type": "markdown",
   "id": "3ba17781",
   "metadata": {},
   "source": [
    "Convert the dataset to a \"Bag of Word\" model"
   ]
  },
  {
   "cell_type": "code",
   "execution_count": 12,
   "id": "051038a4",
   "metadata": {},
   "outputs": [],
   "source": [
    "from sklearn.preprocessing import StandardScaler\n",
    "#Here we convert our dataset into a Bag Of Word model using a Bigram model (2 word sequences)\n",
    "\n",
    "vect = CountVectorizer(ngram_range=(2,2))\n",
    "#converting traning features into numeric vector\n",
    "X_train = vect.fit_transform(x_train)\n",
    "#converting training labels into numeric vector\n",
    "X_test = vect.transform(x_test)"
   ]
  },
  {
   "cell_type": "markdown",
   "id": "395d9412",
   "metadata": {},
   "source": [
    "# 5. Training Multinomial Naive Bayes Model"
   ]
  },
  {
   "cell_type": "code",
   "execution_count": 13,
   "id": "fe4c09fd",
   "metadata": {},
   "outputs": [],
   "source": [
    "mnb = MultinomialNB(alpha = 0.2)\n",
    "\n",
    "mnb.fit(X_train,y_train)\n",
    "\n",
    "result = mnb.predict(X_test)"
   ]
  },
  {
   "cell_type": "markdown",
   "id": "4698e1e5",
   "metadata": {},
   "source": [
    "The accuracy initially looks very low, but compared to random guessing the model perfomrms 55% better than random guessing (the benchmark)"
   ]
  },
  {
   "cell_type": "code",
   "execution_count": 14,
   "id": "0327ca73",
   "metadata": {},
   "outputs": [
    {
     "data": {
      "text/plain": [
       "0.651"
      ]
     },
     "execution_count": 14,
     "metadata": {},
     "output_type": "execute_result"
    }
   ],
   "source": [
    "# Accuracy\n",
    "accuracy_score(result,y_test)"
   ]
  },
  {
   "cell_type": "markdown",
   "id": "eb1370c4",
   "metadata": {},
   "source": [
    "# 6. Testing on unseen data"
   ]
  },
  {
   "cell_type": "code",
   "execution_count": 15,
   "id": "21da0c93",
   "metadata": {},
   "outputs": [],
   "source": [
    "#Function that selects the prediction\n",
    "def predict_title(news):\n",
    "    test = vect.transform(news)\n",
    "    pred = mnb.predict(test)\n",
    "    if pred == 0: return 'WELLNESS'\n",
    "    elif pred == 1: return 'POLITICS'\n",
    "    elif pred == 2: return 'ENTERTAINMENT'\n",
    "    elif pred == 3: return 'TRAVEL'\n",
    "    elif pred == 4: return 'STYLE & BEAUTY'\n",
    "    elif pred == 5: return 'PARENTING'\n",
    "    elif pred == 6: return 'FOOD & DRINK'\n",
    "    elif pred == 7: return 'WORLD NEWS'\n",
    "    elif pred == 8: return 'BUSINESS'\n",
    "    elif pred == 9: return 'SPORTS' \n",
    "    else: return 'no class found'"
   ]
  },
  {
   "cell_type": "code",
   "execution_count": 25,
   "id": "1e3eb07a",
   "metadata": {},
   "outputs": [
    {
     "name": "stdout",
     "output_type": "stream",
     "text": [
      "SPORTS PARENTING ENTERTAINMENT ENTERTAINMENT\n"
     ]
    }
   ],
   "source": [
    "print(predict_title([\"Tom Brady traded to the Celtics\"]), \n",
    "      predict_title([\"Don't give your kids crack cocaine\"]),\n",
    "      predict_title([\"Morbius Breaks all time box office ticket sales\"]),\n",
    "      predict_title([\"India Begins to Invade Canada starting at the Eastern Border\"]))\n"
   ]
  },
  {
   "cell_type": "markdown",
   "id": "2662d91e",
   "metadata": {},
   "source": [
    "Clearly the model is imperfect especially with the last prediction, but this is my first intro to NLP"
   ]
  }
 ],
 "metadata": {
  "kernelspec": {
   "display_name": "Python 3 (ipykernel)",
   "language": "python",
   "name": "python3"
  },
  "language_info": {
   "codemirror_mode": {
    "name": "ipython",
    "version": 3
   },
   "file_extension": ".py",
   "mimetype": "text/x-python",
   "name": "python",
   "nbconvert_exporter": "python",
   "pygments_lexer": "ipython3",
   "version": "3.9.7"
  }
 },
 "nbformat": 4,
 "nbformat_minor": 5
}
