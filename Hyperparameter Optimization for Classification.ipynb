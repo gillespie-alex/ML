{
 "cells": [
  {
   "cell_type": "markdown",
   "id": "54eba759",
   "metadata": {},
   "source": [
    "# Import Libraries and Dataset"
   ]
  },
  {
   "cell_type": "code",
   "execution_count": null,
   "id": "258c7644",
   "metadata": {},
   "outputs": [],
   "source": [
    "import pandas as pd\n",
    "url = 'https://raw.githubusercontent.com/jbrownlee/Datasets/master/sonar.csv'\n",
    "dataframe = pd.read_csv(url, header=None)"
   ]
  },
  {
   "cell_type": "code",
   "execution_count": null,
   "id": "d6d826f2",
   "metadata": {},
   "outputs": [],
   "source": [
    "dataframe.head()"
   ]
  },
  {
   "cell_type": "code",
   "execution_count": null,
   "id": "046a1060",
   "metadata": {},
   "outputs": [],
   "source": [
    "dataframe.shape"
   ]
  },
  {
   "cell_type": "markdown",
   "id": "73949160",
   "metadata": {},
   "source": [
    "This dataset is the sonar dataset of 208 rows with 60 features and is a staple of ML datasets for classification learning"
   ]
  },
  {
   "cell_type": "code",
   "execution_count": null,
   "id": "ec6700de",
   "metadata": {
    "scrolled": true
   },
   "outputs": [],
   "source": [
    "data = dataframe.values\n",
    "X, y = data[:, :-1], data[:, -1]\n",
    "print(X.shape, y.shape)"
   ]
  },
  {
   "cell_type": "markdown",
   "id": "09542dd7",
   "metadata": {},
   "source": [
    "# Define Model"
   ]
  },
  {
   "cell_type": "code",
   "execution_count": null,
   "id": "9f0766e8",
   "metadata": {},
   "outputs": [],
   "source": [
    "from scipy.stats import loguniform\n",
    "from sklearn.linear_model import LogisticRegression\n",
    "from sklearn.model_selection import RepeatedStratifiedKFold\n",
    "from sklearn.model_selection import RandomizedSearchCV\n",
    "from sklearn.model_selection import GridSearchCV\n",
    "\n",
    "model = LogisticRegression()"
   ]
  },
  {
   "cell_type": "markdown",
   "id": "ac2181e1",
   "metadata": {},
   "source": [
    "# Summary of Searches"
   ]
  },
  {
   "cell_type": "markdown",
   "id": "91c573cd",
   "metadata": {},
   "source": [
    "Both techniques evaluate models for a given hyperparameter vector using cross-validation, hence the \"CV.\" This `cv` argument allows either an integer number of folds to be specified or a configured cross-validation object. In this case we define a cross-validation object so as to gain more control over the model evaluation and make the evaluation procedure obvious and explicit.\n",
    "\n",
    "And both hyperparameter optimization classes provide a `scoring` argument that takes a string indicating the metric to optimize. This metric must be maximizing, meaning better models results in larger scores. It's not looking to minimize some sort of loss function, but rather to maximize a scoring function. For classification tasks this could be `accuracy` and for regressions this could be `neg_mean_absolute_error` where values closer to zero reprsent less prediction error by the model."
   ]
  },
  {
   "cell_type": "markdown",
   "id": "ba38e8c2",
   "metadata": {},
   "source": [
    "# Random Search for Hyperparameter Tuning"
   ]
  },
  {
   "cell_type": "markdown",
   "id": "68931560",
   "metadata": {},
   "source": [
    "The RandomSearch needs the search space which is defined as a dictionary where the names are the hyperparameter arguments to the model and the values are discrete values or a distribution of values to sample in the the random search. Repeats Stratified K-Fold n times with different randomization in each repetition."
   ]
  },
  {
   "cell_type": "code",
   "execution_count": null,
   "id": "b6c68ce2",
   "metadata": {},
   "outputs": [],
   "source": [
    "# define the evaluation\n",
    "cv = RepeatedStratifiedKFold(n_splits=10, n_repeats=3, random_state=1)\n",
    "# define the search space\n",
    "space = dict()\n",
    "space['solver'] = ['newton-cg','lbfgs','liblinear']\n",
    "space['penalty'] = ['none','l1','l2','elasticnet']\n",
    "space['C'] = loguniform(1e-5, 100)\n",
    "# define search\n",
    "search = RandomizedSearchCV(model,\n",
    "                            space,\n",
    "                            n_iter=500,\n",
    "                            scoring='accuracy',\n",
    "                            n_jobs=-1,\n",
    "                            cv=cv,\n",
    "                            random_state=1)\n",
    "# execute search\n",
    "result = search.fit(X, y)"
   ]
  },
  {
   "cell_type": "code",
   "execution_count": null,
   "id": "73e795df",
   "metadata": {},
   "outputs": [],
   "source": [
    "# Summarize Results\n",
    "print('Best Score: %s' % result.best_score_)\n",
    "print('Best Hyperparameters: %s' % result.best_params_)"
   ]
  },
  {
   "cell_type": "markdown",
   "id": "4e2abb9c",
   "metadata": {},
   "source": [
    "# Grid Search for Hyperparameter Tuning"
   ]
  },
  {
   "cell_type": "markdown",
   "id": "b12e303d",
   "metadata": {},
   "source": [
    "With GridSearch the search space must be a discrete grid to be searched. This means that instead of using a log-uniform for `C`, we need to specify discrete values on a log scale"
   ]
  },
  {
   "cell_type": "code",
   "execution_count": null,
   "id": "57c4b8c1",
   "metadata": {},
   "outputs": [],
   "source": [
    "model_2 = LogisticRegression()\n",
    "\n",
    "# define evaluation\n",
    "cv = RepeatedStratifiedKFold(n_splits=10, n_repeats=3, random_state=1)\n",
    "# define search space\n",
    "space = dict()\n",
    "space['solver'] = ['newton-cg','lbfgs','liblinear']\n",
    "space['penalty'] = ['none','l1','l2','elasticnet']\n",
    "space['C'] = [1e-5, 1e-4, 1e-3, 1e-2, 1e-1, 1, 10, 100]\n",
    "# define search\n",
    "search = GridSearchCV(model_2, space, scoring='accuracy', n_jobs=-1, cv=cv)\n",
    "# execute search\n",
    "result = search.fit(X, y)\n",
    "# summarize result"
   ]
  },
  {
   "cell_type": "code",
   "execution_count": null,
   "id": "ae5c2bcf",
   "metadata": {
    "scrolled": true
   },
   "outputs": [],
   "source": [
    "# Summarize the Results\n",
    "print('Best Score: %s' % result.best_score_)\n",
    "print('Best Hyperparameters: %s' % result.best_params_)"
   ]
  }
 ],
 "metadata": {
  "kernelspec": {
   "display_name": "Python 3 (ipykernel)",
   "language": "python",
   "name": "python3"
  },
  "language_info": {
   "codemirror_mode": {
    "name": "ipython",
    "version": 3
   },
   "file_extension": ".py",
   "mimetype": "text/x-python",
   "name": "python",
   "nbconvert_exporter": "python",
   "pygments_lexer": "ipython3",
   "version": "3.9.7"
  }
 },
 "nbformat": 4,
 "nbformat_minor": 5
}
