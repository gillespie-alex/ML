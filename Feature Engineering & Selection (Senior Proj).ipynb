{
 "cells": [
  {
   "cell_type": "markdown",
   "id": "c79ed0a2",
   "metadata": {},
   "source": [
    "# Import Libraries and Dataset"
   ]
  },
  {
   "cell_type": "code",
   "execution_count": 2,
   "id": "0beebee4",
   "metadata": {},
   "outputs": [
    {
     "data": {
      "text/html": [
       "<div>\n",
       "<style scoped>\n",
       "    .dataframe tbody tr th:only-of-type {\n",
       "        vertical-align: middle;\n",
       "    }\n",
       "\n",
       "    .dataframe tbody tr th {\n",
       "        vertical-align: top;\n",
       "    }\n",
       "\n",
       "    .dataframe thead th {\n",
       "        text-align: right;\n",
       "    }\n",
       "</style>\n",
       "<table border=\"1\" class=\"dataframe\">\n",
       "  <thead>\n",
       "    <tr style=\"text-align: right;\">\n",
       "      <th></th>\n",
       "      <th>BMI</th>\n",
       "      <th>Smoking</th>\n",
       "      <th>AlcoholDrinking</th>\n",
       "      <th>Stroke</th>\n",
       "      <th>PhysicalHealth</th>\n",
       "      <th>MentalHealth</th>\n",
       "      <th>DiffWalking</th>\n",
       "      <th>PhysicalActivity</th>\n",
       "      <th>SleepTime</th>\n",
       "      <th>Asthma</th>\n",
       "      <th>...</th>\n",
       "      <th>Diabetic_No</th>\n",
       "      <th>Diabetic_No, borderline diabetes</th>\n",
       "      <th>Diabetic_Yes</th>\n",
       "      <th>Diabetic_Yes (during pregnancy)</th>\n",
       "      <th>GenHealth_Excellent</th>\n",
       "      <th>GenHealth_Fair</th>\n",
       "      <th>GenHealth_Good</th>\n",
       "      <th>GenHealth_Poor</th>\n",
       "      <th>GenHealth_Very good</th>\n",
       "      <th>HeartDisease</th>\n",
       "    </tr>\n",
       "  </thead>\n",
       "  <tbody>\n",
       "    <tr>\n",
       "      <th>0</th>\n",
       "      <td>16.60</td>\n",
       "      <td>1</td>\n",
       "      <td>0</td>\n",
       "      <td>0</td>\n",
       "      <td>3</td>\n",
       "      <td>30</td>\n",
       "      <td>0</td>\n",
       "      <td>1</td>\n",
       "      <td>5</td>\n",
       "      <td>1</td>\n",
       "      <td>...</td>\n",
       "      <td>0</td>\n",
       "      <td>0</td>\n",
       "      <td>1</td>\n",
       "      <td>0</td>\n",
       "      <td>0</td>\n",
       "      <td>0</td>\n",
       "      <td>0</td>\n",
       "      <td>0</td>\n",
       "      <td>1</td>\n",
       "      <td>0</td>\n",
       "    </tr>\n",
       "    <tr>\n",
       "      <th>1</th>\n",
       "      <td>20.34</td>\n",
       "      <td>0</td>\n",
       "      <td>0</td>\n",
       "      <td>1</td>\n",
       "      <td>0</td>\n",
       "      <td>0</td>\n",
       "      <td>0</td>\n",
       "      <td>1</td>\n",
       "      <td>7</td>\n",
       "      <td>0</td>\n",
       "      <td>...</td>\n",
       "      <td>1</td>\n",
       "      <td>0</td>\n",
       "      <td>0</td>\n",
       "      <td>0</td>\n",
       "      <td>0</td>\n",
       "      <td>0</td>\n",
       "      <td>0</td>\n",
       "      <td>0</td>\n",
       "      <td>1</td>\n",
       "      <td>0</td>\n",
       "    </tr>\n",
       "    <tr>\n",
       "      <th>2</th>\n",
       "      <td>26.58</td>\n",
       "      <td>1</td>\n",
       "      <td>0</td>\n",
       "      <td>0</td>\n",
       "      <td>20</td>\n",
       "      <td>30</td>\n",
       "      <td>0</td>\n",
       "      <td>1</td>\n",
       "      <td>8</td>\n",
       "      <td>1</td>\n",
       "      <td>...</td>\n",
       "      <td>0</td>\n",
       "      <td>0</td>\n",
       "      <td>1</td>\n",
       "      <td>0</td>\n",
       "      <td>0</td>\n",
       "      <td>1</td>\n",
       "      <td>0</td>\n",
       "      <td>0</td>\n",
       "      <td>0</td>\n",
       "      <td>0</td>\n",
       "    </tr>\n",
       "    <tr>\n",
       "      <th>3</th>\n",
       "      <td>24.21</td>\n",
       "      <td>0</td>\n",
       "      <td>0</td>\n",
       "      <td>0</td>\n",
       "      <td>0</td>\n",
       "      <td>0</td>\n",
       "      <td>0</td>\n",
       "      <td>0</td>\n",
       "      <td>6</td>\n",
       "      <td>0</td>\n",
       "      <td>...</td>\n",
       "      <td>1</td>\n",
       "      <td>0</td>\n",
       "      <td>0</td>\n",
       "      <td>0</td>\n",
       "      <td>0</td>\n",
       "      <td>0</td>\n",
       "      <td>1</td>\n",
       "      <td>0</td>\n",
       "      <td>0</td>\n",
       "      <td>0</td>\n",
       "    </tr>\n",
       "    <tr>\n",
       "      <th>4</th>\n",
       "      <td>23.71</td>\n",
       "      <td>0</td>\n",
       "      <td>0</td>\n",
       "      <td>0</td>\n",
       "      <td>28</td>\n",
       "      <td>0</td>\n",
       "      <td>1</td>\n",
       "      <td>1</td>\n",
       "      <td>8</td>\n",
       "      <td>0</td>\n",
       "      <td>...</td>\n",
       "      <td>1</td>\n",
       "      <td>0</td>\n",
       "      <td>0</td>\n",
       "      <td>0</td>\n",
       "      <td>0</td>\n",
       "      <td>0</td>\n",
       "      <td>0</td>\n",
       "      <td>0</td>\n",
       "      <td>1</td>\n",
       "      <td>0</td>\n",
       "    </tr>\n",
       "  </tbody>\n",
       "</table>\n",
       "<p>5 rows × 42 columns</p>\n",
       "</div>"
      ],
      "text/plain": [
       "     BMI  Smoking  AlcoholDrinking  Stroke  PhysicalHealth  MentalHealth  \\\n",
       "0  16.60        1                0       0               3            30   \n",
       "1  20.34        0                0       1               0             0   \n",
       "2  26.58        1                0       0              20            30   \n",
       "3  24.21        0                0       0               0             0   \n",
       "4  23.71        0                0       0              28             0   \n",
       "\n",
       "   DiffWalking  PhysicalActivity  SleepTime  Asthma  ...  Diabetic_No  \\\n",
       "0            0                 1          5       1  ...            0   \n",
       "1            0                 1          7       0  ...            1   \n",
       "2            0                 1          8       1  ...            0   \n",
       "3            0                 0          6       0  ...            1   \n",
       "4            1                 1          8       0  ...            1   \n",
       "\n",
       "   Diabetic_No, borderline diabetes  Diabetic_Yes  \\\n",
       "0                                 0             1   \n",
       "1                                 0             0   \n",
       "2                                 0             1   \n",
       "3                                 0             0   \n",
       "4                                 0             0   \n",
       "\n",
       "   Diabetic_Yes (during pregnancy)  GenHealth_Excellent  GenHealth_Fair  \\\n",
       "0                                0                    0               0   \n",
       "1                                0                    0               0   \n",
       "2                                0                    0               1   \n",
       "3                                0                    0               0   \n",
       "4                                0                    0               0   \n",
       "\n",
       "   GenHealth_Good  GenHealth_Poor  GenHealth_Very good  HeartDisease  \n",
       "0               0               0                    1             0  \n",
       "1               0               0                    1             0  \n",
       "2               0               0                    0             0  \n",
       "3               1               0                    0             0  \n",
       "4               0               0                    1             0  \n",
       "\n",
       "[5 rows x 42 columns]"
      ]
     },
     "execution_count": 2,
     "metadata": {},
     "output_type": "execute_result"
    }
   ],
   "source": [
    "import pandas as pd\n",
    "\n",
    "df = pd.read_csv('./Cleaned_Data.csv')\n",
    "df.head()"
   ]
  },
  {
   "cell_type": "code",
   "execution_count": 3,
   "id": "7a32ed3b",
   "metadata": {},
   "outputs": [],
   "source": [
    "for cols in df.columns:\n",
    "    df[cols] = df[cols].astype(float)"
   ]
  },
  {
   "cell_type": "code",
   "execution_count": 4,
   "id": "089b040f",
   "metadata": {},
   "outputs": [
    {
     "data": {
      "text/plain": [
       "array([ 3.,  0., 20., 28.,  6., 15.,  5., 30.,  7.,  1.,  2., 21.,  4.,\n",
       "       10., 14., 18.,  8., 25., 16., 29., 27., 17., 24., 12., 23., 26.,\n",
       "       22., 19.,  9., 13., 11.])"
      ]
     },
     "execution_count": 4,
     "metadata": {},
     "output_type": "execute_result"
    }
   ],
   "source": [
    "df.PhysicalHealth.unique()"
   ]
  },
  {
   "cell_type": "code",
   "execution_count": 5,
   "id": "eb278e61",
   "metadata": {
    "scrolled": true
   },
   "outputs": [
    {
     "data": {
      "text/plain": [
       "0.0    292422\n",
       "1.0     27373\n",
       "Name: HeartDisease, dtype: int64"
      ]
     },
     "execution_count": 5,
     "metadata": {},
     "output_type": "execute_result"
    }
   ],
   "source": [
    "df['HeartDisease'].value_counts()"
   ]
  },
  {
   "cell_type": "markdown",
   "id": "c76e4d7d",
   "metadata": {},
   "source": [
    "# Feature Engineering"
   ]
  },
  {
   "cell_type": "markdown",
   "id": "8b24d54d",
   "metadata": {},
   "source": [
    "### InterQuartile Range for Outlier Detection and Removal"
   ]
  },
  {
   "cell_type": "code",
   "execution_count": 6,
   "id": "62741e8b",
   "metadata": {},
   "outputs": [
    {
     "data": {
      "text/plain": [
       "count    319795.000000\n",
       "mean          0.093244\n",
       "std           0.290775\n",
       "min           0.000000\n",
       "25%           0.000000\n",
       "50%           0.000000\n",
       "75%           0.000000\n",
       "max           1.000000\n",
       "Name: SkinCancer, dtype: float64"
      ]
     },
     "execution_count": 6,
     "metadata": {},
     "output_type": "execute_result"
    }
   ],
   "source": [
    "df.SkinCancer.describe()"
   ]
  },
  {
   "cell_type": "code",
   "execution_count": 11,
   "id": "3efdb6e7",
   "metadata": {},
   "outputs": [],
   "source": [
    "def IQR_outliers(df_, col):\n",
    "    Q1 = df_[col].quantile(0.25)\n",
    "    Q3 = df_[col].quantile(0.75)\n",
    "    \n",
    "    IQR = Q3 - Q1\n",
    "    floor = Q1 - 1.85*IQR\n",
    "    ceiling = Q3 + 1.85*IQR\n",
    "    \n",
    "    print(df_[(df_[col] < floor) | (df_[col] > ceiling)].shape)\n",
    "    \n",
    "    return df_[(df_[col] > floor) & (df_[col] < ceiling)]"
   ]
  },
  {
   "cell_type": "code",
   "execution_count": 8,
   "id": "e12f430e",
   "metadata": {},
   "outputs": [],
   "source": [
    "# Columns that are non-binary\n",
    "cols = ['BMI', 'PhysicalHealth', 'MentalHealth', 'SleepTime']"
   ]
  },
  {
   "cell_type": "code",
   "execution_count": 12,
   "id": "32d376ba",
   "metadata": {},
   "outputs": [
    {
     "name": "stdout",
     "output_type": "stream",
     "text": [
      "(6229, 42)\n",
      "(45077, 42)\n",
      "(38407, 42)\n",
      "(2276, 42)\n"
     ]
    }
   ],
   "source": [
    "df2 = df.copy()\n",
    "for C in cols:\n",
    "    df2 = IQR_outliers(df2, C)"
   ]
  },
  {
   "cell_type": "code",
   "execution_count": 13,
   "id": "fd5b4ed2",
   "metadata": {},
   "outputs": [
    {
     "data": {
      "text/plain": [
       "((319795, 42), (227806, 42))"
      ]
     },
     "execution_count": 13,
     "metadata": {},
     "output_type": "execute_result"
    }
   ],
   "source": [
    "df.shape, df2.shape"
   ]
  },
  {
   "cell_type": "markdown",
   "id": "99c20176",
   "metadata": {},
   "source": [
    "### Compare distributions pre and post outlier removal"
   ]
  },
  {
   "cell_type": "code",
   "execution_count": 14,
   "id": "6df9ebbc",
   "metadata": {},
   "outputs": [
    {
     "data": {
      "text/plain": [
       "[<matplotlib.lines.Line2D at 0x7f2c15d4fdf0>]"
      ]
     },
     "execution_count": 14,
     "metadata": {},
     "output_type": "execute_result"
    },
    {
     "data": {
      "image/png": "[encoded data removed]",
      "text/plain": [
       "<Figure size 432x288 with 1 Axes>"
      ]
     },
     "metadata": {
      "needs_background": "light"
     },
     "output_type": "display_data"
    }
   ],
   "source": [
    "from scipy.stats import norm\n",
    "import numpy as np\n",
    "from matplotlib import pyplot as plt\n",
    "\n",
    "plt.hist(df.BMI, bins=20, rwidth=0.8, density=True)\n",
    "plt.title('Original dataset BMI distribution')\n",
    "plt.xlabel('BMI')\n",
    "plt.ylabel('Count')\n",
    "\n",
    "rng = np.arange(df.BMI.min(), df.BMI.max(), 0.01)\n",
    "plt.plot(rng, norm.pdf(rng, df.BMI.mean(),df.BMI.std()))"
   ]
  },
  {
   "cell_type": "code",
   "execution_count": 15,
   "id": "5a67f3fa",
   "metadata": {},
   "outputs": [
    {
     "data": {
      "text/plain": [
       "[<matplotlib.lines.Line2D at 0x7f2c0f03b3a0>]"
      ]
     },
     "execution_count": 15,
     "metadata": {},
     "output_type": "execute_result"
    },
    {
     "data": {
      "image/png": "[encoded data removed]",
      "text/plain": [
       "<Figure size 432x288 with 1 Axes>"
      ]
     },
     "metadata": {
      "needs_background": "light"
     },
     "output_type": "display_data"
    }
   ],
   "source": [
    "plt.hist(df2.BMI, bins=20, rwidth=0.8, density=True)\n",
    "plt.title('New dataset BMI distribution')\n",
    "plt.xlabel('BMI')\n",
    "plt.ylabel('Count')\n",
    "\n",
    "rng = np.arange(df2.BMI.min(), df2.BMI.max(), 0.01)\n",
    "plt.plot(rng, norm.pdf(rng, df2.BMI.mean(),df2.BMI.std()))"
   ]
  },
  {
   "cell_type": "markdown",
   "id": "0338613b",
   "metadata": {},
   "source": [
    "#### Distribution relative dependent variable"
   ]
  },
  {
   "cell_type": "code",
   "execution_count": 16,
   "id": "be0bc2c6",
   "metadata": {},
   "outputs": [],
   "source": [
    "def plot_histogram_dv(x,y):\n",
    "    plt.hist(list(x[y==0]), alpha=0.5, label='HeartDisease=0')\n",
    "    plt.hist(list(x[y==1]), alpha=0.5, label='HeartDisease=1')\n",
    "    plt.title('Histogram of {x.name}')\n",
    "    plt.xlabel('Value')\n",
    "    plt.ylabel('Frequency')\n",
    "    plt.legend(loc='upper right')\n",
    "    plt.show()"
   ]
  },
  {
   "cell_type": "markdown",
   "id": "13e3291f",
   "metadata": {},
   "source": [
    "Old dataset"
   ]
  },
  {
   "cell_type": "code",
   "execution_count": 17,
   "id": "5d5a77a0",
   "metadata": {
    "scrolled": false
   },
   "outputs": [
    {
     "data": {
      "image/png": "[encoded data removed]",
      "text/plain": [
       "<Figure size 432x288 with 1 Axes>"
      ]
     },
     "metadata": {
      "needs_background": "light"
     },
     "output_type": "display_data"
    }
   ],
   "source": [
    "plot_histogram_dv(df['BMI'], df.iloc[:, -1])"
   ]
  },
  {
   "cell_type": "markdown",
   "id": "a6551bdf",
   "metadata": {},
   "source": [
    "New dataset"
   ]
  },
  {
   "cell_type": "code",
   "execution_count": 18,
   "id": "db7d84ba",
   "metadata": {},
   "outputs": [
    {
     "data": {
      "image/png": "[encoded data removed]",
      "text/plain": [
       "<Figure size 432x288 with 1 Axes>"
      ]
     },
     "metadata": {
      "needs_background": "light"
     },
     "output_type": "display_data"
    }
   ],
   "source": [
    "plot_histogram_dv(df2['BMI'], df2.iloc[:, -1])"
   ]
  },
  {
   "cell_type": "markdown",
   "id": "9d529b13",
   "metadata": {},
   "source": [
    "# Train Test Split"
   ]
  },
  {
   "cell_type": "markdown",
   "id": "d9658c66",
   "metadata": {},
   "source": [
    "Old dataset"
   ]
  },
  {
   "cell_type": "code",
   "execution_count": 21,
   "id": "49e01d37",
   "metadata": {},
   "outputs": [
    {
     "data": {
      "text/plain": [
       "((319795, 41), (319795,))"
      ]
     },
     "execution_count": 21,
     "metadata": {},
     "output_type": "execute_result"
    }
   ],
   "source": [
    "X_old, y_old = df.iloc[:, :-1], df.iloc[:, -1]\n",
    "(X_old.shape, y_old.shape)"
   ]
  },
  {
   "cell_type": "code",
   "execution_count": 22,
   "id": "db1052f3",
   "metadata": {},
   "outputs": [
    {
     "data": {
      "text/plain": [
       "((255836, 41), (63959, 41))"
      ]
     },
     "execution_count": 22,
     "metadata": {},
     "output_type": "execute_result"
    }
   ],
   "source": [
    "from sklearn.model_selection import train_test_split\n",
    "\n",
    "X_old_train, X_old_test, y_old_train, y_old_test = train_test_split(\n",
    "    X_old, y_old, test_size=0.2, random_state=42)\n",
    "\n",
    "X_old_train.shape, X_old_test.shape"
   ]
  },
  {
   "cell_type": "markdown",
   "id": "aad4e3d6",
   "metadata": {},
   "source": [
    "New dataset"
   ]
  },
  {
   "cell_type": "code",
   "execution_count": 23,
   "id": "149a49de",
   "metadata": {},
   "outputs": [
    {
     "data": {
      "text/plain": [
       "((227806, 41), (227806,))"
      ]
     },
     "execution_count": 23,
     "metadata": {},
     "output_type": "execute_result"
    }
   ],
   "source": [
    "X, y = df2.iloc[:, :-1], df2.iloc[:, -1]\n",
    "(X.shape, y.shape)"
   ]
  },
  {
   "cell_type": "code",
   "execution_count": 24,
   "id": "1fc60cf8",
   "metadata": {},
   "outputs": [
    {
     "data": {
      "text/plain": [
       "((182244, 41), (45562, 41))"
      ]
     },
     "execution_count": 24,
     "metadata": {},
     "output_type": "execute_result"
    }
   ],
   "source": [
    "X_train, X_test, y_train, y_test = train_test_split(\n",
    "    X, y, test_size=0.2, random_state=42)\n",
    "\n",
    "X_train.shape, X_test.shape"
   ]
  },
  {
   "cell_type": "markdown",
   "id": "3e10d2e8",
   "metadata": {},
   "source": [
    "# Comparing Accuracy for Old & New Dataset"
   ]
  },
  {
   "cell_type": "code",
   "execution_count": 30,
   "id": "68eb6a8f",
   "metadata": {},
   "outputs": [
    {
     "name": "stdout",
     "output_type": "stream",
     "text": [
      "Old dataset accuracy: 0.9126784346221798\n"
     ]
    }
   ],
   "source": [
    "from sklearn.ensemble import RandomForestClassifier\n",
    "from sklearn.metrics import accuracy_score\n",
    "\n",
    "clf1 = RandomForestClassifier(max_depth=5, random_state=42)\n",
    "clf1.fit(X_old_train, y_old_train)\n",
    "\n",
    "y_old_pred1 = clf1.predict(X_old_test)\n",
    "\n",
    "print(f'Old dataset accuracy: {accuracy_score(y_old_test,y_old_pred1)}')"
   ]
  },
  {
   "cell_type": "code",
   "execution_count": 32,
   "id": "49a8f38a",
   "metadata": {},
   "outputs": [
    {
     "name": "stdout",
     "output_type": "stream",
     "text": [
      "New dataset accuracy: 0.9312585048944295\n"
     ]
    }
   ],
   "source": [
    "clf2 = RandomForestClassifier(max_depth=5, random_state=42)\n",
    "clf2.fit(X_train, y_train)\n",
    "\n",
    "y_pred1 = clf1.predict(X_test)\n",
    "\n",
    "print(f'New dataset accuracy: {accuracy_score(y_test,y_pred1)}')"
   ]
  },
  {
   "cell_type": "code",
   "execution_count": null,
   "id": "46561bee",
   "metadata": {},
   "outputs": [],
   "source": [
    "%timeit function_call()"
   ]
  },
  {
   "cell_type": "markdown",
   "id": "23022df9",
   "metadata": {},
   "source": [
    "# L1 Regularization as Feature Selection"
   ]
  },
  {
   "cell_type": "markdown",
   "id": "91d3d419",
   "metadata": {},
   "source": [
    "Selecting features using Lasso regularisation using ***SelectFromModel***\n",
    "\n",
    "L1 regularization shrinks the coefficients of the model features/parameters to zero if they are not significant, therefore those features can be removed from the model"
   ]
  },
  {
   "cell_type": "code",
   "execution_count": 50,
   "id": "0b3beab2",
   "metadata": {},
   "outputs": [
    {
     "data": {
      "text/html": [
       "<style>#sk-container-id-2 {color: black;background-color: white;}#sk-container-id-2 pre{padding: 0;}#sk-container-id-2 div.sk-toggleable {background-color: white;}#sk-container-id-2 label.sk-toggleable__label {cursor: pointer;display: block;width: 100%;margin-bottom: 0;padding: 0.3em;box-sizing: border-box;text-align: center;}#sk-container-id-2 label.sk-toggleable__label-arrow:before {content: \"▸\";float: left;margin-right: 0.25em;color: #696969;}#sk-container-id-2 label.sk-toggleable__label-arrow:hover:before {color: black;}#sk-container-id-2 div.sk-estimator:hover label.sk-toggleable__label-arrow:before {color: black;}#sk-container-id-2 div.sk-toggleable__content {max-height: 0;max-width: 0;overflow: hidden;text-align: left;background-color: #f0f8ff;}#sk-container-id-2 div.sk-toggleable__content pre {margin: 0.2em;color: black;border-radius: 0.25em;background-color: #f0f8ff;}#sk-container-id-2 input.sk-toggleable__control:checked~div.sk-toggleable__content {max-height: 200px;max-width: 100%;overflow: auto;}#sk-container-id-2 input.sk-toggleable__control:checked~label.sk-toggleable__label-arrow:before {content: \"▾\";}#sk-container-id-2 div.sk-estimator input.sk-toggleable__control:checked~label.sk-toggleable__label {background-color: #d4ebff;}#sk-container-id-2 div.sk-label input.sk-toggleable__control:checked~label.sk-toggleable__label {background-color: #d4ebff;}#sk-container-id-2 input.sk-hidden--visually {border: 0;clip: rect(1px 1px 1px 1px);clip: rect(1px, 1px, 1px, 1px);height: 1px;margin: -1px;overflow: hidden;padding: 0;position: absolute;width: 1px;}#sk-container-id-2 div.sk-estimator {font-family: monospace;background-color: #f0f8ff;border: 1px dotted black;border-radius: 0.25em;box-sizing: border-box;margin-bottom: 0.5em;}#sk-container-id-2 div.sk-estimator:hover {background-color: #d4ebff;}#sk-container-id-2 div.sk-parallel-item::after {content: \"\";width: 100%;border-bottom: 1px solid gray;flex-grow: 1;}#sk-container-id-2 div.sk-label:hover label.sk-toggleable__label {background-color: #d4ebff;}#sk-container-id-2 div.sk-serial::before {content: \"\";position: absolute;border-left: 1px solid gray;box-sizing: border-box;top: 0;bottom: 0;left: 50%;z-index: 0;}#sk-container-id-2 div.sk-serial {display: flex;flex-direction: column;align-items: center;background-color: white;padding-right: 0.2em;padding-left: 0.2em;position: relative;}#sk-container-id-2 div.sk-item {position: relative;z-index: 1;}#sk-container-id-2 div.sk-parallel {display: flex;align-items: stretch;justify-content: center;background-color: white;position: relative;}#sk-container-id-2 div.sk-item::before, #sk-container-id-2 div.sk-parallel-item::before {content: \"\";position: absolute;border-left: 1px solid gray;box-sizing: border-box;top: 0;bottom: 0;left: 50%;z-index: -1;}#sk-container-id-2 div.sk-parallel-item {display: flex;flex-direction: column;z-index: 1;position: relative;background-color: white;}#sk-container-id-2 div.sk-parallel-item:first-child::after {align-self: flex-end;width: 50%;}#sk-container-id-2 div.sk-parallel-item:last-child::after {align-self: flex-start;width: 50%;}#sk-container-id-2 div.sk-parallel-item:only-child::after {width: 0;}#sk-container-id-2 div.sk-dashed-wrapped {border: 1px dashed gray;margin: 0 0.4em 0.5em 0.4em;box-sizing: border-box;padding-bottom: 0.4em;background-color: white;}#sk-container-id-2 div.sk-label label {font-family: monospace;font-weight: bold;display: inline-block;line-height: 1.2em;}#sk-container-id-2 div.sk-label-container {text-align: center;}#sk-container-id-2 div.sk-container {/* jupyter's `normalize.less` sets `[hidden] { display: none; }` but bootstrap.min.css set `[hidden] { display: none !important; }` so we also need the `!important` here to be able to override the default hidden behavior on the sphinx rendered scikit-learn.org. See: https://github.com/scikit-learn/scikit-learn/issues/21755 */display: inline-block !important;position: relative;}#sk-container-id-2 div.sk-text-repr-fallback {display: none;}</style><div id=\"sk-container-id-2\" class=\"sk-top-container\"><div class=\"sk-text-repr-fallback\"><pre>SelectFromModel(estimator=LogisticRegression(C=0.01, penalty=&#x27;l1&#x27;,\n",
       "                                             solver=&#x27;liblinear&#x27;))</pre><b>In a Jupyter environment, please rerun this cell to show the HTML representation or trust the notebook. <br />On GitHub, the HTML representation is unable to render, please try loading this page with nbviewer.org.</b></div><div class=\"sk-container\" hidden><div class=\"sk-item sk-dashed-wrapped\"><div class=\"sk-label-container\"><div class=\"sk-label sk-toggleable\"><input class=\"sk-toggleable__control sk-hidden--visually\" id=\"sk-estimator-id-4\" type=\"checkbox\" ><label for=\"sk-estimator-id-4\" class=\"sk-toggleable__label sk-toggleable__label-arrow\">SelectFromModel</label><div class=\"sk-toggleable__content\"><pre>SelectFromModel(estimator=LogisticRegression(C=0.01, penalty=&#x27;l1&#x27;,\n",
       "                                             solver=&#x27;liblinear&#x27;))</pre></div></div></div><div class=\"sk-parallel\"><div class=\"sk-parallel-item\"><div class=\"sk-item\"><div class=\"sk-label-container\"><div class=\"sk-label sk-toggleable\"><input class=\"sk-toggleable__control sk-hidden--visually\" id=\"sk-estimator-id-5\" type=\"checkbox\" ><label for=\"sk-estimator-id-5\" class=\"sk-toggleable__label sk-toggleable__label-arrow\">estimator: LogisticRegression</label><div class=\"sk-toggleable__content\"><pre>LogisticRegression(C=0.01, penalty=&#x27;l1&#x27;, solver=&#x27;liblinear&#x27;)</pre></div></div></div><div class=\"sk-serial\"><div class=\"sk-item\"><div class=\"sk-estimator sk-toggleable\"><input class=\"sk-toggleable__control sk-hidden--visually\" id=\"sk-estimator-id-6\" type=\"checkbox\" ><label for=\"sk-estimator-id-6\" class=\"sk-toggleable__label sk-toggleable__label-arrow\">LogisticRegression</label><div class=\"sk-toggleable__content\"><pre>LogisticRegression(C=0.01, penalty=&#x27;l1&#x27;, solver=&#x27;liblinear&#x27;)</pre></div></div></div></div></div></div></div></div></div></div>"
      ],
      "text/plain": [
       "SelectFromModel(estimator=LogisticRegression(C=0.01, penalty='l1',\n",
       "                                             solver='liblinear'))"
      ]
     },
     "execution_count": 50,
     "metadata": {},
     "output_type": "execute_result"
    }
   ],
   "source": [
    "from sklearn.feature_selection import SelectFromModel\n",
    "from sklearn.linear_model import LogisticRegression\n",
    "\n",
    "sel_ = SelectFromModel(LogisticRegression(C=0.01, penalty='l1', solver='liblinear'))\n",
    "# Note: the higher the value of C the result of regularization will be less and vice versa\n",
    "\n",
    "sel_.fit(X_train, y_train)"
   ]
  },
  {
   "cell_type": "code",
   "execution_count": 51,
   "id": "cf090619",
   "metadata": {},
   "outputs": [
    {
     "data": {
      "text/plain": [
       "array(['Smoking', 'AlcoholDrinking', 'Stroke', 'PhysicalHealth',\n",
       "       'MentalHealth', 'DiffWalking', 'PhysicalActivity', 'SleepTime',\n",
       "       'Asthma', 'KidneyDisease', 'SkinCancer', 'Sex_Male',\n",
       "       'AgeCategory_18-24', 'AgeCategory_25-29', 'AgeCategory_30-34',\n",
       "       'AgeCategory_35-39', 'AgeCategory_40-44', 'AgeCategory_45-49',\n",
       "       'AgeCategory_60-64', 'AgeCategory_65-69', 'AgeCategory_70-74',\n",
       "       'AgeCategory_75-79', 'AgeCategory_80 or older', 'Race_Black',\n",
       "       'Race_White', 'Diabetic_No', 'Diabetic_Yes', 'GenHealth_Excellent',\n",
       "       'GenHealth_Fair', 'GenHealth_Good', 'GenHealth_Very good'],\n",
       "      dtype=object)"
      ]
     },
     "execution_count": 51,
     "metadata": {},
     "output_type": "execute_result"
    }
   ],
   "source": [
    "sel_.get_feature_names_out()"
   ]
  },
  {
   "cell_type": "code",
   "execution_count": 52,
   "id": "dd1fefe1",
   "metadata": {},
   "outputs": [
    {
     "data": {
      "text/plain": [
       "31"
      ]
     },
     "execution_count": 52,
     "metadata": {},
     "output_type": "execute_result"
    }
   ],
   "source": [
    "len(sel_.get_feature_names_out())"
   ]
  },
  {
   "cell_type": "code",
   "execution_count": 53,
   "id": "4e0a8dff",
   "metadata": {},
   "outputs": [
    {
     "data": {
      "text/plain": [
       "array([False,  True,  True,  True,  True,  True,  True,  True,  True,\n",
       "        True,  True,  True,  True,  True,  True,  True,  True,  True,\n",
       "        True, False, False,  True,  True,  True,  True,  True, False,\n",
       "       False,  True, False, False,  True,  True, False,  True, False,\n",
       "        True,  True,  True, False,  True])"
      ]
     },
     "execution_count": 53,
     "metadata": {},
     "output_type": "execute_result"
    }
   ],
   "source": [
    "sel_.get_support()"
   ]
  },
  {
   "cell_type": "code",
   "execution_count": 54,
   "id": "a0245967",
   "metadata": {},
   "outputs": [],
   "source": [
    "# These variables hold the regularized training datasets\n",
    "X_train_reg = sel_.transform(X_train)\n",
    "X_test_reg = sel_.transform(X_test)"
   ]
  },
  {
   "cell_type": "code",
   "execution_count": 55,
   "id": "c761405b",
   "metadata": {},
   "outputs": [
    {
     "data": {
      "text/plain": [
       "((182244, 31), (182244, 41))"
      ]
     },
     "execution_count": 55,
     "metadata": {},
     "output_type": "execute_result"
    }
   ],
   "source": [
    "X_train_reg.shape, X_train.shape"
   ]
  },
  {
   "cell_type": "code",
   "execution_count": 56,
   "id": "5bec682e",
   "metadata": {},
   "outputs": [
    {
     "data": {
      "text/plain": [
       "((45562, 31), (45562, 41))"
      ]
     },
     "execution_count": 56,
     "metadata": {},
     "output_type": "execute_result"
    }
   ],
   "source": [
    "X_test_reg.shape, X_test.shape"
   ]
  },
  {
   "cell_type": "markdown",
   "id": "10d986bd",
   "metadata": {},
   "source": [
    "# Testing the Reduced Dataset"
   ]
  },
  {
   "cell_type": "code",
   "execution_count": 57,
   "id": "8ff3f8db",
   "metadata": {},
   "outputs": [],
   "source": [
    "def regularized():\n",
    "    clf_reg = RandomForestClassifier(max_depth=5, random_state=42)\n",
    "    clf_reg.fit(X_train_reg, y_train)\n",
    "\n",
    "    y_pred_reg = clf_reg.predict(X_test_reg)\n",
    "\n",
    "    print(accuracy_score(y_test,y_pred_reg))"
   ]
  },
  {
   "cell_type": "code",
   "execution_count": 58,
   "id": "be2782d8",
   "metadata": {},
   "outputs": [
    {
     "name": "stdout",
     "output_type": "stream",
     "text": [
      "0.9312365567797726\n",
      "0.9312365567797726\n",
      "0.9312365567797726\n",
      "0.9312365567797726\n",
      "0.9312365567797726\n",
      "0.9312365567797726\n",
      "0.9312365567797726\n",
      "0.9312365567797726\n",
      "2.67 s ± 18 ms per loop (mean ± std. dev. of 7 runs, 1 loop each)\n"
     ]
    }
   ],
   "source": [
    "%timeit regularized()"
   ]
  },
  {
   "cell_type": "code",
   "execution_count": 59,
   "id": "d578cf75",
   "metadata": {},
   "outputs": [],
   "source": [
    "def non_regularized():\n",
    "    clf2 = RandomForestClassifier(max_depth=5, random_state=42)\n",
    "    clf2.fit(X_train, y_train)\n",
    "\n",
    "    y_pred1 = clf1.predict(X_test)\n",
    "\n",
    "    print(f'New dataset accuracy: {accuracy_score(y_test,y_pred1)}')"
   ]
  },
  {
   "cell_type": "code",
   "execution_count": 60,
   "id": "f4f0ea8d",
   "metadata": {},
   "outputs": [
    {
     "name": "stdout",
     "output_type": "stream",
     "text": [
      "New dataset accuracy: 0.9312585048944295\n",
      "New dataset accuracy: 0.9312585048944295\n",
      "New dataset accuracy: 0.9312585048944295\n",
      "New dataset accuracy: 0.9312585048944295\n",
      "New dataset accuracy: 0.9312585048944295\n",
      "New dataset accuracy: 0.9312585048944295\n",
      "New dataset accuracy: 0.9312585048944295\n",
      "New dataset accuracy: 0.9312585048944295\n",
      "3.23 s ± 9.14 ms per loop (mean ± std. dev. of 7 runs, 1 loop each)\n"
     ]
    }
   ],
   "source": [
    "%timeit non_regularized()"
   ]
  },
  {
   "cell_type": "markdown",
   "id": "ae9437a9",
   "metadata": {},
   "source": [
    "# Conclusion"
   ]
  },
  {
   "cell_type": "markdown",
   "id": "e31410dd",
   "metadata": {},
   "source": [
    "After reducing the number of features from 42 to 31 we see almost no difference in accuracy between the reduced and non-reduced dataset yet a massive increase in training speed as would be predicted when reducing the number of features."
   ]
  }
 ],
 "metadata": {
  "kernelspec": {
   "display_name": "Python 3 (ipykernel)",
   "language": "python",
   "name": "python3"
  },
  "language_info": {
   "codemirror_mode": {
    "name": "ipython",
    "version": 3
   },
   "file_extension": ".py",
   "mimetype": "text/x-python",
   "name": "python",
   "nbconvert_exporter": "python",
   "pygments_lexer": "ipython3",
   "version": "3.9.7"
  }
 },
 "nbformat": 4,
 "nbformat_minor": 5
}
