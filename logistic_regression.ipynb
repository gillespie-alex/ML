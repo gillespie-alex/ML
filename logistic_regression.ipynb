{
 "cells": [
  {
   "cell_type": "markdown",
   "id": "9d23358a",
   "metadata": {},
   "source": [
    "# 1. Intro"
   ]
  },
  {
   "cell_type": "markdown",
   "id": "7e7685a7",
   "metadata": {},
   "source": [
    "This kernel explores the UCI Breast Cancer dataset, using a Logistic Regression.  The dataset has 31 features predicting whether a blood cell is diagnosed as 'Malignant' and 'Benign'"
   ]
  },
  {
   "cell_type": "markdown",
   "id": "9bb40c20",
   "metadata": {},
   "source": [
    "# Import Libraries and Read the Dataset"
   ]
  },
  {
   "cell_type": "markdown",
   "id": "74309b2d",
   "metadata": {},
   "source": [
    "Import the necessary libaries and read in the .csv file"
   ]
  },
  {
   "cell_type": "code",
   "execution_count": 1,
   "id": "ba0eaf5e",
   "metadata": {},
   "outputs": [],
   "source": [
    "import pandas as pd\n",
    "import numpy as np\n",
    "\n",
    "import matplotlib.pyplot as plt\n",
    "%matplotlib inline"
   ]
  },
  {
   "cell_type": "code",
   "execution_count": 2,
   "id": "8035ad50",
   "metadata": {},
   "outputs": [],
   "source": [
    "df = pd.read_csv(\"./Datasets/data.csv\")"
   ]
  },
  {
   "cell_type": "code",
   "execution_count": 3,
   "id": "ac75c82d",
   "metadata": {},
   "outputs": [
    {
     "data": {
      "text/html": [
       "<div>\n",
       "<style scoped>\n",
       "    .dataframe tbody tr th:only-of-type {\n",
       "        vertical-align: middle;\n",
       "    }\n",
       "\n",
       "    .dataframe tbody tr th {\n",
       "        vertical-align: top;\n",
       "    }\n",
       "\n",
       "    .dataframe thead th {\n",
       "        text-align: right;\n",
       "    }\n",
       "</style>\n",
       "<table border=\"1\" class=\"dataframe\">\n",
       "  <thead>\n",
       "    <tr style=\"text-align: right;\">\n",
       "      <th></th>\n",
       "      <th>id</th>\n",
       "      <th>diagnosis</th>\n",
       "      <th>radius_mean</th>\n",
       "      <th>texture_mean</th>\n",
       "      <th>perimeter_mean</th>\n",
       "      <th>area_mean</th>\n",
       "      <th>smoothness_mean</th>\n",
       "      <th>compactness_mean</th>\n",
       "      <th>concavity_mean</th>\n",
       "      <th>concave points_mean</th>\n",
       "      <th>...</th>\n",
       "      <th>texture_worst</th>\n",
       "      <th>perimeter_worst</th>\n",
       "      <th>area_worst</th>\n",
       "      <th>smoothness_worst</th>\n",
       "      <th>compactness_worst</th>\n",
       "      <th>concavity_worst</th>\n",
       "      <th>concave points_worst</th>\n",
       "      <th>symmetry_worst</th>\n",
       "      <th>fractal_dimension_worst</th>\n",
       "      <th>Unnamed: 32</th>\n",
       "    </tr>\n",
       "  </thead>\n",
       "  <tbody>\n",
       "    <tr>\n",
       "      <th>0</th>\n",
       "      <td>842302</td>\n",
       "      <td>M</td>\n",
       "      <td>17.99</td>\n",
       "      <td>10.38</td>\n",
       "      <td>122.80</td>\n",
       "      <td>1001.0</td>\n",
       "      <td>0.11840</td>\n",
       "      <td>0.27760</td>\n",
       "      <td>0.3001</td>\n",
       "      <td>0.14710</td>\n",
       "      <td>...</td>\n",
       "      <td>17.33</td>\n",
       "      <td>184.60</td>\n",
       "      <td>2019.0</td>\n",
       "      <td>0.1622</td>\n",
       "      <td>0.6656</td>\n",
       "      <td>0.7119</td>\n",
       "      <td>0.2654</td>\n",
       "      <td>0.4601</td>\n",
       "      <td>0.11890</td>\n",
       "      <td>NaN</td>\n",
       "    </tr>\n",
       "    <tr>\n",
       "      <th>1</th>\n",
       "      <td>842517</td>\n",
       "      <td>M</td>\n",
       "      <td>20.57</td>\n",
       "      <td>17.77</td>\n",
       "      <td>132.90</td>\n",
       "      <td>1326.0</td>\n",
       "      <td>0.08474</td>\n",
       "      <td>0.07864</td>\n",
       "      <td>0.0869</td>\n",
       "      <td>0.07017</td>\n",
       "      <td>...</td>\n",
       "      <td>23.41</td>\n",
       "      <td>158.80</td>\n",
       "      <td>1956.0</td>\n",
       "      <td>0.1238</td>\n",
       "      <td>0.1866</td>\n",
       "      <td>0.2416</td>\n",
       "      <td>0.1860</td>\n",
       "      <td>0.2750</td>\n",
       "      <td>0.08902</td>\n",
       "      <td>NaN</td>\n",
       "    </tr>\n",
       "    <tr>\n",
       "      <th>2</th>\n",
       "      <td>84300903</td>\n",
       "      <td>M</td>\n",
       "      <td>19.69</td>\n",
       "      <td>21.25</td>\n",
       "      <td>130.00</td>\n",
       "      <td>1203.0</td>\n",
       "      <td>0.10960</td>\n",
       "      <td>0.15990</td>\n",
       "      <td>0.1974</td>\n",
       "      <td>0.12790</td>\n",
       "      <td>...</td>\n",
       "      <td>25.53</td>\n",
       "      <td>152.50</td>\n",
       "      <td>1709.0</td>\n",
       "      <td>0.1444</td>\n",
       "      <td>0.4245</td>\n",
       "      <td>0.4504</td>\n",
       "      <td>0.2430</td>\n",
       "      <td>0.3613</td>\n",
       "      <td>0.08758</td>\n",
       "      <td>NaN</td>\n",
       "    </tr>\n",
       "    <tr>\n",
       "      <th>3</th>\n",
       "      <td>84348301</td>\n",
       "      <td>M</td>\n",
       "      <td>11.42</td>\n",
       "      <td>20.38</td>\n",
       "      <td>77.58</td>\n",
       "      <td>386.1</td>\n",
       "      <td>0.14250</td>\n",
       "      <td>0.28390</td>\n",
       "      <td>0.2414</td>\n",
       "      <td>0.10520</td>\n",
       "      <td>...</td>\n",
       "      <td>26.50</td>\n",
       "      <td>98.87</td>\n",
       "      <td>567.7</td>\n",
       "      <td>0.2098</td>\n",
       "      <td>0.8663</td>\n",
       "      <td>0.6869</td>\n",
       "      <td>0.2575</td>\n",
       "      <td>0.6638</td>\n",
       "      <td>0.17300</td>\n",
       "      <td>NaN</td>\n",
       "    </tr>\n",
       "    <tr>\n",
       "      <th>4</th>\n",
       "      <td>84358402</td>\n",
       "      <td>M</td>\n",
       "      <td>20.29</td>\n",
       "      <td>14.34</td>\n",
       "      <td>135.10</td>\n",
       "      <td>1297.0</td>\n",
       "      <td>0.10030</td>\n",
       "      <td>0.13280</td>\n",
       "      <td>0.1980</td>\n",
       "      <td>0.10430</td>\n",
       "      <td>...</td>\n",
       "      <td>16.67</td>\n",
       "      <td>152.20</td>\n",
       "      <td>1575.0</td>\n",
       "      <td>0.1374</td>\n",
       "      <td>0.2050</td>\n",
       "      <td>0.4000</td>\n",
       "      <td>0.1625</td>\n",
       "      <td>0.2364</td>\n",
       "      <td>0.07678</td>\n",
       "      <td>NaN</td>\n",
       "    </tr>\n",
       "  </tbody>\n",
       "</table>\n",
       "<p>5 rows × 33 columns</p>\n",
       "</div>"
      ],
      "text/plain": [
       "         id diagnosis  radius_mean  texture_mean  perimeter_mean  area_mean  \\\n",
       "0    842302         M        17.99         10.38          122.80     1001.0   \n",
       "1    842517         M        20.57         17.77          132.90     1326.0   \n",
       "2  84300903         M        19.69         21.25          130.00     1203.0   \n",
       "3  84348301         M        11.42         20.38           77.58      386.1   \n",
       "4  84358402         M        20.29         14.34          135.10     1297.0   \n",
       "\n",
       "   smoothness_mean  compactness_mean  concavity_mean  concave points_mean  \\\n",
       "0          0.11840           0.27760          0.3001              0.14710   \n",
       "1          0.08474           0.07864          0.0869              0.07017   \n",
       "2          0.10960           0.15990          0.1974              0.12790   \n",
       "3          0.14250           0.28390          0.2414              0.10520   \n",
       "4          0.10030           0.13280          0.1980              0.10430   \n",
       "\n",
       "   ...  texture_worst  perimeter_worst  area_worst  smoothness_worst  \\\n",
       "0  ...          17.33           184.60      2019.0            0.1622   \n",
       "1  ...          23.41           158.80      1956.0            0.1238   \n",
       "2  ...          25.53           152.50      1709.0            0.1444   \n",
       "3  ...          26.50            98.87       567.7            0.2098   \n",
       "4  ...          16.67           152.20      1575.0            0.1374   \n",
       "\n",
       "   compactness_worst  concavity_worst  concave points_worst  symmetry_worst  \\\n",
       "0             0.6656           0.7119                0.2654          0.4601   \n",
       "1             0.1866           0.2416                0.1860          0.2750   \n",
       "2             0.4245           0.4504                0.2430          0.3613   \n",
       "3             0.8663           0.6869                0.2575          0.6638   \n",
       "4             0.2050           0.4000                0.1625          0.2364   \n",
       "\n",
       "   fractal_dimension_worst  Unnamed: 32  \n",
       "0                  0.11890          NaN  \n",
       "1                  0.08902          NaN  \n",
       "2                  0.08758          NaN  \n",
       "3                  0.17300          NaN  \n",
       "4                  0.07678          NaN  \n",
       "\n",
       "[5 rows x 33 columns]"
      ]
     },
     "execution_count": 3,
     "metadata": {},
     "output_type": "execute_result"
    }
   ],
   "source": [
    "df.head()"
   ]
  },
  {
   "cell_type": "code",
   "execution_count": 4,
   "id": "d6633335",
   "metadata": {},
   "outputs": [
    {
     "data": {
      "text/plain": [
       "(569, 33)"
      ]
     },
     "execution_count": 4,
     "metadata": {},
     "output_type": "execute_result"
    }
   ],
   "source": [
    "df.shape"
   ]
  },
  {
   "cell_type": "code",
   "execution_count": 5,
   "id": "e3a01869",
   "metadata": {},
   "outputs": [
    {
     "name": "stdout",
     "output_type": "stream",
     "text": [
      "<class 'pandas.core.frame.DataFrame'>\n",
      "RangeIndex: 569 entries, 0 to 568\n",
      "Data columns (total 33 columns):\n",
      " #   Column                   Non-Null Count  Dtype  \n",
      "---  ------                   --------------  -----  \n",
      " 0   id                       569 non-null    int64  \n",
      " 1   diagnosis                569 non-null    object \n",
      " 2   radius_mean              569 non-null    float64\n",
      " 3   texture_mean             569 non-null    float64\n",
      " 4   perimeter_mean           569 non-null    float64\n",
      " 5   area_mean                569 non-null    float64\n",
      " 6   smoothness_mean          569 non-null    float64\n",
      " 7   compactness_mean         569 non-null    float64\n",
      " 8   concavity_mean           569 non-null    float64\n",
      " 9   concave points_mean      569 non-null    float64\n",
      " 10  symmetry_mean            569 non-null    float64\n",
      " 11  fractal_dimension_mean   569 non-null    float64\n",
      " 12  radius_se                569 non-null    float64\n",
      " 13  texture_se               569 non-null    float64\n",
      " 14  perimeter_se             569 non-null    float64\n",
      " 15  area_se                  569 non-null    float64\n",
      " 16  smoothness_se            569 non-null    float64\n",
      " 17  compactness_se           569 non-null    float64\n",
      " 18  concavity_se             569 non-null    float64\n",
      " 19  concave points_se        569 non-null    float64\n",
      " 20  symmetry_se              569 non-null    float64\n",
      " 21  fractal_dimension_se     569 non-null    float64\n",
      " 22  radius_worst             569 non-null    float64\n",
      " 23  texture_worst            569 non-null    float64\n",
      " 24  perimeter_worst          569 non-null    float64\n",
      " 25  area_worst               569 non-null    float64\n",
      " 26  smoothness_worst         569 non-null    float64\n",
      " 27  compactness_worst        569 non-null    float64\n",
      " 28  concavity_worst          569 non-null    float64\n",
      " 29  concave points_worst     569 non-null    float64\n",
      " 30  symmetry_worst           569 non-null    float64\n",
      " 31  fractal_dimension_worst  569 non-null    float64\n",
      " 32  Unnamed: 32              0 non-null      float64\n",
      "dtypes: float64(31), int64(1), object(1)\n",
      "memory usage: 146.8+ KB\n"
     ]
    }
   ],
   "source": [
    "df.info()"
   ]
  },
  {
   "cell_type": "markdown",
   "id": "bf2bbb64",
   "metadata": {},
   "source": [
    "# Data Pre-Processing"
   ]
  },
  {
   "cell_type": "markdown",
   "id": "df72fef6",
   "metadata": {},
   "source": [
    "The \"Unnamed: 32\" column got added during the importing of data, so we shall drop that from the dataframe, \"inplace = True\" will perform the operation on the original dataframe itself and not make a copy"
   ]
  },
  {
   "cell_type": "code",
   "execution_count": 6,
   "id": "d5d167c1",
   "metadata": {
    "scrolled": true
   },
   "outputs": [],
   "source": [
    "df.drop(['Unnamed: 32'], axis = 'columns',inplace=True)"
   ]
  },
  {
   "cell_type": "markdown",
   "id": "a43b7de1",
   "metadata": {},
   "source": [
    "The targets column \"diagnosis\" is not a numeric column, so we need to encode this column before training our model.\n",
    "\n",
    "pd.get_dummies() function will create two dummy columns of the needed encoded data, this only works for columns with binary labels, in our case its \"M\" and \"B\".  For other cases we will use the OneHotEnoder method from sklearn"
   ]
  },
  {
   "cell_type": "code",
   "execution_count": 7,
   "id": "e7dffc5e",
   "metadata": {},
   "outputs": [],
   "source": [
    "dummy = pd.get_dummies(df['diagnosis'])"
   ]
  },
  {
   "cell_type": "code",
   "execution_count": 8,
   "id": "fd5789f9",
   "metadata": {},
   "outputs": [],
   "source": [
    "#Concatenates the new dummy columns to the original dataframe\n",
    "df = pd.concat((df, dummy), axis = 'columns')"
   ]
  },
  {
   "cell_type": "code",
   "execution_count": 9,
   "id": "384b9cf8",
   "metadata": {},
   "outputs": [],
   "source": [
    "#Re-names the columns that were just concatenated\n",
    "df.rename(columns={'M':'Malignant', 'B': 'Benign'}, inplace=True)"
   ]
  },
  {
   "cell_type": "code",
   "execution_count": 10,
   "id": "088847a3",
   "metadata": {},
   "outputs": [],
   "source": [
    "#We will use \"Malignant\" as our label column, 1 indicating Breast Cancer positive, and 0 vice versa\n",
    "df.drop(['diagnosis','Benign'], axis = 'columns',inplace=True)"
   ]
  },
  {
   "cell_type": "code",
   "execution_count": 11,
   "id": "3614e951",
   "metadata": {},
   "outputs": [
    {
     "name": "stdout",
     "output_type": "stream",
     "text": [
      "<class 'pandas.core.frame.DataFrame'>\n",
      "RangeIndex: 569 entries, 0 to 568\n",
      "Data columns (total 32 columns):\n",
      " #   Column                   Non-Null Count  Dtype  \n",
      "---  ------                   --------------  -----  \n",
      " 0   id                       569 non-null    int64  \n",
      " 1   radius_mean              569 non-null    float64\n",
      " 2   texture_mean             569 non-null    float64\n",
      " 3   perimeter_mean           569 non-null    float64\n",
      " 4   area_mean                569 non-null    float64\n",
      " 5   smoothness_mean          569 non-null    float64\n",
      " 6   compactness_mean         569 non-null    float64\n",
      " 7   concavity_mean           569 non-null    float64\n",
      " 8   concave points_mean      569 non-null    float64\n",
      " 9   symmetry_mean            569 non-null    float64\n",
      " 10  fractal_dimension_mean   569 non-null    float64\n",
      " 11  radius_se                569 non-null    float64\n",
      " 12  texture_se               569 non-null    float64\n",
      " 13  perimeter_se             569 non-null    float64\n",
      " 14  area_se                  569 non-null    float64\n",
      " 15  smoothness_se            569 non-null    float64\n",
      " 16  compactness_se           569 non-null    float64\n",
      " 17  concavity_se             569 non-null    float64\n",
      " 18  concave points_se        569 non-null    float64\n",
      " 19  symmetry_se              569 non-null    float64\n",
      " 20  fractal_dimension_se     569 non-null    float64\n",
      " 21  radius_worst             569 non-null    float64\n",
      " 22  texture_worst            569 non-null    float64\n",
      " 23  perimeter_worst          569 non-null    float64\n",
      " 24  area_worst               569 non-null    float64\n",
      " 25  smoothness_worst         569 non-null    float64\n",
      " 26  compactness_worst        569 non-null    float64\n",
      " 27  concavity_worst          569 non-null    float64\n",
      " 28  concave points_worst     569 non-null    float64\n",
      " 29  symmetry_worst           569 non-null    float64\n",
      " 30  fractal_dimension_worst  569 non-null    float64\n",
      " 31  Malignant                569 non-null    uint8  \n",
      "dtypes: float64(30), int64(1), uint8(1)\n",
      "memory usage: 138.5 KB\n"
     ]
    }
   ],
   "source": [
    "#Check all of our columns so \"label\" column is the last column, and all features are of numeric types\n",
    "df.info()"
   ]
  },
  {
   "cell_type": "markdown",
   "id": "14d7eb57",
   "metadata": {},
   "source": [
    "# Data Preparation for Model Training"
   ]
  },
  {
   "cell_type": "code",
   "execution_count": 12,
   "id": "5432bff8",
   "metadata": {},
   "outputs": [],
   "source": [
    "X = df.iloc[:, : -1]\n",
    "Y = df.iloc[:,-1:]"
   ]
  },
  {
   "cell_type": "code",
   "execution_count": 13,
   "id": "ad685bd3",
   "metadata": {},
   "outputs": [],
   "source": [
    "from sklearn.model_selection import train_test_split\n",
    "\n",
    "#function to separate our inputs and outputs and randomizes their observations\n",
    "def split_data (features, labels, test_percent):\n",
    "    X_train, X_test, Y_train, Y_test = train_test_split(features, labels, test_size=test_percent, random_state=42)\n",
    "    return X_train, X_test, Y_train, Y_test"
   ]
  },
  {
   "cell_type": "code",
   "execution_count": 14,
   "id": "9caf91ee",
   "metadata": {},
   "outputs": [],
   "source": [
    "X_train, X_test, Y_train, Y_test = split_data(X, Y, 0.2)"
   ]
  },
  {
   "cell_type": "code",
   "execution_count": 15,
   "id": "888e2555",
   "metadata": {},
   "outputs": [
    {
     "name": "stdout",
     "output_type": "stream",
     "text": [
      "(455, 31)\n",
      "(455, 1)\n",
      "(114, 31)\n",
      "(114, 1)\n"
     ]
    }
   ],
   "source": [
    "#Show the shape of each split dataframe\n",
    "print(X_train.shape)\n",
    "print(Y_train.shape)\n",
    "print(X_test.shape)\n",
    "print(Y_test.shape)"
   ]
  },
  {
   "cell_type": "markdown",
   "id": "f6d33eaa",
   "metadata": {},
   "source": [
    "First convert each of the dataframe objects to numpy arrays of Dtype='float32' then to tensor objects"
   ]
  },
  {
   "cell_type": "code",
   "execution_count": 16,
   "id": "8d167fb0",
   "metadata": {},
   "outputs": [],
   "source": [
    "inputs = X_train.to_numpy(dtype='float32')\n",
    "targets = Y_train.to_numpy(dtype='float32')\n",
    "\n",
    "inputs_test = X_test.to_numpy(dtype='float32')\n",
    "targets_test = Y_test.to_numpy(dtype='float32')"
   ]
  },
  {
   "cell_type": "markdown",
   "id": "bb4df2b5",
   "metadata": {},
   "source": [
    "Create two variables to hold the # of rows (n_samples) and # of columns (n_features) to be used later"
   ]
  },
  {
   "cell_type": "code",
   "execution_count": 17,
   "id": "0d8f1622",
   "metadata": {},
   "outputs": [],
   "source": [
    "n_samples, n_features = inputs.shape"
   ]
  },
  {
   "cell_type": "markdown",
   "id": "d17860eb",
   "metadata": {},
   "source": [
    "### Standardize Features "
   ]
  },
  {
   "cell_type": "markdown",
   "id": "b490e4ba",
   "metadata": {},
   "source": [
    "We standardize the features by removing the mean and scaling to unit variance (Calculating the Z score).  Centering and scaling happens independently on each feature by computing the relevant statistics on the samples in the training set.  Mean and standard deviation are then stored to be used on later data using 'transform'.\n",
    "\n",
    "Standardization of a dataset is a common requirement for many ML estimators as they might behave poorly if the individual features do not more or less look like standard normally distributed data (eg. gaussian with 0 mean and unit variance).  This is the case for a Logistic Regressor\n",
    "\n",
    "For instance many elements used in the objective function of a learning algorithm (such as the RBF kernel of SVMs or the L1 and L2 regularizers of linear models) assume that all features are centered around 0 and have variance in the same order. If a feature has a variance that is orders of magnitude larger than others, it might dominate the objective function and make the estimator unable to learn from other features correctly as expected "
   ]
  },
  {
   "cell_type": "code",
   "execution_count": 18,
   "id": "93f853cf",
   "metadata": {},
   "outputs": [],
   "source": [
    "from sklearn.preprocessing import StandardScaler\n",
    "\n",
    "sc = StandardScaler()\n",
    "inputs = sc.fit_transform(inputs)\n",
    "inputs_test = sc.transform(inputs_test)"
   ]
  },
  {
   "cell_type": "markdown",
   "id": "6bcd6fcc",
   "metadata": {},
   "source": [
    "## Import torch and Convert to tensors"
   ]
  },
  {
   "cell_type": "code",
   "execution_count": 19,
   "id": "d4f4fa82",
   "metadata": {},
   "outputs": [],
   "source": [
    "import torch\n",
    "\n",
    "inputs = torch.from_numpy(inputs)\n",
    "targets = torch.from_numpy(targets)\n",
    "\n",
    "inputs_test = torch.from_numpy(inputs_test)\n",
    "targets_test = torch.from_numpy(targets_test)"
   ]
  },
  {
   "cell_type": "markdown",
   "id": "6e117cd4",
   "metadata": {},
   "source": [
    "# Logistic Regression Model"
   ]
  },
  {
   "cell_type": "markdown",
   "id": "839003d2",
   "metadata": {},
   "source": [
    "We will be using some of the methods from torch's neural network class \"torch.nn\"  The next function performs the logistic regression and then \"squishes\" the output values between 0 & 1 using a sigmoid function\n"
   ]
  },
  {
   "cell_type": "code",
   "execution_count": 20,
   "id": "f2ad048c",
   "metadata": {},
   "outputs": [],
   "source": [
    "import torch.nn as nn\n",
    "\n",
    "class Model(torch.nn.Module):\n",
    "    def __init__(self, n_input_features):\n",
    "        super(Model, self).__init__()\n",
    "        self.linear = torch.nn.Linear(n_input_features, 1)\n",
    "        \n",
    "    def forward(self, x):\n",
    "        y_predicted = torch.sigmoid(self.linear(x))\n",
    "        return y_predicted\n",
    "    "
   ]
  },
  {
   "cell_type": "code",
   "execution_count": 21,
   "id": "2a02b1f0",
   "metadata": {},
   "outputs": [],
   "source": [
    "def training_loop(n_features, learning_rate, num_epochs,  inputs, targets):\n",
    "    model = Model(n_features)\n",
    "    criterion = torch.nn.BCELoss()\n",
    "    optimizer = torch.optim.SGD(model.parameters(), lr = learning_rate)\n",
    "    for epoch in range(num_epochs):\n",
    "        y_predicted = model(inputs)\n",
    "        loss = criterion(y_predicted, targets)\n",
    "        loss.backward()\n",
    "        optimizer.step()\n",
    "        optimizer.zero_grad()\n",
    "        if (epoch + 1)% 100 == 0:\n",
    "            print(f'epoch: {epoch + 1}, loss = {loss.item():.4f}')\n",
    "    with torch.no_grad():\n",
    "        y_predicted = model(inputs_test)\n",
    "        y_predicted_cls = y_predicted.round()\n",
    "        acc = y_predicted_cls.eq(targets_test).sum() / float(targets_test.numel())\n",
    "        print(f'accuracy: {acc.item():.4f}')\n",
    "    return y_predicted_cls"
   ]
  },
  {
   "cell_type": "code",
   "execution_count": 22,
   "id": "65287296",
   "metadata": {
    "scrolled": true
   },
   "outputs": [
    {
     "name": "stdout",
     "output_type": "stream",
     "text": [
      "epoch: 100, loss = 0.2696\n",
      "epoch: 200, loss = 0.1972\n",
      "epoch: 300, loss = 0.1661\n",
      "epoch: 400, loss = 0.1480\n",
      "epoch: 500, loss = 0.1359\n",
      "epoch: 600, loss = 0.1272\n",
      "epoch: 700, loss = 0.1205\n",
      "epoch: 800, loss = 0.1151\n",
      "epoch: 900, loss = 0.1107\n",
      "epoch: 1000, loss = 0.1070\n",
      "accuracy: 0.9825\n"
     ]
    }
   ],
   "source": [
    "# Function Call\n",
    "y_predicted_cls = training_loop(n_features, 0.01, 1000, inputs, targets)"
   ]
  },
  {
   "cell_type": "markdown",
   "id": "d1091911",
   "metadata": {},
   "source": [
    "## Confusion Matrix"
   ]
  },
  {
   "cell_type": "code",
   "execution_count": 23,
   "id": "eea4cd35",
   "metadata": {},
   "outputs": [],
   "source": [
    "from sklearn.metrics import confusion_matrix\n",
    "import seaborn as sns"
   ]
  },
  {
   "cell_type": "code",
   "execution_count": 24,
   "id": "f5bd6bac",
   "metadata": {},
   "outputs": [],
   "source": [
    "cf_matrix = confusion_matrix(targets_test.numpy(), y_predicted_cls.numpy())"
   ]
  },
  {
   "cell_type": "code",
   "execution_count": 25,
   "id": "70b9a7a4",
   "metadata": {},
   "outputs": [
    {
     "data": {
      "text/plain": [
       "array([[70,  1],\n",
       "       [ 1, 42]])"
      ]
     },
     "execution_count": 25,
     "metadata": {},
     "output_type": "execute_result"
    }
   ],
   "source": [
    "cf_matrix"
   ]
  },
  {
   "cell_type": "code",
   "execution_count": 26,
   "id": "62e2fa96",
   "metadata": {},
   "outputs": [
    {
     "data": {
      "image/png": "[encoded data removed]",
      "text/plain": [
       "<Figure size 432x288 with 2 Axes>"
      ]
     },
     "metadata": {
      "needs_background": "light"
     },
     "output_type": "display_data"
    }
   ],
   "source": [
    "ax = sns.heatmap(cf_matrix/np.sum(cf_matrix), annot=True, \n",
    "            fmt='.2%', cmap='Reds')\n",
    "\n",
    "ax.set_title('Seaborn Confusion Matrix with labels\\n\\n');\n",
    "ax.set_xlabel('\\nPredicted Values')\n",
    "ax.set_ylabel('Actual Values ');\n",
    "\n",
    "## Ticket labels - List must be in alphabetical order\n",
    "ax.xaxis.set_ticklabels(['False','True'])\n",
    "ax.yaxis.set_ticklabels(['False','True'])\n",
    "\n",
    "## Display the visualization of the Confusion Matrix.\n",
    "plt.show()"
   ]
  },
  {
   "cell_type": "markdown",
   "id": "f4d8a217",
   "metadata": {},
   "source": [
    "## Precision and Recall"
   ]
  },
  {
   "cell_type": "markdown",
   "id": "3b045c40",
   "metadata": {},
   "source": [
    "Precision = TP/(TP+FP)\n",
    "\n",
    "Recall = TP/(TP + FN)"
   ]
  },
  {
   "cell_type": "code",
   "execution_count": 27,
   "id": "f354865d",
   "metadata": {},
   "outputs": [
    {
     "name": "stdout",
     "output_type": "stream",
     "text": [
      "0.9767441860465116 0.9767441860465116\n"
     ]
    }
   ],
   "source": [
    "from sklearn.metrics import precision_score, recall_score\n",
    "\n",
    "precision = precision_score(targets_test.numpy(), y_predicted_cls.numpy())  # == 42/(42+1)\n",
    "recall = recall_score(targets_test.numpy(), y_predicted_cls.numpy())   # == 42.(42+1)\n",
    "\n",
    "print(precision, recall)"
   ]
  },
  {
   "cell_type": "markdown",
   "id": "4f86f1b3",
   "metadata": {},
   "source": [
    "In this case both the recall and precision are the exact same as there is an even amount of Fale Positives and False Negatives"
   ]
  },
  {
   "cell_type": "markdown",
   "id": "7a44f0c3",
   "metadata": {},
   "source": [
    "## ROC Curve"
   ]
  },
  {
   "cell_type": "markdown",
   "id": "cea819a3",
   "metadata": {},
   "source": [
    "The receiver operating characteristic (ROC) curve plots the true positive rate (recall) against the false positive rate (FPR).  The ROC curve plots sensitivity (recall) versus 1 - specifity"
   ]
  },
  {
   "cell_type": "code",
   "execution_count": 28,
   "id": "6c49725f",
   "metadata": {},
   "outputs": [],
   "source": [
    "from sklearn.metrics import roc_curve\n",
    "\n",
    "fpr, tpr, thresholds = roc_curve(targets_test.numpy(), y_predicted_cls.numpy())"
   ]
  },
  {
   "cell_type": "code",
   "execution_count": 29,
   "id": "c6f73f84",
   "metadata": {},
   "outputs": [],
   "source": [
    "def plot_roc_curve(fpr, tpr, label = None):\n",
    "    plt.plot(fpr, tpr, linewidth=2, label=label)\n",
    "    plt.plot([0,1],[0,1],'k--')\n",
    "    plt.xlabel('False Positive Rate')\n",
    "    plt.ylabel('True Positive Rate (Recall)')\n",
    "    plt.grid()"
   ]
  },
  {
   "cell_type": "code",
   "execution_count": 30,
   "id": "f2966209",
   "metadata": {},
   "outputs": [
    {
     "data": {
      "image/png": "[encoded data removed]",
      "text/plain": [
       "<Figure size 432x288 with 1 Axes>"
      ]
     },
     "metadata": {
      "needs_background": "light"
     },
     "output_type": "display_data"
    }
   ],
   "source": [
    "plot_roc_curve(fpr, tpr)\n",
    "plt.show()"
   ]
  }
 ],
 "metadata": {
  "kernelspec": {
   "display_name": "Python 3 (ipykernel)",
   "language": "python",
   "name": "python3"
  },
  "language_info": {
   "codemirror_mode": {
    "name": "ipython",
    "version": 3
   },
   "file_extension": ".py",
   "mimetype": "text/x-python",
   "name": "python",
   "nbconvert_exporter": "python",
   "pygments_lexer": "ipython3",
   "version": "3.9.7"
  }
 },
 "nbformat": 4,
 "nbformat_minor": 5
}
